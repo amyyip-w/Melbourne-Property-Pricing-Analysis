{
 "cells": [
  {
   "cell_type": "markdown",
   "id": "0c58e9bf",
   "metadata": {},
   "source": [
    "# 6.1 Melbourne Housing Project - Data Cleaning and Profiling"
   ]
  },
  {
   "cell_type": "markdown",
   "id": "3e22d753",
   "metadata": {},
   "source": [
    "### This script contains the following:\n",
    "\n",
    "#### 1. Import libraries\n",
    "#### 2. Import data\n",
    "#### 3. Data wrangling \n",
    "#### 4. Data consistency checks and cleaning \n",
    "#### 5. Data profiling\n",
    "#### 6. Export data"
   ]
  },
  {
   "cell_type": "markdown",
   "id": "b95f0cd8",
   "metadata": {},
   "source": [
    "## 01. Import libraries"
   ]
  },
  {
   "cell_type": "code",
   "execution_count": 1,
   "id": "ffffedb3",
   "metadata": {},
   "outputs": [],
   "source": [
    "# Import libraries\n",
    "\n",
    "import pandas as pd\n",
    "import numpy as np\n",
    "import os\n",
    "import matplotlib.pyplot as plt\n",
    "import seaborn as sns\n",
    "import scipy"
   ]
  },
  {
   "cell_type": "markdown",
   "id": "09f816ea",
   "metadata": {},
   "source": [
    "## 02. Import data"
   ]
  },
  {
   "cell_type": "code",
   "execution_count": 2,
   "id": "bab38811",
   "metadata": {},
   "outputs": [],
   "source": [
    "# Import data\n",
    "\n",
    "path = r'C:\\Users\\Amy Yip\\Desktop\\Career Foundry Data Analytics\\Achievement 6 Advanced Analytics and Dashboard Designs\\07-05-2022 Melbourne Housing Analysis'\n",
    "\n",
    "df_housing = pd.read_csv(os.path.join(path, '02 Data', 'Original Data', 'Melbourne_housing_FULL_updated.csv'), index_col = False)"
   ]
  },
  {
   "cell_type": "code",
   "execution_count": 3,
   "id": "1bdb2e2c",
   "metadata": {},
   "outputs": [
    {
     "data": {
      "text/plain": [
       "(34857, 22)"
      ]
     },
     "execution_count": 3,
     "metadata": {},
     "output_type": "execute_result"
    }
   ],
   "source": [
    "df_housing.shape"
   ]
  },
  {
   "cell_type": "code",
   "execution_count": 4,
   "id": "64fcff0a",
   "metadata": {},
   "outputs": [],
   "source": [
    "pd.options.display.max_columns = None"
   ]
  },
  {
   "cell_type": "code",
   "execution_count": 5,
   "id": "6699b6af",
   "metadata": {},
   "outputs": [
    {
     "data": {
      "text/html": [
       "<div>\n",
       "<style scoped>\n",
       "    .dataframe tbody tr th:only-of-type {\n",
       "        vertical-align: middle;\n",
       "    }\n",
       "\n",
       "    .dataframe tbody tr th {\n",
       "        vertical-align: top;\n",
       "    }\n",
       "\n",
       "    .dataframe thead th {\n",
       "        text-align: right;\n",
       "    }\n",
       "</style>\n",
       "<table border=\"1\" class=\"dataframe\">\n",
       "  <thead>\n",
       "    <tr style=\"text-align: right;\">\n",
       "      <th></th>\n",
       "      <th>Suburb</th>\n",
       "      <th>Address</th>\n",
       "      <th>Rooms</th>\n",
       "      <th>Type</th>\n",
       "      <th>Price</th>\n",
       "      <th>Method</th>\n",
       "      <th>SellerG</th>\n",
       "      <th>Date</th>\n",
       "      <th>Distance</th>\n",
       "      <th>Postcode</th>\n",
       "      <th>Bedroom2</th>\n",
       "      <th>Bathroom</th>\n",
       "      <th>Car</th>\n",
       "      <th>Landsize</th>\n",
       "      <th>BuildingArea</th>\n",
       "      <th>YearBuilt</th>\n",
       "      <th>CouncilArea</th>\n",
       "      <th>CouncilArea1</th>\n",
       "      <th>Lattitude</th>\n",
       "      <th>Longtitude</th>\n",
       "      <th>Regionname</th>\n",
       "      <th>Propertycount</th>\n",
       "    </tr>\n",
       "  </thead>\n",
       "  <tbody>\n",
       "    <tr>\n",
       "      <th>0</th>\n",
       "      <td>Abbotsford</td>\n",
       "      <td>68 Studley St</td>\n",
       "      <td>2</td>\n",
       "      <td>h</td>\n",
       "      <td>NaN</td>\n",
       "      <td>SS</td>\n",
       "      <td>Jellis</td>\n",
       "      <td>3/09/2016</td>\n",
       "      <td>2.5</td>\n",
       "      <td>3067.0</td>\n",
       "      <td>2.0</td>\n",
       "      <td>1.0</td>\n",
       "      <td>1.0</td>\n",
       "      <td>126.0</td>\n",
       "      <td>NaN</td>\n",
       "      <td>NaN</td>\n",
       "      <td>Yarra City Council</td>\n",
       "      <td>Yarra</td>\n",
       "      <td>-37.8014</td>\n",
       "      <td>144.9958</td>\n",
       "      <td>Northern Metropolitan</td>\n",
       "      <td>4019.0</td>\n",
       "    </tr>\n",
       "    <tr>\n",
       "      <th>1</th>\n",
       "      <td>Abbotsford</td>\n",
       "      <td>85 Turner St</td>\n",
       "      <td>2</td>\n",
       "      <td>h</td>\n",
       "      <td>1480000.0</td>\n",
       "      <td>S</td>\n",
       "      <td>Biggin</td>\n",
       "      <td>3/12/2016</td>\n",
       "      <td>2.5</td>\n",
       "      <td>3067.0</td>\n",
       "      <td>2.0</td>\n",
       "      <td>1.0</td>\n",
       "      <td>1.0</td>\n",
       "      <td>202.0</td>\n",
       "      <td>NaN</td>\n",
       "      <td>NaN</td>\n",
       "      <td>Yarra City Council</td>\n",
       "      <td>Yarra</td>\n",
       "      <td>-37.7996</td>\n",
       "      <td>144.9984</td>\n",
       "      <td>Northern Metropolitan</td>\n",
       "      <td>4019.0</td>\n",
       "    </tr>\n",
       "    <tr>\n",
       "      <th>2</th>\n",
       "      <td>Abbotsford</td>\n",
       "      <td>25 Bloomburg St</td>\n",
       "      <td>2</td>\n",
       "      <td>h</td>\n",
       "      <td>1035000.0</td>\n",
       "      <td>S</td>\n",
       "      <td>Biggin</td>\n",
       "      <td>4/02/2016</td>\n",
       "      <td>2.5</td>\n",
       "      <td>3067.0</td>\n",
       "      <td>2.0</td>\n",
       "      <td>1.0</td>\n",
       "      <td>0.0</td>\n",
       "      <td>156.0</td>\n",
       "      <td>79.0</td>\n",
       "      <td>1900.0</td>\n",
       "      <td>Yarra City Council</td>\n",
       "      <td>Yarra</td>\n",
       "      <td>-37.8079</td>\n",
       "      <td>144.9934</td>\n",
       "      <td>Northern Metropolitan</td>\n",
       "      <td>4019.0</td>\n",
       "    </tr>\n",
       "    <tr>\n",
       "      <th>3</th>\n",
       "      <td>Abbotsford</td>\n",
       "      <td>18/659 Victoria St</td>\n",
       "      <td>3</td>\n",
       "      <td>u</td>\n",
       "      <td>NaN</td>\n",
       "      <td>VB</td>\n",
       "      <td>Rounds</td>\n",
       "      <td>4/02/2016</td>\n",
       "      <td>2.5</td>\n",
       "      <td>3067.0</td>\n",
       "      <td>3.0</td>\n",
       "      <td>2.0</td>\n",
       "      <td>1.0</td>\n",
       "      <td>0.0</td>\n",
       "      <td>NaN</td>\n",
       "      <td>NaN</td>\n",
       "      <td>Yarra City Council</td>\n",
       "      <td>Yarra</td>\n",
       "      <td>-37.8114</td>\n",
       "      <td>145.0116</td>\n",
       "      <td>Northern Metropolitan</td>\n",
       "      <td>4019.0</td>\n",
       "    </tr>\n",
       "    <tr>\n",
       "      <th>4</th>\n",
       "      <td>Abbotsford</td>\n",
       "      <td>5 Charles St</td>\n",
       "      <td>3</td>\n",
       "      <td>h</td>\n",
       "      <td>1465000.0</td>\n",
       "      <td>SP</td>\n",
       "      <td>Biggin</td>\n",
       "      <td>4/03/2017</td>\n",
       "      <td>2.5</td>\n",
       "      <td>3067.0</td>\n",
       "      <td>3.0</td>\n",
       "      <td>2.0</td>\n",
       "      <td>0.0</td>\n",
       "      <td>134.0</td>\n",
       "      <td>150.0</td>\n",
       "      <td>1900.0</td>\n",
       "      <td>Yarra City Council</td>\n",
       "      <td>Yarra</td>\n",
       "      <td>-37.8093</td>\n",
       "      <td>144.9944</td>\n",
       "      <td>Northern Metropolitan</td>\n",
       "      <td>4019.0</td>\n",
       "    </tr>\n",
       "  </tbody>\n",
       "</table>\n",
       "</div>"
      ],
      "text/plain": [
       "       Suburb             Address  Rooms Type      Price Method SellerG  \\\n",
       "0  Abbotsford       68 Studley St      2    h        NaN     SS  Jellis   \n",
       "1  Abbotsford        85 Turner St      2    h  1480000.0      S  Biggin   \n",
       "2  Abbotsford     25 Bloomburg St      2    h  1035000.0      S  Biggin   \n",
       "3  Abbotsford  18/659 Victoria St      3    u        NaN     VB  Rounds   \n",
       "4  Abbotsford        5 Charles St      3    h  1465000.0     SP  Biggin   \n",
       "\n",
       "        Date  Distance  Postcode  Bedroom2  Bathroom  Car  Landsize  \\\n",
       "0  3/09/2016       2.5    3067.0       2.0       1.0  1.0     126.0   \n",
       "1  3/12/2016       2.5    3067.0       2.0       1.0  1.0     202.0   \n",
       "2  4/02/2016       2.5    3067.0       2.0       1.0  0.0     156.0   \n",
       "3  4/02/2016       2.5    3067.0       3.0       2.0  1.0       0.0   \n",
       "4  4/03/2017       2.5    3067.0       3.0       2.0  0.0     134.0   \n",
       "\n",
       "   BuildingArea  YearBuilt         CouncilArea CouncilArea1  Lattitude  \\\n",
       "0           NaN        NaN  Yarra City Council        Yarra   -37.8014   \n",
       "1           NaN        NaN  Yarra City Council        Yarra   -37.7996   \n",
       "2          79.0     1900.0  Yarra City Council        Yarra   -37.8079   \n",
       "3           NaN        NaN  Yarra City Council        Yarra   -37.8114   \n",
       "4         150.0     1900.0  Yarra City Council        Yarra   -37.8093   \n",
       "\n",
       "   Longtitude             Regionname  Propertycount  \n",
       "0    144.9958  Northern Metropolitan         4019.0  \n",
       "1    144.9984  Northern Metropolitan         4019.0  \n",
       "2    144.9934  Northern Metropolitan         4019.0  \n",
       "3    145.0116  Northern Metropolitan         4019.0  \n",
       "4    144.9944  Northern Metropolitan         4019.0  "
      ]
     },
     "execution_count": 5,
     "metadata": {},
     "output_type": "execute_result"
    }
   ],
   "source": [
    "df_housing.head()"
   ]
  },
  {
   "cell_type": "code",
   "execution_count": 6,
   "id": "2218477b",
   "metadata": {},
   "outputs": [
    {
     "data": {
      "text/html": [
       "<div>\n",
       "<style scoped>\n",
       "    .dataframe tbody tr th:only-of-type {\n",
       "        vertical-align: middle;\n",
       "    }\n",
       "\n",
       "    .dataframe tbody tr th {\n",
       "        vertical-align: top;\n",
       "    }\n",
       "\n",
       "    .dataframe thead th {\n",
       "        text-align: right;\n",
       "    }\n",
       "</style>\n",
       "<table border=\"1\" class=\"dataframe\">\n",
       "  <thead>\n",
       "    <tr style=\"text-align: right;\">\n",
       "      <th></th>\n",
       "      <th>Rooms</th>\n",
       "      <th>Price</th>\n",
       "      <th>Distance</th>\n",
       "      <th>Postcode</th>\n",
       "      <th>Bedroom2</th>\n",
       "      <th>Bathroom</th>\n",
       "      <th>Car</th>\n",
       "      <th>Landsize</th>\n",
       "      <th>BuildingArea</th>\n",
       "      <th>YearBuilt</th>\n",
       "      <th>Lattitude</th>\n",
       "      <th>Longtitude</th>\n",
       "      <th>Propertycount</th>\n",
       "    </tr>\n",
       "  </thead>\n",
       "  <tbody>\n",
       "    <tr>\n",
       "      <th>count</th>\n",
       "      <td>34857.000000</td>\n",
       "      <td>2.724700e+04</td>\n",
       "      <td>34856.000000</td>\n",
       "      <td>34856.000000</td>\n",
       "      <td>26640.000000</td>\n",
       "      <td>26631.000000</td>\n",
       "      <td>26129.000000</td>\n",
       "      <td>23047.000000</td>\n",
       "      <td>13742.00000</td>\n",
       "      <td>15551.000000</td>\n",
       "      <td>26881.000000</td>\n",
       "      <td>26881.000000</td>\n",
       "      <td>34854.000000</td>\n",
       "    </tr>\n",
       "    <tr>\n",
       "      <th>mean</th>\n",
       "      <td>3.031012</td>\n",
       "      <td>1.050173e+06</td>\n",
       "      <td>11.184929</td>\n",
       "      <td>3116.062859</td>\n",
       "      <td>3.084647</td>\n",
       "      <td>1.624798</td>\n",
       "      <td>1.728845</td>\n",
       "      <td>593.598993</td>\n",
       "      <td>160.25640</td>\n",
       "      <td>1965.289885</td>\n",
       "      <td>-37.810634</td>\n",
       "      <td>145.001851</td>\n",
       "      <td>7572.888306</td>\n",
       "    </tr>\n",
       "    <tr>\n",
       "      <th>std</th>\n",
       "      <td>0.969933</td>\n",
       "      <td>6.414671e+05</td>\n",
       "      <td>6.788892</td>\n",
       "      <td>109.023903</td>\n",
       "      <td>0.980690</td>\n",
       "      <td>0.724212</td>\n",
       "      <td>1.010771</td>\n",
       "      <td>3398.841946</td>\n",
       "      <td>401.26706</td>\n",
       "      <td>37.328178</td>\n",
       "      <td>0.090279</td>\n",
       "      <td>0.120169</td>\n",
       "      <td>4428.090313</td>\n",
       "    </tr>\n",
       "    <tr>\n",
       "      <th>min</th>\n",
       "      <td>1.000000</td>\n",
       "      <td>8.500000e+04</td>\n",
       "      <td>0.000000</td>\n",
       "      <td>3000.000000</td>\n",
       "      <td>0.000000</td>\n",
       "      <td>0.000000</td>\n",
       "      <td>0.000000</td>\n",
       "      <td>0.000000</td>\n",
       "      <td>0.00000</td>\n",
       "      <td>1196.000000</td>\n",
       "      <td>-38.190430</td>\n",
       "      <td>144.423790</td>\n",
       "      <td>83.000000</td>\n",
       "    </tr>\n",
       "    <tr>\n",
       "      <th>25%</th>\n",
       "      <td>2.000000</td>\n",
       "      <td>6.350000e+05</td>\n",
       "      <td>6.400000</td>\n",
       "      <td>3051.000000</td>\n",
       "      <td>2.000000</td>\n",
       "      <td>1.000000</td>\n",
       "      <td>1.000000</td>\n",
       "      <td>224.000000</td>\n",
       "      <td>102.00000</td>\n",
       "      <td>1940.000000</td>\n",
       "      <td>-37.862950</td>\n",
       "      <td>144.933500</td>\n",
       "      <td>4385.000000</td>\n",
       "    </tr>\n",
       "    <tr>\n",
       "      <th>50%</th>\n",
       "      <td>3.000000</td>\n",
       "      <td>8.700000e+05</td>\n",
       "      <td>10.300000</td>\n",
       "      <td>3103.000000</td>\n",
       "      <td>3.000000</td>\n",
       "      <td>2.000000</td>\n",
       "      <td>2.000000</td>\n",
       "      <td>521.000000</td>\n",
       "      <td>136.00000</td>\n",
       "      <td>1970.000000</td>\n",
       "      <td>-37.807600</td>\n",
       "      <td>145.007800</td>\n",
       "      <td>6763.000000</td>\n",
       "    </tr>\n",
       "    <tr>\n",
       "      <th>75%</th>\n",
       "      <td>4.000000</td>\n",
       "      <td>1.295000e+06</td>\n",
       "      <td>14.000000</td>\n",
       "      <td>3156.000000</td>\n",
       "      <td>4.000000</td>\n",
       "      <td>2.000000</td>\n",
       "      <td>2.000000</td>\n",
       "      <td>670.000000</td>\n",
       "      <td>188.00000</td>\n",
       "      <td>2000.000000</td>\n",
       "      <td>-37.754100</td>\n",
       "      <td>145.071900</td>\n",
       "      <td>10412.000000</td>\n",
       "    </tr>\n",
       "    <tr>\n",
       "      <th>max</th>\n",
       "      <td>16.000000</td>\n",
       "      <td>1.120000e+07</td>\n",
       "      <td>48.100000</td>\n",
       "      <td>3978.000000</td>\n",
       "      <td>30.000000</td>\n",
       "      <td>12.000000</td>\n",
       "      <td>26.000000</td>\n",
       "      <td>433014.000000</td>\n",
       "      <td>44515.00000</td>\n",
       "      <td>2106.000000</td>\n",
       "      <td>-37.390200</td>\n",
       "      <td>145.526350</td>\n",
       "      <td>21650.000000</td>\n",
       "    </tr>\n",
       "  </tbody>\n",
       "</table>\n",
       "</div>"
      ],
      "text/plain": [
       "              Rooms         Price      Distance      Postcode      Bedroom2  \\\n",
       "count  34857.000000  2.724700e+04  34856.000000  34856.000000  26640.000000   \n",
       "mean       3.031012  1.050173e+06     11.184929   3116.062859      3.084647   \n",
       "std        0.969933  6.414671e+05      6.788892    109.023903      0.980690   \n",
       "min        1.000000  8.500000e+04      0.000000   3000.000000      0.000000   \n",
       "25%        2.000000  6.350000e+05      6.400000   3051.000000      2.000000   \n",
       "50%        3.000000  8.700000e+05     10.300000   3103.000000      3.000000   \n",
       "75%        4.000000  1.295000e+06     14.000000   3156.000000      4.000000   \n",
       "max       16.000000  1.120000e+07     48.100000   3978.000000     30.000000   \n",
       "\n",
       "           Bathroom           Car       Landsize  BuildingArea     YearBuilt  \\\n",
       "count  26631.000000  26129.000000   23047.000000   13742.00000  15551.000000   \n",
       "mean       1.624798      1.728845     593.598993     160.25640   1965.289885   \n",
       "std        0.724212      1.010771    3398.841946     401.26706     37.328178   \n",
       "min        0.000000      0.000000       0.000000       0.00000   1196.000000   \n",
       "25%        1.000000      1.000000     224.000000     102.00000   1940.000000   \n",
       "50%        2.000000      2.000000     521.000000     136.00000   1970.000000   \n",
       "75%        2.000000      2.000000     670.000000     188.00000   2000.000000   \n",
       "max       12.000000     26.000000  433014.000000   44515.00000   2106.000000   \n",
       "\n",
       "          Lattitude    Longtitude  Propertycount  \n",
       "count  26881.000000  26881.000000   34854.000000  \n",
       "mean     -37.810634    145.001851    7572.888306  \n",
       "std        0.090279      0.120169    4428.090313  \n",
       "min      -38.190430    144.423790      83.000000  \n",
       "25%      -37.862950    144.933500    4385.000000  \n",
       "50%      -37.807600    145.007800    6763.000000  \n",
       "75%      -37.754100    145.071900   10412.000000  \n",
       "max      -37.390200    145.526350   21650.000000  "
      ]
     },
     "execution_count": 6,
     "metadata": {},
     "output_type": "execute_result"
    }
   ],
   "source": [
    "df_housing.describe()"
   ]
  },
  {
   "cell_type": "markdown",
   "id": "69d1657e",
   "metadata": {},
   "source": [
    "Does not makes sense for the minimum SoldPrice to be at $1. Will need to be cleaned."
   ]
  },
  {
   "cell_type": "markdown",
   "id": "5b0cfd40",
   "metadata": {},
   "source": [
    "## 03. Data wrangling"
   ]
  },
  {
   "cell_type": "code",
   "execution_count": 7,
   "id": "f14f932c",
   "metadata": {},
   "outputs": [],
   "source": [
    "# Drop 'Id' column since it is irrelevant to the analysis\n",
    "\n",
    "df_housing = df_housing.drop(columns = ['Address', 'Method', 'SellerG', 'Bedroom2'])"
   ]
  },
  {
   "cell_type": "code",
   "execution_count": 8,
   "id": "09e345ec",
   "metadata": {},
   "outputs": [
    {
     "data": {
      "text/plain": [
       "(34857, 18)"
      ]
     },
     "execution_count": 8,
     "metadata": {},
     "output_type": "execute_result"
    }
   ],
   "source": [
    "df_housing.shape"
   ]
  },
  {
   "cell_type": "code",
   "execution_count": 9,
   "id": "63b06394",
   "metadata": {},
   "outputs": [
    {
     "data": {
      "text/html": [
       "<div>\n",
       "<style scoped>\n",
       "    .dataframe tbody tr th:only-of-type {\n",
       "        vertical-align: middle;\n",
       "    }\n",
       "\n",
       "    .dataframe tbody tr th {\n",
       "        vertical-align: top;\n",
       "    }\n",
       "\n",
       "    .dataframe thead th {\n",
       "        text-align: right;\n",
       "    }\n",
       "</style>\n",
       "<table border=\"1\" class=\"dataframe\">\n",
       "  <thead>\n",
       "    <tr style=\"text-align: right;\">\n",
       "      <th></th>\n",
       "      <th>Suburb</th>\n",
       "      <th>Rooms</th>\n",
       "      <th>Type</th>\n",
       "      <th>Price</th>\n",
       "      <th>Date</th>\n",
       "      <th>Distance</th>\n",
       "      <th>Postcode</th>\n",
       "      <th>Bathroom</th>\n",
       "      <th>Car</th>\n",
       "      <th>Landsize</th>\n",
       "      <th>BuildingArea</th>\n",
       "      <th>YearBuilt</th>\n",
       "      <th>CouncilArea</th>\n",
       "      <th>CouncilArea1</th>\n",
       "      <th>Lattitude</th>\n",
       "      <th>Longtitude</th>\n",
       "      <th>Regionname</th>\n",
       "      <th>Propertycount</th>\n",
       "    </tr>\n",
       "  </thead>\n",
       "  <tbody>\n",
       "    <tr>\n",
       "      <th>0</th>\n",
       "      <td>Abbotsford</td>\n",
       "      <td>2</td>\n",
       "      <td>h</td>\n",
       "      <td>NaN</td>\n",
       "      <td>3/09/2016</td>\n",
       "      <td>2.5</td>\n",
       "      <td>3067.0</td>\n",
       "      <td>1.0</td>\n",
       "      <td>1.0</td>\n",
       "      <td>126.0</td>\n",
       "      <td>NaN</td>\n",
       "      <td>NaN</td>\n",
       "      <td>Yarra City Council</td>\n",
       "      <td>Yarra</td>\n",
       "      <td>-37.8014</td>\n",
       "      <td>144.9958</td>\n",
       "      <td>Northern Metropolitan</td>\n",
       "      <td>4019.0</td>\n",
       "    </tr>\n",
       "    <tr>\n",
       "      <th>1</th>\n",
       "      <td>Abbotsford</td>\n",
       "      <td>2</td>\n",
       "      <td>h</td>\n",
       "      <td>1480000.0</td>\n",
       "      <td>3/12/2016</td>\n",
       "      <td>2.5</td>\n",
       "      <td>3067.0</td>\n",
       "      <td>1.0</td>\n",
       "      <td>1.0</td>\n",
       "      <td>202.0</td>\n",
       "      <td>NaN</td>\n",
       "      <td>NaN</td>\n",
       "      <td>Yarra City Council</td>\n",
       "      <td>Yarra</td>\n",
       "      <td>-37.7996</td>\n",
       "      <td>144.9984</td>\n",
       "      <td>Northern Metropolitan</td>\n",
       "      <td>4019.0</td>\n",
       "    </tr>\n",
       "    <tr>\n",
       "      <th>2</th>\n",
       "      <td>Abbotsford</td>\n",
       "      <td>2</td>\n",
       "      <td>h</td>\n",
       "      <td>1035000.0</td>\n",
       "      <td>4/02/2016</td>\n",
       "      <td>2.5</td>\n",
       "      <td>3067.0</td>\n",
       "      <td>1.0</td>\n",
       "      <td>0.0</td>\n",
       "      <td>156.0</td>\n",
       "      <td>79.0</td>\n",
       "      <td>1900.0</td>\n",
       "      <td>Yarra City Council</td>\n",
       "      <td>Yarra</td>\n",
       "      <td>-37.8079</td>\n",
       "      <td>144.9934</td>\n",
       "      <td>Northern Metropolitan</td>\n",
       "      <td>4019.0</td>\n",
       "    </tr>\n",
       "    <tr>\n",
       "      <th>3</th>\n",
       "      <td>Abbotsford</td>\n",
       "      <td>3</td>\n",
       "      <td>u</td>\n",
       "      <td>NaN</td>\n",
       "      <td>4/02/2016</td>\n",
       "      <td>2.5</td>\n",
       "      <td>3067.0</td>\n",
       "      <td>2.0</td>\n",
       "      <td>1.0</td>\n",
       "      <td>0.0</td>\n",
       "      <td>NaN</td>\n",
       "      <td>NaN</td>\n",
       "      <td>Yarra City Council</td>\n",
       "      <td>Yarra</td>\n",
       "      <td>-37.8114</td>\n",
       "      <td>145.0116</td>\n",
       "      <td>Northern Metropolitan</td>\n",
       "      <td>4019.0</td>\n",
       "    </tr>\n",
       "    <tr>\n",
       "      <th>4</th>\n",
       "      <td>Abbotsford</td>\n",
       "      <td>3</td>\n",
       "      <td>h</td>\n",
       "      <td>1465000.0</td>\n",
       "      <td>4/03/2017</td>\n",
       "      <td>2.5</td>\n",
       "      <td>3067.0</td>\n",
       "      <td>2.0</td>\n",
       "      <td>0.0</td>\n",
       "      <td>134.0</td>\n",
       "      <td>150.0</td>\n",
       "      <td>1900.0</td>\n",
       "      <td>Yarra City Council</td>\n",
       "      <td>Yarra</td>\n",
       "      <td>-37.8093</td>\n",
       "      <td>144.9944</td>\n",
       "      <td>Northern Metropolitan</td>\n",
       "      <td>4019.0</td>\n",
       "    </tr>\n",
       "  </tbody>\n",
       "</table>\n",
       "</div>"
      ],
      "text/plain": [
       "       Suburb  Rooms Type      Price       Date  Distance  Postcode  Bathroom  \\\n",
       "0  Abbotsford      2    h        NaN  3/09/2016       2.5    3067.0       1.0   \n",
       "1  Abbotsford      2    h  1480000.0  3/12/2016       2.5    3067.0       1.0   \n",
       "2  Abbotsford      2    h  1035000.0  4/02/2016       2.5    3067.0       1.0   \n",
       "3  Abbotsford      3    u        NaN  4/02/2016       2.5    3067.0       2.0   \n",
       "4  Abbotsford      3    h  1465000.0  4/03/2017       2.5    3067.0       2.0   \n",
       "\n",
       "   Car  Landsize  BuildingArea  YearBuilt         CouncilArea CouncilArea1  \\\n",
       "0  1.0     126.0           NaN        NaN  Yarra City Council        Yarra   \n",
       "1  1.0     202.0           NaN        NaN  Yarra City Council        Yarra   \n",
       "2  0.0     156.0          79.0     1900.0  Yarra City Council        Yarra   \n",
       "3  1.0       0.0           NaN        NaN  Yarra City Council        Yarra   \n",
       "4  0.0     134.0         150.0     1900.0  Yarra City Council        Yarra   \n",
       "\n",
       "   Lattitude  Longtitude             Regionname  Propertycount  \n",
       "0   -37.8014    144.9958  Northern Metropolitan         4019.0  \n",
       "1   -37.7996    144.9984  Northern Metropolitan         4019.0  \n",
       "2   -37.8079    144.9934  Northern Metropolitan         4019.0  \n",
       "3   -37.8114    145.0116  Northern Metropolitan         4019.0  \n",
       "4   -37.8093    144.9944  Northern Metropolitan         4019.0  "
      ]
     },
     "execution_count": 9,
     "metadata": {},
     "output_type": "execute_result"
    }
   ],
   "source": [
    "df_housing.head()"
   ]
  },
  {
   "cell_type": "code",
   "execution_count": 10,
   "id": "14bcd528",
   "metadata": {},
   "outputs": [],
   "source": [
    "# Rename columns for consistency\n",
    "\n",
    "df_housing.rename(columns = {'Rooms':'Num of Rooms', \n",
    "                             'Type':'Property Type', \n",
    "                             'Date':'Date Sold', \n",
    "                             'Distance':'Distance to CBD', \n",
    "                             'Bathroom':'Num of Bathrooms', \n",
    "                             'Car':'Num of Car Spaces', \n",
    "                             'Landsize':'Land Size', \n",
    "                             'BuildingArea':'Property Area Size', \n",
    "                             'YearBuilt':'Year Built', \n",
    "                             'CouncilArea':'Council Area',\n",
    "                             'CouncilArea1':'Council Area1',\n",
    "                             'Lattitude':'Latitude',\n",
    "                             'Longtitude':'Longitude',\n",
    "                             'Regionname':'Region', \n",
    "                             'Propertycount':'Property Vicinity Count'\n",
    "                                }, inplace = True)"
   ]
  },
  {
   "cell_type": "code",
   "execution_count": 11,
   "id": "5cf6c09b",
   "metadata": {},
   "outputs": [
    {
     "data": {
      "text/html": [
       "<div>\n",
       "<style scoped>\n",
       "    .dataframe tbody tr th:only-of-type {\n",
       "        vertical-align: middle;\n",
       "    }\n",
       "\n",
       "    .dataframe tbody tr th {\n",
       "        vertical-align: top;\n",
       "    }\n",
       "\n",
       "    .dataframe thead th {\n",
       "        text-align: right;\n",
       "    }\n",
       "</style>\n",
       "<table border=\"1\" class=\"dataframe\">\n",
       "  <thead>\n",
       "    <tr style=\"text-align: right;\">\n",
       "      <th></th>\n",
       "      <th>Suburb</th>\n",
       "      <th>Num of Rooms</th>\n",
       "      <th>Property Type</th>\n",
       "      <th>Price</th>\n",
       "      <th>Date Sold</th>\n",
       "      <th>Distance to CBD</th>\n",
       "      <th>Postcode</th>\n",
       "      <th>Num of Bathrooms</th>\n",
       "      <th>Num of Car Spaces</th>\n",
       "      <th>Land Size</th>\n",
       "      <th>Property Area Size</th>\n",
       "      <th>Year Built</th>\n",
       "      <th>Council Area</th>\n",
       "      <th>Council Area1</th>\n",
       "      <th>Latitude</th>\n",
       "      <th>Longitude</th>\n",
       "      <th>Region</th>\n",
       "      <th>Property Vicinity Count</th>\n",
       "    </tr>\n",
       "  </thead>\n",
       "  <tbody>\n",
       "    <tr>\n",
       "      <th>0</th>\n",
       "      <td>Abbotsford</td>\n",
       "      <td>2</td>\n",
       "      <td>h</td>\n",
       "      <td>NaN</td>\n",
       "      <td>3/09/2016</td>\n",
       "      <td>2.5</td>\n",
       "      <td>3067.0</td>\n",
       "      <td>1.0</td>\n",
       "      <td>1.0</td>\n",
       "      <td>126.0</td>\n",
       "      <td>NaN</td>\n",
       "      <td>NaN</td>\n",
       "      <td>Yarra City Council</td>\n",
       "      <td>Yarra</td>\n",
       "      <td>-37.8014</td>\n",
       "      <td>144.9958</td>\n",
       "      <td>Northern Metropolitan</td>\n",
       "      <td>4019.0</td>\n",
       "    </tr>\n",
       "    <tr>\n",
       "      <th>1</th>\n",
       "      <td>Abbotsford</td>\n",
       "      <td>2</td>\n",
       "      <td>h</td>\n",
       "      <td>1480000.0</td>\n",
       "      <td>3/12/2016</td>\n",
       "      <td>2.5</td>\n",
       "      <td>3067.0</td>\n",
       "      <td>1.0</td>\n",
       "      <td>1.0</td>\n",
       "      <td>202.0</td>\n",
       "      <td>NaN</td>\n",
       "      <td>NaN</td>\n",
       "      <td>Yarra City Council</td>\n",
       "      <td>Yarra</td>\n",
       "      <td>-37.7996</td>\n",
       "      <td>144.9984</td>\n",
       "      <td>Northern Metropolitan</td>\n",
       "      <td>4019.0</td>\n",
       "    </tr>\n",
       "    <tr>\n",
       "      <th>2</th>\n",
       "      <td>Abbotsford</td>\n",
       "      <td>2</td>\n",
       "      <td>h</td>\n",
       "      <td>1035000.0</td>\n",
       "      <td>4/02/2016</td>\n",
       "      <td>2.5</td>\n",
       "      <td>3067.0</td>\n",
       "      <td>1.0</td>\n",
       "      <td>0.0</td>\n",
       "      <td>156.0</td>\n",
       "      <td>79.0</td>\n",
       "      <td>1900.0</td>\n",
       "      <td>Yarra City Council</td>\n",
       "      <td>Yarra</td>\n",
       "      <td>-37.8079</td>\n",
       "      <td>144.9934</td>\n",
       "      <td>Northern Metropolitan</td>\n",
       "      <td>4019.0</td>\n",
       "    </tr>\n",
       "    <tr>\n",
       "      <th>3</th>\n",
       "      <td>Abbotsford</td>\n",
       "      <td>3</td>\n",
       "      <td>u</td>\n",
       "      <td>NaN</td>\n",
       "      <td>4/02/2016</td>\n",
       "      <td>2.5</td>\n",
       "      <td>3067.0</td>\n",
       "      <td>2.0</td>\n",
       "      <td>1.0</td>\n",
       "      <td>0.0</td>\n",
       "      <td>NaN</td>\n",
       "      <td>NaN</td>\n",
       "      <td>Yarra City Council</td>\n",
       "      <td>Yarra</td>\n",
       "      <td>-37.8114</td>\n",
       "      <td>145.0116</td>\n",
       "      <td>Northern Metropolitan</td>\n",
       "      <td>4019.0</td>\n",
       "    </tr>\n",
       "    <tr>\n",
       "      <th>4</th>\n",
       "      <td>Abbotsford</td>\n",
       "      <td>3</td>\n",
       "      <td>h</td>\n",
       "      <td>1465000.0</td>\n",
       "      <td>4/03/2017</td>\n",
       "      <td>2.5</td>\n",
       "      <td>3067.0</td>\n",
       "      <td>2.0</td>\n",
       "      <td>0.0</td>\n",
       "      <td>134.0</td>\n",
       "      <td>150.0</td>\n",
       "      <td>1900.0</td>\n",
       "      <td>Yarra City Council</td>\n",
       "      <td>Yarra</td>\n",
       "      <td>-37.8093</td>\n",
       "      <td>144.9944</td>\n",
       "      <td>Northern Metropolitan</td>\n",
       "      <td>4019.0</td>\n",
       "    </tr>\n",
       "  </tbody>\n",
       "</table>\n",
       "</div>"
      ],
      "text/plain": [
       "       Suburb  Num of Rooms Property Type      Price  Date Sold  \\\n",
       "0  Abbotsford             2             h        NaN  3/09/2016   \n",
       "1  Abbotsford             2             h  1480000.0  3/12/2016   \n",
       "2  Abbotsford             2             h  1035000.0  4/02/2016   \n",
       "3  Abbotsford             3             u        NaN  4/02/2016   \n",
       "4  Abbotsford             3             h  1465000.0  4/03/2017   \n",
       "\n",
       "   Distance to CBD  Postcode  Num of Bathrooms  Num of Car Spaces  Land Size  \\\n",
       "0              2.5    3067.0               1.0                1.0      126.0   \n",
       "1              2.5    3067.0               1.0                1.0      202.0   \n",
       "2              2.5    3067.0               1.0                0.0      156.0   \n",
       "3              2.5    3067.0               2.0                1.0        0.0   \n",
       "4              2.5    3067.0               2.0                0.0      134.0   \n",
       "\n",
       "   Property Area Size  Year Built        Council Area Council Area1  Latitude  \\\n",
       "0                 NaN         NaN  Yarra City Council         Yarra  -37.8014   \n",
       "1                 NaN         NaN  Yarra City Council         Yarra  -37.7996   \n",
       "2                79.0      1900.0  Yarra City Council         Yarra  -37.8079   \n",
       "3                 NaN         NaN  Yarra City Council         Yarra  -37.8114   \n",
       "4               150.0      1900.0  Yarra City Council         Yarra  -37.8093   \n",
       "\n",
       "   Longitude                 Region  Property Vicinity Count  \n",
       "0   144.9958  Northern Metropolitan                   4019.0  \n",
       "1   144.9984  Northern Metropolitan                   4019.0  \n",
       "2   144.9934  Northern Metropolitan                   4019.0  \n",
       "3   145.0116  Northern Metropolitan                   4019.0  \n",
       "4   144.9944  Northern Metropolitan                   4019.0  "
      ]
     },
     "execution_count": 11,
     "metadata": {},
     "output_type": "execute_result"
    }
   ],
   "source": [
    "df_housing.head()"
   ]
  },
  {
   "cell_type": "code",
   "execution_count": 12,
   "id": "a845b8a6",
   "metadata": {},
   "outputs": [
    {
     "data": {
      "text/plain": [
       "(34857, 18)"
      ]
     },
     "execution_count": 12,
     "metadata": {},
     "output_type": "execute_result"
    }
   ],
   "source": [
    "df_housing.shape"
   ]
  },
  {
   "cell_type": "code",
   "execution_count": 13,
   "id": "f7419dec",
   "metadata": {},
   "outputs": [],
   "source": [
    "# Reorder columns\n",
    "\n",
    "df_housing1 = df_housing[['Date Sold', \n",
    "                          'Price', \n",
    "                          'Year Built', \n",
    "                          'Land Size', \n",
    "                          'Property Area Size', \n",
    "                          'Property Type', \n",
    "                          'Num of Rooms', \n",
    "                          'Num of Bathrooms', \n",
    "                          'Num of Car Spaces', \n",
    "                          'Distance to CBD', \n",
    "                          'Suburb',\n",
    "                          'Postcode',\n",
    "                          'Council Area', \n",
    "                          'Council Area1', \n",
    "                          'Latitude', \n",
    "                          'Longitude', \n",
    "                          'Region', \n",
    "                          'Property Vicinity Count']]"
   ]
  },
  {
   "cell_type": "code",
   "execution_count": 14,
   "id": "135c1ea3",
   "metadata": {},
   "outputs": [
    {
     "data": {
      "text/plain": [
       "(34857, 18)"
      ]
     },
     "execution_count": 14,
     "metadata": {},
     "output_type": "execute_result"
    }
   ],
   "source": [
    "df_housing1.shape"
   ]
  },
  {
   "cell_type": "code",
   "execution_count": 15,
   "id": "aa44b699",
   "metadata": {},
   "outputs": [
    {
     "data": {
      "text/html": [
       "<div>\n",
       "<style scoped>\n",
       "    .dataframe tbody tr th:only-of-type {\n",
       "        vertical-align: middle;\n",
       "    }\n",
       "\n",
       "    .dataframe tbody tr th {\n",
       "        vertical-align: top;\n",
       "    }\n",
       "\n",
       "    .dataframe thead th {\n",
       "        text-align: right;\n",
       "    }\n",
       "</style>\n",
       "<table border=\"1\" class=\"dataframe\">\n",
       "  <thead>\n",
       "    <tr style=\"text-align: right;\">\n",
       "      <th></th>\n",
       "      <th>Date Sold</th>\n",
       "      <th>Price</th>\n",
       "      <th>Year Built</th>\n",
       "      <th>Land Size</th>\n",
       "      <th>Property Area Size</th>\n",
       "      <th>Property Type</th>\n",
       "      <th>Num of Rooms</th>\n",
       "      <th>Num of Bathrooms</th>\n",
       "      <th>Num of Car Spaces</th>\n",
       "      <th>Distance to CBD</th>\n",
       "      <th>Suburb</th>\n",
       "      <th>Postcode</th>\n",
       "      <th>Council Area</th>\n",
       "      <th>Council Area1</th>\n",
       "      <th>Latitude</th>\n",
       "      <th>Longitude</th>\n",
       "      <th>Region</th>\n",
       "      <th>Property Vicinity Count</th>\n",
       "    </tr>\n",
       "  </thead>\n",
       "  <tbody>\n",
       "    <tr>\n",
       "      <th>0</th>\n",
       "      <td>3/09/2016</td>\n",
       "      <td>NaN</td>\n",
       "      <td>NaN</td>\n",
       "      <td>126.0</td>\n",
       "      <td>NaN</td>\n",
       "      <td>h</td>\n",
       "      <td>2</td>\n",
       "      <td>1.0</td>\n",
       "      <td>1.0</td>\n",
       "      <td>2.5</td>\n",
       "      <td>Abbotsford</td>\n",
       "      <td>3067.0</td>\n",
       "      <td>Yarra City Council</td>\n",
       "      <td>Yarra</td>\n",
       "      <td>-37.8014</td>\n",
       "      <td>144.9958</td>\n",
       "      <td>Northern Metropolitan</td>\n",
       "      <td>4019.0</td>\n",
       "    </tr>\n",
       "    <tr>\n",
       "      <th>1</th>\n",
       "      <td>3/12/2016</td>\n",
       "      <td>1480000.0</td>\n",
       "      <td>NaN</td>\n",
       "      <td>202.0</td>\n",
       "      <td>NaN</td>\n",
       "      <td>h</td>\n",
       "      <td>2</td>\n",
       "      <td>1.0</td>\n",
       "      <td>1.0</td>\n",
       "      <td>2.5</td>\n",
       "      <td>Abbotsford</td>\n",
       "      <td>3067.0</td>\n",
       "      <td>Yarra City Council</td>\n",
       "      <td>Yarra</td>\n",
       "      <td>-37.7996</td>\n",
       "      <td>144.9984</td>\n",
       "      <td>Northern Metropolitan</td>\n",
       "      <td>4019.0</td>\n",
       "    </tr>\n",
       "    <tr>\n",
       "      <th>2</th>\n",
       "      <td>4/02/2016</td>\n",
       "      <td>1035000.0</td>\n",
       "      <td>1900.0</td>\n",
       "      <td>156.0</td>\n",
       "      <td>79.0</td>\n",
       "      <td>h</td>\n",
       "      <td>2</td>\n",
       "      <td>1.0</td>\n",
       "      <td>0.0</td>\n",
       "      <td>2.5</td>\n",
       "      <td>Abbotsford</td>\n",
       "      <td>3067.0</td>\n",
       "      <td>Yarra City Council</td>\n",
       "      <td>Yarra</td>\n",
       "      <td>-37.8079</td>\n",
       "      <td>144.9934</td>\n",
       "      <td>Northern Metropolitan</td>\n",
       "      <td>4019.0</td>\n",
       "    </tr>\n",
       "    <tr>\n",
       "      <th>3</th>\n",
       "      <td>4/02/2016</td>\n",
       "      <td>NaN</td>\n",
       "      <td>NaN</td>\n",
       "      <td>0.0</td>\n",
       "      <td>NaN</td>\n",
       "      <td>u</td>\n",
       "      <td>3</td>\n",
       "      <td>2.0</td>\n",
       "      <td>1.0</td>\n",
       "      <td>2.5</td>\n",
       "      <td>Abbotsford</td>\n",
       "      <td>3067.0</td>\n",
       "      <td>Yarra City Council</td>\n",
       "      <td>Yarra</td>\n",
       "      <td>-37.8114</td>\n",
       "      <td>145.0116</td>\n",
       "      <td>Northern Metropolitan</td>\n",
       "      <td>4019.0</td>\n",
       "    </tr>\n",
       "    <tr>\n",
       "      <th>4</th>\n",
       "      <td>4/03/2017</td>\n",
       "      <td>1465000.0</td>\n",
       "      <td>1900.0</td>\n",
       "      <td>134.0</td>\n",
       "      <td>150.0</td>\n",
       "      <td>h</td>\n",
       "      <td>3</td>\n",
       "      <td>2.0</td>\n",
       "      <td>0.0</td>\n",
       "      <td>2.5</td>\n",
       "      <td>Abbotsford</td>\n",
       "      <td>3067.0</td>\n",
       "      <td>Yarra City Council</td>\n",
       "      <td>Yarra</td>\n",
       "      <td>-37.8093</td>\n",
       "      <td>144.9944</td>\n",
       "      <td>Northern Metropolitan</td>\n",
       "      <td>4019.0</td>\n",
       "    </tr>\n",
       "  </tbody>\n",
       "</table>\n",
       "</div>"
      ],
      "text/plain": [
       "   Date Sold      Price  Year Built  Land Size  Property Area Size  \\\n",
       "0  3/09/2016        NaN         NaN      126.0                 NaN   \n",
       "1  3/12/2016  1480000.0         NaN      202.0                 NaN   \n",
       "2  4/02/2016  1035000.0      1900.0      156.0                79.0   \n",
       "3  4/02/2016        NaN         NaN        0.0                 NaN   \n",
       "4  4/03/2017  1465000.0      1900.0      134.0               150.0   \n",
       "\n",
       "  Property Type  Num of Rooms  Num of Bathrooms  Num of Car Spaces  \\\n",
       "0             h             2               1.0                1.0   \n",
       "1             h             2               1.0                1.0   \n",
       "2             h             2               1.0                0.0   \n",
       "3             u             3               2.0                1.0   \n",
       "4             h             3               2.0                0.0   \n",
       "\n",
       "   Distance to CBD      Suburb  Postcode        Council Area Council Area1  \\\n",
       "0              2.5  Abbotsford    3067.0  Yarra City Council         Yarra   \n",
       "1              2.5  Abbotsford    3067.0  Yarra City Council         Yarra   \n",
       "2              2.5  Abbotsford    3067.0  Yarra City Council         Yarra   \n",
       "3              2.5  Abbotsford    3067.0  Yarra City Council         Yarra   \n",
       "4              2.5  Abbotsford    3067.0  Yarra City Council         Yarra   \n",
       "\n",
       "   Latitude  Longitude                 Region  Property Vicinity Count  \n",
       "0  -37.8014   144.9958  Northern Metropolitan                   4019.0  \n",
       "1  -37.7996   144.9984  Northern Metropolitan                   4019.0  \n",
       "2  -37.8079   144.9934  Northern Metropolitan                   4019.0  \n",
       "3  -37.8114   145.0116  Northern Metropolitan                   4019.0  \n",
       "4  -37.8093   144.9944  Northern Metropolitan                   4019.0  "
      ]
     },
     "execution_count": 15,
     "metadata": {},
     "output_type": "execute_result"
    }
   ],
   "source": [
    "df_housing1.head()"
   ]
  },
  {
   "cell_type": "code",
   "execution_count": 16,
   "id": "73760844",
   "metadata": {},
   "outputs": [
    {
     "name": "stderr",
     "output_type": "stream",
     "text": [
      "C:\\Users\\Amy Yip\\anaconda3\\lib\\site-packages\\pandas\\core\\generic.py:6619: SettingWithCopyWarning: \n",
      "A value is trying to be set on a copy of a slice from a DataFrame\n",
      "\n",
      "See the caveats in the documentation: https://pandas.pydata.org/pandas-docs/stable/user_guide/indexing.html#returning-a-view-versus-a-copy\n",
      "  return self._update_inplace(result)\n"
     ]
    }
   ],
   "source": [
    "# Replace acronyms in 'Property Type' column with full text\n",
    "\n",
    "df_housing1['Property Type'].replace({'h': 'house/cottage/villa/terrace', \n",
    "                                      't': 'townhouse', \n",
    "                                      'u':'unit/duplex'}, inplace=True, regex=True)"
   ]
  },
  {
   "cell_type": "code",
   "execution_count": 17,
   "id": "a273f426",
   "metadata": {},
   "outputs": [
    {
     "data": {
      "text/html": [
       "<div>\n",
       "<style scoped>\n",
       "    .dataframe tbody tr th:only-of-type {\n",
       "        vertical-align: middle;\n",
       "    }\n",
       "\n",
       "    .dataframe tbody tr th {\n",
       "        vertical-align: top;\n",
       "    }\n",
       "\n",
       "    .dataframe thead th {\n",
       "        text-align: right;\n",
       "    }\n",
       "</style>\n",
       "<table border=\"1\" class=\"dataframe\">\n",
       "  <thead>\n",
       "    <tr style=\"text-align: right;\">\n",
       "      <th></th>\n",
       "      <th>Date Sold</th>\n",
       "      <th>Price</th>\n",
       "      <th>Year Built</th>\n",
       "      <th>Land Size</th>\n",
       "      <th>Property Area Size</th>\n",
       "      <th>Property Type</th>\n",
       "      <th>Num of Rooms</th>\n",
       "      <th>Num of Bathrooms</th>\n",
       "      <th>Num of Car Spaces</th>\n",
       "      <th>Distance to CBD</th>\n",
       "      <th>Suburb</th>\n",
       "      <th>Postcode</th>\n",
       "      <th>Council Area</th>\n",
       "      <th>Council Area1</th>\n",
       "      <th>Latitude</th>\n",
       "      <th>Longitude</th>\n",
       "      <th>Region</th>\n",
       "      <th>Property Vicinity Count</th>\n",
       "    </tr>\n",
       "  </thead>\n",
       "  <tbody>\n",
       "    <tr>\n",
       "      <th>0</th>\n",
       "      <td>3/09/2016</td>\n",
       "      <td>NaN</td>\n",
       "      <td>NaN</td>\n",
       "      <td>126.0</td>\n",
       "      <td>NaN</td>\n",
       "      <td>house/cottage/villa/terrace</td>\n",
       "      <td>2</td>\n",
       "      <td>1.0</td>\n",
       "      <td>1.0</td>\n",
       "      <td>2.5</td>\n",
       "      <td>Abbotsford</td>\n",
       "      <td>3067.0</td>\n",
       "      <td>Yarra City Council</td>\n",
       "      <td>Yarra</td>\n",
       "      <td>-37.8014</td>\n",
       "      <td>144.9958</td>\n",
       "      <td>Northern Metropolitan</td>\n",
       "      <td>4019.0</td>\n",
       "    </tr>\n",
       "    <tr>\n",
       "      <th>1</th>\n",
       "      <td>3/12/2016</td>\n",
       "      <td>1480000.0</td>\n",
       "      <td>NaN</td>\n",
       "      <td>202.0</td>\n",
       "      <td>NaN</td>\n",
       "      <td>house/cottage/villa/terrace</td>\n",
       "      <td>2</td>\n",
       "      <td>1.0</td>\n",
       "      <td>1.0</td>\n",
       "      <td>2.5</td>\n",
       "      <td>Abbotsford</td>\n",
       "      <td>3067.0</td>\n",
       "      <td>Yarra City Council</td>\n",
       "      <td>Yarra</td>\n",
       "      <td>-37.7996</td>\n",
       "      <td>144.9984</td>\n",
       "      <td>Northern Metropolitan</td>\n",
       "      <td>4019.0</td>\n",
       "    </tr>\n",
       "    <tr>\n",
       "      <th>2</th>\n",
       "      <td>4/02/2016</td>\n",
       "      <td>1035000.0</td>\n",
       "      <td>1900.0</td>\n",
       "      <td>156.0</td>\n",
       "      <td>79.0</td>\n",
       "      <td>house/cottage/villa/terrace</td>\n",
       "      <td>2</td>\n",
       "      <td>1.0</td>\n",
       "      <td>0.0</td>\n",
       "      <td>2.5</td>\n",
       "      <td>Abbotsford</td>\n",
       "      <td>3067.0</td>\n",
       "      <td>Yarra City Council</td>\n",
       "      <td>Yarra</td>\n",
       "      <td>-37.8079</td>\n",
       "      <td>144.9934</td>\n",
       "      <td>Northern Metropolitan</td>\n",
       "      <td>4019.0</td>\n",
       "    </tr>\n",
       "    <tr>\n",
       "      <th>3</th>\n",
       "      <td>4/02/2016</td>\n",
       "      <td>NaN</td>\n",
       "      <td>NaN</td>\n",
       "      <td>0.0</td>\n",
       "      <td>NaN</td>\n",
       "      <td>unit/duplex</td>\n",
       "      <td>3</td>\n",
       "      <td>2.0</td>\n",
       "      <td>1.0</td>\n",
       "      <td>2.5</td>\n",
       "      <td>Abbotsford</td>\n",
       "      <td>3067.0</td>\n",
       "      <td>Yarra City Council</td>\n",
       "      <td>Yarra</td>\n",
       "      <td>-37.8114</td>\n",
       "      <td>145.0116</td>\n",
       "      <td>Northern Metropolitan</td>\n",
       "      <td>4019.0</td>\n",
       "    </tr>\n",
       "    <tr>\n",
       "      <th>4</th>\n",
       "      <td>4/03/2017</td>\n",
       "      <td>1465000.0</td>\n",
       "      <td>1900.0</td>\n",
       "      <td>134.0</td>\n",
       "      <td>150.0</td>\n",
       "      <td>house/cottage/villa/terrace</td>\n",
       "      <td>3</td>\n",
       "      <td>2.0</td>\n",
       "      <td>0.0</td>\n",
       "      <td>2.5</td>\n",
       "      <td>Abbotsford</td>\n",
       "      <td>3067.0</td>\n",
       "      <td>Yarra City Council</td>\n",
       "      <td>Yarra</td>\n",
       "      <td>-37.8093</td>\n",
       "      <td>144.9944</td>\n",
       "      <td>Northern Metropolitan</td>\n",
       "      <td>4019.0</td>\n",
       "    </tr>\n",
       "  </tbody>\n",
       "</table>\n",
       "</div>"
      ],
      "text/plain": [
       "   Date Sold      Price  Year Built  Land Size  Property Area Size  \\\n",
       "0  3/09/2016        NaN         NaN      126.0                 NaN   \n",
       "1  3/12/2016  1480000.0         NaN      202.0                 NaN   \n",
       "2  4/02/2016  1035000.0      1900.0      156.0                79.0   \n",
       "3  4/02/2016        NaN         NaN        0.0                 NaN   \n",
       "4  4/03/2017  1465000.0      1900.0      134.0               150.0   \n",
       "\n",
       "                 Property Type  Num of Rooms  Num of Bathrooms  \\\n",
       "0  house/cottage/villa/terrace             2               1.0   \n",
       "1  house/cottage/villa/terrace             2               1.0   \n",
       "2  house/cottage/villa/terrace             2               1.0   \n",
       "3                  unit/duplex             3               2.0   \n",
       "4  house/cottage/villa/terrace             3               2.0   \n",
       "\n",
       "   Num of Car Spaces  Distance to CBD      Suburb  Postcode  \\\n",
       "0                1.0              2.5  Abbotsford    3067.0   \n",
       "1                1.0              2.5  Abbotsford    3067.0   \n",
       "2                0.0              2.5  Abbotsford    3067.0   \n",
       "3                1.0              2.5  Abbotsford    3067.0   \n",
       "4                0.0              2.5  Abbotsford    3067.0   \n",
       "\n",
       "         Council Area Council Area1  Latitude  Longitude  \\\n",
       "0  Yarra City Council         Yarra  -37.8014   144.9958   \n",
       "1  Yarra City Council         Yarra  -37.7996   144.9984   \n",
       "2  Yarra City Council         Yarra  -37.8079   144.9934   \n",
       "3  Yarra City Council         Yarra  -37.8114   145.0116   \n",
       "4  Yarra City Council         Yarra  -37.8093   144.9944   \n",
       "\n",
       "                  Region  Property Vicinity Count  \n",
       "0  Northern Metropolitan                   4019.0  \n",
       "1  Northern Metropolitan                   4019.0  \n",
       "2  Northern Metropolitan                   4019.0  \n",
       "3  Northern Metropolitan                   4019.0  \n",
       "4  Northern Metropolitan                   4019.0  "
      ]
     },
     "execution_count": 17,
     "metadata": {},
     "output_type": "execute_result"
    }
   ],
   "source": [
    "df_housing1.head()"
   ]
  },
  {
   "cell_type": "code",
   "execution_count": 18,
   "id": "404a9da7",
   "metadata": {},
   "outputs": [
    {
     "data": {
      "text/plain": [
       "Date Sold                   object\n",
       "Price                      float64\n",
       "Year Built                 float64\n",
       "Land Size                  float64\n",
       "Property Area Size         float64\n",
       "Property Type               object\n",
       "Num of Rooms                 int64\n",
       "Num of Bathrooms           float64\n",
       "Num of Car Spaces          float64\n",
       "Distance to CBD            float64\n",
       "Suburb                      object\n",
       "Postcode                   float64\n",
       "Council Area                object\n",
       "Council Area1               object\n",
       "Latitude                   float64\n",
       "Longitude                  float64\n",
       "Region                      object\n",
       "Property Vicinity Count    float64\n",
       "dtype: object"
      ]
     },
     "execution_count": 18,
     "metadata": {},
     "output_type": "execute_result"
    }
   ],
   "source": [
    "# Check data types\n",
    "df_housing1.dtypes"
   ]
  },
  {
   "cell_type": "code",
   "execution_count": 19,
   "id": "bc5fc52a",
   "metadata": {},
   "outputs": [],
   "source": [
    "# Changing data type\n",
    "\n",
    "df_housing1['Year Built'] = df_housing1['Year Built'].astype('object')"
   ]
  },
  {
   "cell_type": "code",
   "execution_count": 20,
   "id": "0f113590",
   "metadata": {},
   "outputs": [
    {
     "data": {
      "text/plain": [
       "dtype('O')"
      ]
     },
     "execution_count": 20,
     "metadata": {},
     "output_type": "execute_result"
    }
   ],
   "source": [
    "df_housing1['Year Built'].dtype"
   ]
  },
  {
   "cell_type": "code",
   "execution_count": 21,
   "id": "d1ab55cf",
   "metadata": {},
   "outputs": [],
   "source": [
    "# Changing data type\n",
    "\n",
    "df_housing1['Postcode'] = df_housing1['Postcode'].astype('object')"
   ]
  },
  {
   "cell_type": "code",
   "execution_count": 22,
   "id": "86963b63",
   "metadata": {},
   "outputs": [
    {
     "data": {
      "text/plain": [
       "dtype('O')"
      ]
     },
     "execution_count": 22,
     "metadata": {},
     "output_type": "execute_result"
    }
   ],
   "source": [
    "df_housing1['Postcode'].dtype"
   ]
  },
  {
   "cell_type": "code",
   "execution_count": 23,
   "id": "9ef0f9eb",
   "metadata": {},
   "outputs": [
    {
     "data": {
      "text/plain": [
       "(34857, 18)"
      ]
     },
     "execution_count": 23,
     "metadata": {},
     "output_type": "execute_result"
    }
   ],
   "source": [
    "df_housing1.shape"
   ]
  },
  {
   "cell_type": "markdown",
   "id": "b215aaf1",
   "metadata": {},
   "source": [
    "## 04. Data consistency checks and cleaning"
   ]
  },
  {
   "cell_type": "code",
   "execution_count": 24,
   "id": "b394c279",
   "metadata": {},
   "outputs": [
    {
     "name": "stdout",
     "output_type": "stream",
     "text": [
      "Council Area\n",
      "Council Area1\n",
      "Region\n"
     ]
    }
   ],
   "source": [
    "# Check for mixed types data\n",
    "\n",
    "for col in df_housing1.columns.tolist():\n",
    "  weird = (df_housing1[[col]].applymap(type) != df_housing1[[col]].iloc[0].apply(type)).any(axis = 1)\n",
    "  if len (df_housing1[weird]) > 0:\n",
    "    print (col)"
   ]
  },
  {
   "cell_type": "code",
   "execution_count": 25,
   "id": "9a189bbb",
   "metadata": {},
   "outputs": [],
   "source": [
    "# Changing data type\n",
    "\n",
    "df_housing1['Council Area'] = df_housing1['Council Area'].astype('object')"
   ]
  },
  {
   "cell_type": "code",
   "execution_count": 26,
   "id": "05c55037",
   "metadata": {},
   "outputs": [
    {
     "data": {
      "text/plain": [
       "dtype('O')"
      ]
     },
     "execution_count": 26,
     "metadata": {},
     "output_type": "execute_result"
    }
   ],
   "source": [
    "df_housing1['Council Area'].dtype"
   ]
  },
  {
   "cell_type": "code",
   "execution_count": 27,
   "id": "f8b5c256",
   "metadata": {},
   "outputs": [],
   "source": [
    "# Changing data type\n",
    "\n",
    "df_housing1['Council Area1'] = df_housing1['Council Area1'].astype('object')"
   ]
  },
  {
   "cell_type": "code",
   "execution_count": 28,
   "id": "ad6a65c6",
   "metadata": {},
   "outputs": [
    {
     "data": {
      "text/plain": [
       "dtype('O')"
      ]
     },
     "execution_count": 28,
     "metadata": {},
     "output_type": "execute_result"
    }
   ],
   "source": [
    "df_housing1['Council Area1'].dtype"
   ]
  },
  {
   "cell_type": "code",
   "execution_count": 29,
   "id": "8e850333",
   "metadata": {},
   "outputs": [],
   "source": [
    "# Changing data type\n",
    "\n",
    "df_housing1['Region'] = df_housing1['Region'].astype('object')"
   ]
  },
  {
   "cell_type": "code",
   "execution_count": 30,
   "id": "1c07e2c1",
   "metadata": {},
   "outputs": [
    {
     "data": {
      "text/plain": [
       "dtype('O')"
      ]
     },
     "execution_count": 30,
     "metadata": {},
     "output_type": "execute_result"
    }
   ],
   "source": [
    "df_housing1['Region'].dtype"
   ]
  },
  {
   "cell_type": "code",
   "execution_count": 31,
   "id": "7f0abb90",
   "metadata": {},
   "outputs": [
    {
     "name": "stdout",
     "output_type": "stream",
     "text": [
      "Council Area\n",
      "Council Area1\n",
      "Region\n"
     ]
    }
   ],
   "source": [
    "# Re-Check for mixed types data\n",
    "\n",
    "for col in df_housing1.columns.tolist():\n",
    "  weird = (df_housing1[[col]].applymap(type) != df_housing1[[col]].iloc[0].apply(type)).any(axis = 1)\n",
    "  if len (df_housing1[weird]) > 0:\n",
    "    print (col)"
   ]
  },
  {
   "cell_type": "code",
   "execution_count": 32,
   "id": "9f292cbe",
   "metadata": {},
   "outputs": [
    {
     "data": {
      "text/plain": [
       "Date Sold                      0\n",
       "Price                       7610\n",
       "Year Built                 19306\n",
       "Land Size                  11810\n",
       "Property Area Size         21115\n",
       "Property Type                  0\n",
       "Num of Rooms                   0\n",
       "Num of Bathrooms            8226\n",
       "Num of Car Spaces           8728\n",
       "Distance to CBD                1\n",
       "Suburb                         0\n",
       "Postcode                       1\n",
       "Council Area                   3\n",
       "Council Area1                  3\n",
       "Latitude                    7976\n",
       "Longitude                   7976\n",
       "Region                         3\n",
       "Property Vicinity Count        3\n",
       "dtype: int64"
      ]
     },
     "execution_count": 32,
     "metadata": {},
     "output_type": "execute_result"
    }
   ],
   "source": [
    "# Check for missing values\n",
    "\n",
    "df_housing1.isnull().sum()"
   ]
  },
  {
   "cell_type": "code",
   "execution_count": 33,
   "id": "41a111f9",
   "metadata": {},
   "outputs": [],
   "source": [
    "# Create a subset of the dataframe NOT containing the missing values from 'Price'\n",
    "\n",
    "df_housing_clean = df_housing1[df_housing1['Price'].isnull() == False]"
   ]
  },
  {
   "cell_type": "code",
   "execution_count": 34,
   "id": "079077c9",
   "metadata": {},
   "outputs": [],
   "source": [
    "# Create a subset of the dataframe NOT containing the missing values from 'Distance to CBD'\n",
    "\n",
    "df_housing_clean1 = df_housing_clean[df_housing_clean['Distance to CBD'].isnull() == False]"
   ]
  },
  {
   "cell_type": "code",
   "execution_count": 35,
   "id": "72903c88",
   "metadata": {},
   "outputs": [],
   "source": [
    "# Create a subset of the dataframe NOT containing the missing values from 'Num of Bathrooms'\n",
    "\n",
    "df_housing_clean2 = df_housing_clean1[df_housing_clean1['Num of Bathrooms'].isnull() == False]"
   ]
  },
  {
   "cell_type": "code",
   "execution_count": 36,
   "id": "9ad0a31a",
   "metadata": {},
   "outputs": [],
   "source": [
    "# Create a subset of the dataframe NOT containing the missing values from 'Num of Car Spaces'\n",
    "\n",
    "df_housing_clean3 = df_housing_clean2[df_housing_clean2['Num of Car Spaces'].isnull() == False]"
   ]
  },
  {
   "cell_type": "code",
   "execution_count": 37,
   "id": "389de72c",
   "metadata": {},
   "outputs": [
    {
     "data": {
      "text/html": [
       "<div>\n",
       "<style scoped>\n",
       "    .dataframe tbody tr th:only-of-type {\n",
       "        vertical-align: middle;\n",
       "    }\n",
       "\n",
       "    .dataframe tbody tr th {\n",
       "        vertical-align: top;\n",
       "    }\n",
       "\n",
       "    .dataframe thead th {\n",
       "        text-align: right;\n",
       "    }\n",
       "</style>\n",
       "<table border=\"1\" class=\"dataframe\">\n",
       "  <thead>\n",
       "    <tr style=\"text-align: right;\">\n",
       "      <th></th>\n",
       "      <th>Date Sold</th>\n",
       "      <th>Price</th>\n",
       "      <th>Year Built</th>\n",
       "      <th>Land Size</th>\n",
       "      <th>Property Area Size</th>\n",
       "      <th>Property Type</th>\n",
       "      <th>Num of Rooms</th>\n",
       "      <th>Num of Bathrooms</th>\n",
       "      <th>Num of Car Spaces</th>\n",
       "      <th>Distance to CBD</th>\n",
       "      <th>Suburb</th>\n",
       "      <th>Postcode</th>\n",
       "      <th>Council Area</th>\n",
       "      <th>Council Area1</th>\n",
       "      <th>Latitude</th>\n",
       "      <th>Longitude</th>\n",
       "      <th>Region</th>\n",
       "      <th>Property Vicinity Count</th>\n",
       "    </tr>\n",
       "  </thead>\n",
       "  <tbody>\n",
       "    <tr>\n",
       "      <th>1</th>\n",
       "      <td>3/12/2016</td>\n",
       "      <td>1480000.0</td>\n",
       "      <td>NaN</td>\n",
       "      <td>202.0</td>\n",
       "      <td>NaN</td>\n",
       "      <td>house/cottage/villa/terrace</td>\n",
       "      <td>2</td>\n",
       "      <td>1.0</td>\n",
       "      <td>1.0</td>\n",
       "      <td>2.5</td>\n",
       "      <td>Abbotsford</td>\n",
       "      <td>3067.0</td>\n",
       "      <td>Yarra City Council</td>\n",
       "      <td>Yarra</td>\n",
       "      <td>-37.7996</td>\n",
       "      <td>144.9984</td>\n",
       "      <td>Northern Metropolitan</td>\n",
       "      <td>4019.0</td>\n",
       "    </tr>\n",
       "    <tr>\n",
       "      <th>2</th>\n",
       "      <td>4/02/2016</td>\n",
       "      <td>1035000.0</td>\n",
       "      <td>1900.0</td>\n",
       "      <td>156.0</td>\n",
       "      <td>79.0</td>\n",
       "      <td>house/cottage/villa/terrace</td>\n",
       "      <td>2</td>\n",
       "      <td>1.0</td>\n",
       "      <td>0.0</td>\n",
       "      <td>2.5</td>\n",
       "      <td>Abbotsford</td>\n",
       "      <td>3067.0</td>\n",
       "      <td>Yarra City Council</td>\n",
       "      <td>Yarra</td>\n",
       "      <td>-37.8079</td>\n",
       "      <td>144.9934</td>\n",
       "      <td>Northern Metropolitan</td>\n",
       "      <td>4019.0</td>\n",
       "    </tr>\n",
       "    <tr>\n",
       "      <th>4</th>\n",
       "      <td>4/03/2017</td>\n",
       "      <td>1465000.0</td>\n",
       "      <td>1900.0</td>\n",
       "      <td>134.0</td>\n",
       "      <td>150.0</td>\n",
       "      <td>house/cottage/villa/terrace</td>\n",
       "      <td>3</td>\n",
       "      <td>2.0</td>\n",
       "      <td>0.0</td>\n",
       "      <td>2.5</td>\n",
       "      <td>Abbotsford</td>\n",
       "      <td>3067.0</td>\n",
       "      <td>Yarra City Council</td>\n",
       "      <td>Yarra</td>\n",
       "      <td>-37.8093</td>\n",
       "      <td>144.9944</td>\n",
       "      <td>Northern Metropolitan</td>\n",
       "      <td>4019.0</td>\n",
       "    </tr>\n",
       "    <tr>\n",
       "      <th>5</th>\n",
       "      <td>4/03/2017</td>\n",
       "      <td>850000.0</td>\n",
       "      <td>NaN</td>\n",
       "      <td>94.0</td>\n",
       "      <td>NaN</td>\n",
       "      <td>house/cottage/villa/terrace</td>\n",
       "      <td>3</td>\n",
       "      <td>2.0</td>\n",
       "      <td>1.0</td>\n",
       "      <td>2.5</td>\n",
       "      <td>Abbotsford</td>\n",
       "      <td>3067.0</td>\n",
       "      <td>Yarra City Council</td>\n",
       "      <td>Yarra</td>\n",
       "      <td>-37.7969</td>\n",
       "      <td>144.9969</td>\n",
       "      <td>Northern Metropolitan</td>\n",
       "      <td>4019.0</td>\n",
       "    </tr>\n",
       "    <tr>\n",
       "      <th>6</th>\n",
       "      <td>4/06/2016</td>\n",
       "      <td>1600000.0</td>\n",
       "      <td>2014.0</td>\n",
       "      <td>120.0</td>\n",
       "      <td>142.0</td>\n",
       "      <td>house/cottage/villa/terrace</td>\n",
       "      <td>4</td>\n",
       "      <td>1.0</td>\n",
       "      <td>2.0</td>\n",
       "      <td>2.5</td>\n",
       "      <td>Abbotsford</td>\n",
       "      <td>3067.0</td>\n",
       "      <td>Yarra City Council</td>\n",
       "      <td>Yarra</td>\n",
       "      <td>-37.8072</td>\n",
       "      <td>144.9941</td>\n",
       "      <td>Northern Metropolitan</td>\n",
       "      <td>4019.0</td>\n",
       "    </tr>\n",
       "  </tbody>\n",
       "</table>\n",
       "</div>"
      ],
      "text/plain": [
       "   Date Sold      Price Year Built  Land Size  Property Area Size  \\\n",
       "1  3/12/2016  1480000.0        NaN      202.0                 NaN   \n",
       "2  4/02/2016  1035000.0     1900.0      156.0                79.0   \n",
       "4  4/03/2017  1465000.0     1900.0      134.0               150.0   \n",
       "5  4/03/2017   850000.0        NaN       94.0                 NaN   \n",
       "6  4/06/2016  1600000.0     2014.0      120.0               142.0   \n",
       "\n",
       "                 Property Type  Num of Rooms  Num of Bathrooms  \\\n",
       "1  house/cottage/villa/terrace             2               1.0   \n",
       "2  house/cottage/villa/terrace             2               1.0   \n",
       "4  house/cottage/villa/terrace             3               2.0   \n",
       "5  house/cottage/villa/terrace             3               2.0   \n",
       "6  house/cottage/villa/terrace             4               1.0   \n",
       "\n",
       "   Num of Car Spaces  Distance to CBD      Suburb Postcode  \\\n",
       "1                1.0              2.5  Abbotsford   3067.0   \n",
       "2                0.0              2.5  Abbotsford   3067.0   \n",
       "4                0.0              2.5  Abbotsford   3067.0   \n",
       "5                1.0              2.5  Abbotsford   3067.0   \n",
       "6                2.0              2.5  Abbotsford   3067.0   \n",
       "\n",
       "         Council Area Council Area1  Latitude  Longitude  \\\n",
       "1  Yarra City Council         Yarra  -37.7996   144.9984   \n",
       "2  Yarra City Council         Yarra  -37.8079   144.9934   \n",
       "4  Yarra City Council         Yarra  -37.8093   144.9944   \n",
       "5  Yarra City Council         Yarra  -37.7969   144.9969   \n",
       "6  Yarra City Council         Yarra  -37.8072   144.9941   \n",
       "\n",
       "                  Region  Property Vicinity Count  \n",
       "1  Northern Metropolitan                   4019.0  \n",
       "2  Northern Metropolitan                   4019.0  \n",
       "4  Northern Metropolitan                   4019.0  \n",
       "5  Northern Metropolitan                   4019.0  \n",
       "6  Northern Metropolitan                   4019.0  "
      ]
     },
     "execution_count": 37,
     "metadata": {},
     "output_type": "execute_result"
    }
   ],
   "source": [
    "df_housing_clean3.head()"
   ]
  },
  {
   "cell_type": "code",
   "execution_count": 38,
   "id": "72602e97",
   "metadata": {},
   "outputs": [
    {
     "data": {
      "text/plain": [
       "(20423, 18)"
      ]
     },
     "execution_count": 38,
     "metadata": {},
     "output_type": "execute_result"
    }
   ],
   "source": [
    "df_housing_clean3.shape"
   ]
  },
  {
   "cell_type": "code",
   "execution_count": 39,
   "id": "47abe2b6",
   "metadata": {},
   "outputs": [],
   "source": [
    "# Check for duplicates\n",
    "\n",
    "df_dups = df_housing_clean3[df_housing_clean3.duplicated()]"
   ]
  },
  {
   "cell_type": "code",
   "execution_count": 40,
   "id": "6e53af99",
   "metadata": {},
   "outputs": [
    {
     "data": {
      "text/html": [
       "<div>\n",
       "<style scoped>\n",
       "    .dataframe tbody tr th:only-of-type {\n",
       "        vertical-align: middle;\n",
       "    }\n",
       "\n",
       "    .dataframe tbody tr th {\n",
       "        vertical-align: top;\n",
       "    }\n",
       "\n",
       "    .dataframe thead th {\n",
       "        text-align: right;\n",
       "    }\n",
       "</style>\n",
       "<table border=\"1\" class=\"dataframe\">\n",
       "  <thead>\n",
       "    <tr style=\"text-align: right;\">\n",
       "      <th></th>\n",
       "      <th>Date Sold</th>\n",
       "      <th>Price</th>\n",
       "      <th>Year Built</th>\n",
       "      <th>Land Size</th>\n",
       "      <th>Property Area Size</th>\n",
       "      <th>Property Type</th>\n",
       "      <th>Num of Rooms</th>\n",
       "      <th>Num of Bathrooms</th>\n",
       "      <th>Num of Car Spaces</th>\n",
       "      <th>Distance to CBD</th>\n",
       "      <th>Suburb</th>\n",
       "      <th>Postcode</th>\n",
       "      <th>Council Area</th>\n",
       "      <th>Council Area1</th>\n",
       "      <th>Latitude</th>\n",
       "      <th>Longitude</th>\n",
       "      <th>Region</th>\n",
       "      <th>Property Vicinity Count</th>\n",
       "    </tr>\n",
       "  </thead>\n",
       "  <tbody>\n",
       "    <tr>\n",
       "      <th>12655</th>\n",
       "      <td>29/04/2017</td>\n",
       "      <td>720000.0</td>\n",
       "      <td>2016.0</td>\n",
       "      <td>531.0</td>\n",
       "      <td>112.0</td>\n",
       "      <td>townhouse</td>\n",
       "      <td>3</td>\n",
       "      <td>2.0</td>\n",
       "      <td>2.0</td>\n",
       "      <td>7.8</td>\n",
       "      <td>Coburg</td>\n",
       "      <td>3058.0</td>\n",
       "      <td>Darebin City Council</td>\n",
       "      <td>Darebin</td>\n",
       "      <td>-37.7424</td>\n",
       "      <td>144.9571</td>\n",
       "      <td>Northern Metropolitan</td>\n",
       "      <td>11204.0</td>\n",
       "    </tr>\n",
       "  </tbody>\n",
       "</table>\n",
       "</div>"
      ],
      "text/plain": [
       "        Date Sold     Price Year Built  Land Size  Property Area Size  \\\n",
       "12655  29/04/2017  720000.0     2016.0      531.0               112.0   \n",
       "\n",
       "      Property Type  Num of Rooms  Num of Bathrooms  Num of Car Spaces  \\\n",
       "12655     townhouse             3               2.0                2.0   \n",
       "\n",
       "       Distance to CBD  Suburb Postcode          Council Area Council Area1  \\\n",
       "12655              7.8  Coburg   3058.0  Darebin City Council       Darebin   \n",
       "\n",
       "       Latitude  Longitude                 Region  Property Vicinity Count  \n",
       "12655  -37.7424   144.9571  Northern Metropolitan                  11204.0  "
      ]
     },
     "execution_count": 40,
     "metadata": {},
     "output_type": "execute_result"
    }
   ],
   "source": [
    "# Displays all duplocate rows:\n",
    "\n",
    "df_dups"
   ]
  },
  {
   "cell_type": "code",
   "execution_count": 41,
   "id": "fd454d0e",
   "metadata": {},
   "outputs": [],
   "source": [
    "# Create a new dataframe that doesn’t include the duplicates:\n",
    "\n",
    "df_housing_clean_no_dups = df_housing_clean3.drop_duplicates()"
   ]
  },
  {
   "cell_type": "code",
   "execution_count": 42,
   "id": "01138e83",
   "metadata": {},
   "outputs": [
    {
     "data": {
      "text/plain": [
       "(20422, 18)"
      ]
     },
     "execution_count": 42,
     "metadata": {},
     "output_type": "execute_result"
    }
   ],
   "source": [
    "df_housing_clean_no_dups.shape"
   ]
  },
  {
   "cell_type": "markdown",
   "id": "c4adf852",
   "metadata": {},
   "source": [
    "## Removing corrupted / outlier data"
   ]
  },
  {
   "cell_type": "code",
   "execution_count": 43,
   "id": "2c280478",
   "metadata": {},
   "outputs": [],
   "source": [
    "# Remove rows with 'Price' > 8000000\n",
    "\n",
    "df_housing_clean_no_dups1 = df_housing_clean_no_dups[~(df_housing_clean_no_dups['Price'] > 8000000)]"
   ]
  },
  {
   "cell_type": "code",
   "execution_count": 44,
   "id": "c3e25c5c",
   "metadata": {},
   "outputs": [
    {
     "data": {
      "text/plain": [
       "(20420, 18)"
      ]
     },
     "execution_count": 44,
     "metadata": {},
     "output_type": "execute_result"
    }
   ],
   "source": [
    "df_housing_clean_no_dups1.shape"
   ]
  },
  {
   "cell_type": "code",
   "execution_count": 45,
   "id": "0b1c3cf5",
   "metadata": {},
   "outputs": [],
   "source": [
    "# Remove rows with 'Land Size' > \n",
    "\n",
    "df_housing_clean_no_dups2 = df_housing_clean_no_dups1[((df_housing_clean_no_dups1['Land Size'] > 10)&(df_housing_clean_no_dups1['Land Size'] < 1500))]"
   ]
  },
  {
   "cell_type": "code",
   "execution_count": 46,
   "id": "00e03617",
   "metadata": {},
   "outputs": [
    {
     "data": {
      "text/plain": [
       "(15364, 18)"
      ]
     },
     "execution_count": 46,
     "metadata": {},
     "output_type": "execute_result"
    }
   ],
   "source": [
    "df_housing_clean_no_dups2.shape"
   ]
  },
  {
   "cell_type": "code",
   "execution_count": 47,
   "id": "8f6e40b3",
   "metadata": {},
   "outputs": [],
   "source": [
    "# Remove rows with 'Num of Car Spaces' >=18\n",
    "\n",
    "df_housing_clean_no_dups3 = df_housing_clean_no_dups2[~(df_housing_clean_no_dups2['Num of Car Spaces'] >= 18)]"
   ]
  },
  {
   "cell_type": "code",
   "execution_count": 48,
   "id": "1f5497ab",
   "metadata": {},
   "outputs": [
    {
     "data": {
      "text/plain": [
       "(15363, 18)"
      ]
     },
     "execution_count": 48,
     "metadata": {},
     "output_type": "execute_result"
    }
   ],
   "source": [
    "df_housing_clean_no_dups3.shape"
   ]
  },
  {
   "cell_type": "code",
   "execution_count": 49,
   "id": "7b54f1df",
   "metadata": {},
   "outputs": [],
   "source": [
    "# Remove rows with 'Building Area Size' >3000\n",
    "\n",
    "df_housing_clean_no_dups4 = df_housing_clean_no_dups3[~(df_housing_clean_no_dups3['Property Area Size'] > 3000)]"
   ]
  },
  {
   "cell_type": "code",
   "execution_count": 50,
   "id": "407393d1",
   "metadata": {},
   "outputs": [
    {
     "data": {
      "text/plain": [
       "(15360, 18)"
      ]
     },
     "execution_count": 50,
     "metadata": {},
     "output_type": "execute_result"
    }
   ],
   "source": [
    "df_housing_clean_no_dups4.shape"
   ]
  },
  {
   "cell_type": "code",
   "execution_count": 51,
   "id": "27768c67",
   "metadata": {},
   "outputs": [],
   "source": [
    "# Remove rows with 'Building Area Size' <15\n",
    "\n",
    "df_housing_clean_no_dups5 = df_housing_clean_no_dups4[(df_housing_clean_no_dups4['Property Area Size'] >= 15)]"
   ]
  },
  {
   "cell_type": "code",
   "execution_count": 71,
   "id": "8963dfa0",
   "metadata": {},
   "outputs": [
    {
     "data": {
      "text/plain": [
       "(7893, 18)"
      ]
     },
     "execution_count": 71,
     "metadata": {},
     "output_type": "execute_result"
    }
   ],
   "source": [
    "df_housing_clean_no_dups5.shape"
   ]
  },
  {
   "cell_type": "code",
   "execution_count": 52,
   "id": "a7317e91",
   "metadata": {},
   "outputs": [],
   "source": [
    "# Remove rows with 'Year Built' < 1196\n",
    "\n",
    "df_housing_clean_no_dups6 = df_housing_clean_no_dups5[~(df_housing_clean_no_dups5['Year Built'] <= 1196)]"
   ]
  },
  {
   "cell_type": "code",
   "execution_count": 53,
   "id": "98b2272d",
   "metadata": {},
   "outputs": [
    {
     "data": {
      "text/plain": [
       "(7893, 18)"
      ]
     },
     "execution_count": 53,
     "metadata": {},
     "output_type": "execute_result"
    }
   ],
   "source": [
    "df_housing_clean_no_dups5.shape"
   ]
  },
  {
   "cell_type": "markdown",
   "id": "442686bb",
   "metadata": {},
   "source": [
    "## 05. Create filtered dataframes\n"
   ]
  },
  {
   "cell_type": "code",
   "execution_count": 54,
   "id": "faa24853",
   "metadata": {},
   "outputs": [
    {
     "data": {
      "text/plain": [
       "Date Sold                    0\n",
       "Price                        0\n",
       "Year Built                 269\n",
       "Land Size                    0\n",
       "Property Area Size           0\n",
       "Property Type                0\n",
       "Num of Rooms                 0\n",
       "Num of Bathrooms             0\n",
       "Num of Car Spaces            0\n",
       "Distance to CBD              0\n",
       "Suburb                       0\n",
       "Postcode                     0\n",
       "Council Area                 0\n",
       "Council Area1                0\n",
       "Latitude                     7\n",
       "Longitude                    7\n",
       "Region                       0\n",
       "Property Vicinity Count      0\n",
       "dtype: int64"
      ]
     },
     "execution_count": 54,
     "metadata": {},
     "output_type": "execute_result"
    }
   ],
   "source": [
    "# Re-Check for missing values\n",
    "\n",
    "df_housing_clean_no_dups5.isnull().sum()"
   ]
  },
  {
   "cell_type": "code",
   "execution_count": 55,
   "id": "b57b48aa",
   "metadata": {},
   "outputs": [],
   "source": [
    "df_land_size = df_housing_clean_no_dups5[df_housing_clean_no_dups5['Land Size'].isnull() == False]"
   ]
  },
  {
   "cell_type": "code",
   "execution_count": 56,
   "id": "d699c7cb",
   "metadata": {},
   "outputs": [
    {
     "data": {
      "text/plain": [
       "(7893, 18)"
      ]
     },
     "execution_count": 56,
     "metadata": {},
     "output_type": "execute_result"
    }
   ],
   "source": [
    "df_land_size.shape"
   ]
  },
  {
   "cell_type": "code",
   "execution_count": 57,
   "id": "137101f1",
   "metadata": {},
   "outputs": [],
   "source": [
    "df_property_area_size = df_housing_clean_no_dups5[df_housing_clean_no_dups5['Property Area Size'].isnull() == False]"
   ]
  },
  {
   "cell_type": "code",
   "execution_count": 58,
   "id": "511be859",
   "metadata": {},
   "outputs": [
    {
     "data": {
      "text/plain": [
       "(7893, 18)"
      ]
     },
     "execution_count": 58,
     "metadata": {},
     "output_type": "execute_result"
    }
   ],
   "source": [
    "df_property_area_size.shape"
   ]
  },
  {
   "cell_type": "code",
   "execution_count": 59,
   "id": "eca47f36",
   "metadata": {},
   "outputs": [],
   "source": [
    "df_year_built = df_housing_clean_no_dups5[df_housing_clean_no_dups5['Year Built'].isnull() == False]"
   ]
  },
  {
   "cell_type": "code",
   "execution_count": 60,
   "id": "5482795f",
   "metadata": {},
   "outputs": [
    {
     "data": {
      "text/plain": [
       "(7624, 18)"
      ]
     },
     "execution_count": 60,
     "metadata": {},
     "output_type": "execute_result"
    }
   ],
   "source": [
    "df_year_built.shape"
   ]
  },
  {
   "cell_type": "code",
   "execution_count": null,
   "id": "93e9d5ab",
   "metadata": {},
   "outputs": [],
   "source": []
  },
  {
   "cell_type": "markdown",
   "id": "2542e53e",
   "metadata": {},
   "source": [
    "## 05. Data Profiling"
   ]
  },
  {
   "cell_type": "code",
   "execution_count": 61,
   "id": "1dad509b",
   "metadata": {},
   "outputs": [
    {
     "data": {
      "text/plain": [
       "(7893, 18)"
      ]
     },
     "execution_count": 61,
     "metadata": {},
     "output_type": "execute_result"
    }
   ],
   "source": [
    "df_housing_clean_no_dups5.shape"
   ]
  },
  {
   "cell_type": "code",
   "execution_count": 62,
   "id": "681a2057",
   "metadata": {},
   "outputs": [
    {
     "data": {
      "text/html": [
       "<div>\n",
       "<style scoped>\n",
       "    .dataframe tbody tr th:only-of-type {\n",
       "        vertical-align: middle;\n",
       "    }\n",
       "\n",
       "    .dataframe tbody tr th {\n",
       "        vertical-align: top;\n",
       "    }\n",
       "\n",
       "    .dataframe thead th {\n",
       "        text-align: right;\n",
       "    }\n",
       "</style>\n",
       "<table border=\"1\" class=\"dataframe\">\n",
       "  <thead>\n",
       "    <tr style=\"text-align: right;\">\n",
       "      <th></th>\n",
       "      <th>Price</th>\n",
       "      <th>Land Size</th>\n",
       "      <th>Property Area Size</th>\n",
       "      <th>Num of Rooms</th>\n",
       "      <th>Num of Bathrooms</th>\n",
       "      <th>Num of Car Spaces</th>\n",
       "      <th>Distance to CBD</th>\n",
       "      <th>Latitude</th>\n",
       "      <th>Longitude</th>\n",
       "      <th>Property Vicinity Count</th>\n",
       "    </tr>\n",
       "  </thead>\n",
       "  <tbody>\n",
       "    <tr>\n",
       "      <th>count</th>\n",
       "      <td>7.893000e+03</td>\n",
       "      <td>7893.000000</td>\n",
       "      <td>7893.000000</td>\n",
       "      <td>7893.000000</td>\n",
       "      <td>7893.000000</td>\n",
       "      <td>7893.000000</td>\n",
       "      <td>7893.000000</td>\n",
       "      <td>7886.000000</td>\n",
       "      <td>7886.000000</td>\n",
       "      <td>7893.000000</td>\n",
       "    </tr>\n",
       "    <tr>\n",
       "      <th>mean</th>\n",
       "      <td>1.155043e+06</td>\n",
       "      <td>497.823261</td>\n",
       "      <td>161.232990</td>\n",
       "      <td>3.256937</td>\n",
       "      <td>1.704928</td>\n",
       "      <td>1.769923</td>\n",
       "      <td>11.904358</td>\n",
       "      <td>-37.802113</td>\n",
       "      <td>144.992158</td>\n",
       "      <td>7345.382364</td>\n",
       "    </tr>\n",
       "    <tr>\n",
       "      <th>std</th>\n",
       "      <td>6.727901e+05</td>\n",
       "      <td>246.117404</td>\n",
       "      <td>83.328874</td>\n",
       "      <td>0.880098</td>\n",
       "      <td>0.734338</td>\n",
       "      <td>0.989695</td>\n",
       "      <td>6.852986</td>\n",
       "      <td>0.094686</td>\n",
       "      <td>0.125126</td>\n",
       "      <td>4382.864961</td>\n",
       "    </tr>\n",
       "    <tr>\n",
       "      <th>min</th>\n",
       "      <td>1.310000e+05</td>\n",
       "      <td>15.000000</td>\n",
       "      <td>15.000000</td>\n",
       "      <td>1.000000</td>\n",
       "      <td>1.000000</td>\n",
       "      <td>0.000000</td>\n",
       "      <td>0.000000</td>\n",
       "      <td>-38.174360</td>\n",
       "      <td>144.423790</td>\n",
       "      <td>389.000000</td>\n",
       "    </tr>\n",
       "    <tr>\n",
       "      <th>25%</th>\n",
       "      <td>7.000000e+05</td>\n",
       "      <td>290.000000</td>\n",
       "      <td>110.000000</td>\n",
       "      <td>3.000000</td>\n",
       "      <td>1.000000</td>\n",
       "      <td>1.000000</td>\n",
       "      <td>7.300000</td>\n",
       "      <td>-37.859988</td>\n",
       "      <td>144.912100</td>\n",
       "      <td>4181.000000</td>\n",
       "    </tr>\n",
       "    <tr>\n",
       "      <th>50%</th>\n",
       "      <td>9.605000e+05</td>\n",
       "      <td>533.000000</td>\n",
       "      <td>140.000000</td>\n",
       "      <td>3.000000</td>\n",
       "      <td>2.000000</td>\n",
       "      <td>2.000000</td>\n",
       "      <td>11.000000</td>\n",
       "      <td>-37.794200</td>\n",
       "      <td>145.001800</td>\n",
       "      <td>6482.000000</td>\n",
       "    </tr>\n",
       "    <tr>\n",
       "      <th>75%</th>\n",
       "      <td>1.410000e+06</td>\n",
       "      <td>659.000000</td>\n",
       "      <td>190.000000</td>\n",
       "      <td>4.000000</td>\n",
       "      <td>2.000000</td>\n",
       "      <td>2.000000</td>\n",
       "      <td>14.500000</td>\n",
       "      <td>-37.741700</td>\n",
       "      <td>145.072072</td>\n",
       "      <td>10175.000000</td>\n",
       "    </tr>\n",
       "    <tr>\n",
       "      <th>max</th>\n",
       "      <td>6.500000e+06</td>\n",
       "      <td>1491.000000</td>\n",
       "      <td>1041.000000</td>\n",
       "      <td>12.000000</td>\n",
       "      <td>9.000000</td>\n",
       "      <td>10.000000</td>\n",
       "      <td>47.400000</td>\n",
       "      <td>-37.399460</td>\n",
       "      <td>145.526350</td>\n",
       "      <td>21650.000000</td>\n",
       "    </tr>\n",
       "  </tbody>\n",
       "</table>\n",
       "</div>"
      ],
      "text/plain": [
       "              Price    Land Size  Property Area Size  Num of Rooms  \\\n",
       "count  7.893000e+03  7893.000000         7893.000000   7893.000000   \n",
       "mean   1.155043e+06   497.823261          161.232990      3.256937   \n",
       "std    6.727901e+05   246.117404           83.328874      0.880098   \n",
       "min    1.310000e+05    15.000000           15.000000      1.000000   \n",
       "25%    7.000000e+05   290.000000          110.000000      3.000000   \n",
       "50%    9.605000e+05   533.000000          140.000000      3.000000   \n",
       "75%    1.410000e+06   659.000000          190.000000      4.000000   \n",
       "max    6.500000e+06  1491.000000         1041.000000     12.000000   \n",
       "\n",
       "       Num of Bathrooms  Num of Car Spaces  Distance to CBD     Latitude  \\\n",
       "count       7893.000000        7893.000000      7893.000000  7886.000000   \n",
       "mean           1.704928           1.769923        11.904358   -37.802113   \n",
       "std            0.734338           0.989695         6.852986     0.094686   \n",
       "min            1.000000           0.000000         0.000000   -38.174360   \n",
       "25%            1.000000           1.000000         7.300000   -37.859988   \n",
       "50%            2.000000           2.000000        11.000000   -37.794200   \n",
       "75%            2.000000           2.000000        14.500000   -37.741700   \n",
       "max            9.000000          10.000000        47.400000   -37.399460   \n",
       "\n",
       "         Longitude  Property Vicinity Count  \n",
       "count  7886.000000              7893.000000  \n",
       "mean    144.992158              7345.382364  \n",
       "std       0.125126              4382.864961  \n",
       "min     144.423790               389.000000  \n",
       "25%     144.912100              4181.000000  \n",
       "50%     145.001800              6482.000000  \n",
       "75%     145.072072             10175.000000  \n",
       "max     145.526350             21650.000000  "
      ]
     },
     "execution_count": 62,
     "metadata": {},
     "output_type": "execute_result"
    }
   ],
   "source": [
    "df_housing_clean_no_dups5.describe()"
   ]
  },
  {
   "cell_type": "code",
   "execution_count": 63,
   "id": "72c2c665",
   "metadata": {},
   "outputs": [
    {
     "name": "stdout",
     "output_type": "stream",
     "text": [
      "<class 'pandas.core.frame.DataFrame'>\n",
      "Int64Index: 7893 entries, 2 to 34856\n",
      "Data columns (total 18 columns):\n",
      " #   Column                   Non-Null Count  Dtype  \n",
      "---  ------                   --------------  -----  \n",
      " 0   Date Sold                7893 non-null   object \n",
      " 1   Price                    7893 non-null   float64\n",
      " 2   Year Built               7624 non-null   object \n",
      " 3   Land Size                7893 non-null   float64\n",
      " 4   Property Area Size       7893 non-null   float64\n",
      " 5   Property Type            7893 non-null   object \n",
      " 6   Num of Rooms             7893 non-null   int64  \n",
      " 7   Num of Bathrooms         7893 non-null   float64\n",
      " 8   Num of Car Spaces        7893 non-null   float64\n",
      " 9   Distance to CBD          7893 non-null   float64\n",
      " 10  Suburb                   7893 non-null   object \n",
      " 11  Postcode                 7893 non-null   object \n",
      " 12  Council Area             7893 non-null   object \n",
      " 13  Council Area1            7893 non-null   object \n",
      " 14  Latitude                 7886 non-null   float64\n",
      " 15  Longitude                7886 non-null   float64\n",
      " 16  Region                   7893 non-null   object \n",
      " 17  Property Vicinity Count  7893 non-null   float64\n",
      "dtypes: float64(9), int64(1), object(8)\n",
      "memory usage: 1.1+ MB\n"
     ]
    }
   ],
   "source": [
    "df_housing_clean_no_dups5.info()"
   ]
  },
  {
   "cell_type": "code",
   "execution_count": 64,
   "id": "94bc1686",
   "metadata": {},
   "outputs": [
    {
     "data": {
      "text/plain": [
       "Date Sold                   object\n",
       "Price                      float64\n",
       "Year Built                  object\n",
       "Land Size                  float64\n",
       "Property Area Size         float64\n",
       "Property Type               object\n",
       "Num of Rooms                 int64\n",
       "Num of Bathrooms           float64\n",
       "Num of Car Spaces          float64\n",
       "Distance to CBD            float64\n",
       "Suburb                      object\n",
       "Postcode                    object\n",
       "Council Area                object\n",
       "Council Area1               object\n",
       "Latitude                   float64\n",
       "Longitude                  float64\n",
       "Region                      object\n",
       "Property Vicinity Count    float64\n",
       "dtype: object"
      ]
     },
     "execution_count": 64,
     "metadata": {},
     "output_type": "execute_result"
    }
   ],
   "source": [
    "df_housing_clean_no_dups5.dtypes"
   ]
  },
  {
   "cell_type": "code",
   "execution_count": null,
   "id": "e4c817f4",
   "metadata": {},
   "outputs": [],
   "source": []
  },
  {
   "cell_type": "markdown",
   "id": "31b885c4",
   "metadata": {},
   "source": [
    "## 06. Export data"
   ]
  },
  {
   "cell_type": "code",
   "execution_count": 65,
   "id": "f1298ca5",
   "metadata": {},
   "outputs": [],
   "source": [
    "df_housing_clean_no_dups5.to_pickle(os.path.join(path, '02 Data', 'Prepared Data', '6.1_melb_housing_clean_data_new.pkl'))"
   ]
  },
  {
   "cell_type": "code",
   "execution_count": 66,
   "id": "e2907189",
   "metadata": {},
   "outputs": [],
   "source": [
    "df_land_size.to_pickle(os.path.join(path, '02 Data', 'Prepared Data', '6.1_melb_housing_landsize_subset.pkl'))"
   ]
  },
  {
   "cell_type": "code",
   "execution_count": 67,
   "id": "a48fb242",
   "metadata": {},
   "outputs": [],
   "source": [
    "df_property_area_size.to_pickle(os.path.join(path, '02 Data', 'Prepared Data', '6.1_melb_housing_propertyareasize_subset.pkl'))"
   ]
  },
  {
   "cell_type": "code",
   "execution_count": 68,
   "id": "061dac6c",
   "metadata": {},
   "outputs": [],
   "source": [
    "df_year_built.to_pickle(os.path.join(path, '02 Data', 'Prepared Data', '6.1_melb_housing_yearbuilt_subset.pkl'))"
   ]
  },
  {
   "cell_type": "code",
   "execution_count": 69,
   "id": "adb38441",
   "metadata": {},
   "outputs": [],
   "source": [
    "# Export as excel file\n",
    "\n",
    "df_housing_clean_no_dups5.to_excel(os.path.join(path, '02 Data', 'Prepared Data', '6.1_melb_housing_clean_data_new.xlsx'), index = False, header=True)"
   ]
  }
 ],
 "metadata": {
  "kernelspec": {
   "display_name": "Python 3 (ipykernel)",
   "language": "python",
   "name": "python3"
  },
  "language_info": {
   "codemirror_mode": {
    "name": "ipython",
    "version": 3
   },
   "file_extension": ".py",
   "mimetype": "text/x-python",
   "name": "python",
   "nbconvert_exporter": "python",
   "pygments_lexer": "ipython3",
   "version": "3.9.7"
  }
 },
 "nbformat": 4,
 "nbformat_minor": 5
}
