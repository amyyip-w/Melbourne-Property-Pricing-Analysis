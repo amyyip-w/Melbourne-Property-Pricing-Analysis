{
 "cells": [
  {
   "cell_type": "markdown",
   "id": "246bd0f4",
   "metadata": {},
   "source": [
    "# 6.4 Supervised Machine learning - Linear Regression"
   ]
  },
  {
   "cell_type": "markdown",
   "id": "7b30b22e",
   "metadata": {},
   "source": [
    "### This script contains the following:\n",
    "\n",
    "#### 1. Importing libraries and data\n",
    "#### 2. Data cleaning checks\n",
    "#### 3. Explore data visually prior to regression analysis\n",
    "#### 4. Hypothesis\n",
    "#### 5. Data preparation for regression analysis\n",
    "#### 6. Regression analysis\n",
    "#### 7. Thoughts on how well the model performed on the test set"
   ]
  },
  {
   "cell_type": "markdown",
   "id": "a0810470",
   "metadata": {},
   "source": [
    "## 01. Import libraries and data"
   ]
  },
  {
   "cell_type": "code",
   "execution_count": 1,
   "id": "965cbda2",
   "metadata": {},
   "outputs": [],
   "source": [
    "import pandas as pd\n",
    "import numpy as np\n",
    "import seaborn as sns\n",
    "import matplotlib\n",
    "import matplotlib.pyplot as plt\n",
    "import os\n",
    "import sklearn\n",
    "from sklearn.model_selection import train_test_split \n",
    "from sklearn.linear_model import LinearRegression\n",
    "from sklearn.metrics import mean_squared_error, r2_score"
   ]
  },
  {
   "cell_type": "code",
   "execution_count": 2,
   "id": "76f87415",
   "metadata": {},
   "outputs": [],
   "source": [
    "# This option ensures that the graphs you create are displayed within the notebook without the need to \"call\" them specifically.\n",
    "\n",
    "%matplotlib inline"
   ]
  },
  {
   "cell_type": "code",
   "execution_count": 3,
   "id": "585535e0",
   "metadata": {},
   "outputs": [],
   "source": [
    "path = r'C:\\Users\\Amy Yip\\Desktop\\Career Foundry Data Analytics\\Achievement 6 Advanced Analytics and Dashboard Designs\\07-05-2022 Melbourne Housing Analysis\\02 Data'"
   ]
  },
  {
   "cell_type": "code",
   "execution_count": 4,
   "id": "057b8862",
   "metadata": {},
   "outputs": [],
   "source": [
    "# Import cleaned data\n",
    "\n",
    "df_housing_clean = pd.read_pickle(os.path.join(path, 'Prepared Data', '6.1_melb_housing_clean_data_new.pkl'))"
   ]
  },
  {
   "cell_type": "code",
   "execution_count": 5,
   "id": "d8231555",
   "metadata": {},
   "outputs": [],
   "source": [
    "# Import subset data for Property Area Size\n",
    "\n",
    "df_prop_size = pd.read_pickle(os.path.join(path, 'Prepared Data', '6.1_melb_housing_propertyareasize_subset.pkl'))"
   ]
  },
  {
   "cell_type": "markdown",
   "id": "ce6b1f07",
   "metadata": {},
   "source": [
    "## 02. Data Cleaning Checks"
   ]
  },
  {
   "cell_type": "markdown",
   "id": "5c48f184",
   "metadata": {},
   "source": [
    "Data has already been previously been cleaned, but a quick check will be conducted."
   ]
  },
  {
   "cell_type": "code",
   "execution_count": 6,
   "id": "0545d84b",
   "metadata": {},
   "outputs": [
    {
     "data": {
      "text/plain": [
       "Index(['Date Sold', 'Price', 'Year Built', 'Land Size', 'Property Area Size',\n",
       "       'Property Type', 'Num of Rooms', 'Num of Bathrooms',\n",
       "       'Num of Car Spaces', 'Distance to CBD', 'Suburb', 'Postcode',\n",
       "       'Council Area', 'Council Area1', 'Latitude', 'Longitude', 'Region',\n",
       "       'Property Vicinity Count'],\n",
       "      dtype='object')"
      ]
     },
     "execution_count": 6,
     "metadata": {},
     "output_type": "execute_result"
    }
   ],
   "source": [
    "df_housing_clean.columns"
   ]
  },
  {
   "cell_type": "code",
   "execution_count": 7,
   "id": "b54c7d7b",
   "metadata": {},
   "outputs": [
    {
     "data": {
      "text/html": [
       "<div>\n",
       "<style scoped>\n",
       "    .dataframe tbody tr th:only-of-type {\n",
       "        vertical-align: middle;\n",
       "    }\n",
       "\n",
       "    .dataframe tbody tr th {\n",
       "        vertical-align: top;\n",
       "    }\n",
       "\n",
       "    .dataframe thead th {\n",
       "        text-align: right;\n",
       "    }\n",
       "</style>\n",
       "<table border=\"1\" class=\"dataframe\">\n",
       "  <thead>\n",
       "    <tr style=\"text-align: right;\">\n",
       "      <th></th>\n",
       "      <th>Date Sold</th>\n",
       "      <th>Price</th>\n",
       "      <th>Year Built</th>\n",
       "      <th>Land Size</th>\n",
       "      <th>Property Area Size</th>\n",
       "      <th>Property Type</th>\n",
       "      <th>Num of Rooms</th>\n",
       "      <th>Num of Bathrooms</th>\n",
       "      <th>Num of Car Spaces</th>\n",
       "      <th>Distance to CBD</th>\n",
       "      <th>Suburb</th>\n",
       "      <th>Postcode</th>\n",
       "      <th>Council Area</th>\n",
       "      <th>Council Area1</th>\n",
       "      <th>Latitude</th>\n",
       "      <th>Longitude</th>\n",
       "      <th>Region</th>\n",
       "      <th>Property Vicinity Count</th>\n",
       "    </tr>\n",
       "  </thead>\n",
       "  <tbody>\n",
       "    <tr>\n",
       "      <th>1</th>\n",
       "      <td>3/12/2016</td>\n",
       "      <td>1480000.0</td>\n",
       "      <td>NaN</td>\n",
       "      <td>202.0</td>\n",
       "      <td>NaN</td>\n",
       "      <td>house/cottage/villa/terrace</td>\n",
       "      <td>2</td>\n",
       "      <td>1.0</td>\n",
       "      <td>1.0</td>\n",
       "      <td>2.5</td>\n",
       "      <td>Abbotsford</td>\n",
       "      <td>3067.0</td>\n",
       "      <td>Yarra City Council</td>\n",
       "      <td>Yarra</td>\n",
       "      <td>-37.7996</td>\n",
       "      <td>144.9984</td>\n",
       "      <td>Northern Metropolitan</td>\n",
       "      <td>4019.0</td>\n",
       "    </tr>\n",
       "    <tr>\n",
       "      <th>2</th>\n",
       "      <td>4/02/2016</td>\n",
       "      <td>1035000.0</td>\n",
       "      <td>1900.0</td>\n",
       "      <td>156.0</td>\n",
       "      <td>79.0</td>\n",
       "      <td>house/cottage/villa/terrace</td>\n",
       "      <td>2</td>\n",
       "      <td>1.0</td>\n",
       "      <td>0.0</td>\n",
       "      <td>2.5</td>\n",
       "      <td>Abbotsford</td>\n",
       "      <td>3067.0</td>\n",
       "      <td>Yarra City Council</td>\n",
       "      <td>Yarra</td>\n",
       "      <td>-37.8079</td>\n",
       "      <td>144.9934</td>\n",
       "      <td>Northern Metropolitan</td>\n",
       "      <td>4019.0</td>\n",
       "    </tr>\n",
       "    <tr>\n",
       "      <th>4</th>\n",
       "      <td>4/03/2017</td>\n",
       "      <td>1465000.0</td>\n",
       "      <td>1900.0</td>\n",
       "      <td>134.0</td>\n",
       "      <td>150.0</td>\n",
       "      <td>house/cottage/villa/terrace</td>\n",
       "      <td>3</td>\n",
       "      <td>2.0</td>\n",
       "      <td>0.0</td>\n",
       "      <td>2.5</td>\n",
       "      <td>Abbotsford</td>\n",
       "      <td>3067.0</td>\n",
       "      <td>Yarra City Council</td>\n",
       "      <td>Yarra</td>\n",
       "      <td>-37.8093</td>\n",
       "      <td>144.9944</td>\n",
       "      <td>Northern Metropolitan</td>\n",
       "      <td>4019.0</td>\n",
       "    </tr>\n",
       "    <tr>\n",
       "      <th>5</th>\n",
       "      <td>4/03/2017</td>\n",
       "      <td>850000.0</td>\n",
       "      <td>NaN</td>\n",
       "      <td>94.0</td>\n",
       "      <td>NaN</td>\n",
       "      <td>house/cottage/villa/terrace</td>\n",
       "      <td>3</td>\n",
       "      <td>2.0</td>\n",
       "      <td>1.0</td>\n",
       "      <td>2.5</td>\n",
       "      <td>Abbotsford</td>\n",
       "      <td>3067.0</td>\n",
       "      <td>Yarra City Council</td>\n",
       "      <td>Yarra</td>\n",
       "      <td>-37.7969</td>\n",
       "      <td>144.9969</td>\n",
       "      <td>Northern Metropolitan</td>\n",
       "      <td>4019.0</td>\n",
       "    </tr>\n",
       "    <tr>\n",
       "      <th>6</th>\n",
       "      <td>4/06/2016</td>\n",
       "      <td>1600000.0</td>\n",
       "      <td>2014.0</td>\n",
       "      <td>120.0</td>\n",
       "      <td>142.0</td>\n",
       "      <td>house/cottage/villa/terrace</td>\n",
       "      <td>4</td>\n",
       "      <td>1.0</td>\n",
       "      <td>2.0</td>\n",
       "      <td>2.5</td>\n",
       "      <td>Abbotsford</td>\n",
       "      <td>3067.0</td>\n",
       "      <td>Yarra City Council</td>\n",
       "      <td>Yarra</td>\n",
       "      <td>-37.8072</td>\n",
       "      <td>144.9941</td>\n",
       "      <td>Northern Metropolitan</td>\n",
       "      <td>4019.0</td>\n",
       "    </tr>\n",
       "  </tbody>\n",
       "</table>\n",
       "</div>"
      ],
      "text/plain": [
       "   Date Sold      Price Year Built  Land Size  Property Area Size  \\\n",
       "1  3/12/2016  1480000.0        NaN      202.0                 NaN   \n",
       "2  4/02/2016  1035000.0     1900.0      156.0                79.0   \n",
       "4  4/03/2017  1465000.0     1900.0      134.0               150.0   \n",
       "5  4/03/2017   850000.0        NaN       94.0                 NaN   \n",
       "6  4/06/2016  1600000.0     2014.0      120.0               142.0   \n",
       "\n",
       "                 Property Type  Num of Rooms  Num of Bathrooms  \\\n",
       "1  house/cottage/villa/terrace             2               1.0   \n",
       "2  house/cottage/villa/terrace             2               1.0   \n",
       "4  house/cottage/villa/terrace             3               2.0   \n",
       "5  house/cottage/villa/terrace             3               2.0   \n",
       "6  house/cottage/villa/terrace             4               1.0   \n",
       "\n",
       "   Num of Car Spaces  Distance to CBD      Suburb Postcode  \\\n",
       "1                1.0              2.5  Abbotsford   3067.0   \n",
       "2                0.0              2.5  Abbotsford   3067.0   \n",
       "4                0.0              2.5  Abbotsford   3067.0   \n",
       "5                1.0              2.5  Abbotsford   3067.0   \n",
       "6                2.0              2.5  Abbotsford   3067.0   \n",
       "\n",
       "         Council Area Council Area1  Latitude  Longitude  \\\n",
       "1  Yarra City Council         Yarra  -37.7996   144.9984   \n",
       "2  Yarra City Council         Yarra  -37.8079   144.9934   \n",
       "4  Yarra City Council         Yarra  -37.8093   144.9944   \n",
       "5  Yarra City Council         Yarra  -37.7969   144.9969   \n",
       "6  Yarra City Council         Yarra  -37.8072   144.9941   \n",
       "\n",
       "                  Region  Property Vicinity Count  \n",
       "1  Northern Metropolitan                   4019.0  \n",
       "2  Northern Metropolitan                   4019.0  \n",
       "4  Northern Metropolitan                   4019.0  \n",
       "5  Northern Metropolitan                   4019.0  \n",
       "6  Northern Metropolitan                   4019.0  "
      ]
     },
     "execution_count": 7,
     "metadata": {},
     "output_type": "execute_result"
    }
   ],
   "source": [
    "df_housing_clean.head()"
   ]
  },
  {
   "cell_type": "code",
   "execution_count": 8,
   "id": "13efcbc0",
   "metadata": {},
   "outputs": [
    {
     "data": {
      "text/plain": [
       "(15359, 18)"
      ]
     },
     "execution_count": 8,
     "metadata": {},
     "output_type": "execute_result"
    }
   ],
   "source": [
    "df_housing_clean.shape"
   ]
  },
  {
   "cell_type": "markdown",
   "id": "28cdbd7b",
   "metadata": {},
   "source": [
    "##### Missing Values"
   ]
  },
  {
   "cell_type": "code",
   "execution_count": 9,
   "id": "418c0308",
   "metadata": {},
   "outputs": [
    {
     "data": {
      "text/plain": [
       "Date Sold                     0\n",
       "Price                         0\n",
       "Year Built                 6420\n",
       "Land Size                     0\n",
       "Property Area Size         7369\n",
       "Property Type                 0\n",
       "Num of Rooms                  0\n",
       "Num of Bathrooms              0\n",
       "Num of Car Spaces             0\n",
       "Distance to CBD               0\n",
       "Suburb                        0\n",
       "Postcode                      0\n",
       "Council Area                  0\n",
       "Council Area1                 0\n",
       "Latitude                     18\n",
       "Longitude                    18\n",
       "Region                        0\n",
       "Property Vicinity Count       0\n",
       "dtype: int64"
      ]
     },
     "execution_count": 9,
     "metadata": {},
     "output_type": "execute_result"
    }
   ],
   "source": [
    "# Check for missing values\n",
    "\n",
    "df_housing_clean.isnull().sum()\n",
    "\n",
    "# No missing values to handle"
   ]
  },
  {
   "cell_type": "markdown",
   "id": "cb3e6b85",
   "metadata": {},
   "source": [
    "Note: Subset of clean Year Built and Land Size dataframe has already has created."
   ]
  },
  {
   "cell_type": "code",
   "execution_count": 10,
   "id": "7426caec",
   "metadata": {},
   "outputs": [
    {
     "data": {
      "text/plain": [
       "Date Sold                    0\n",
       "Price                        0\n",
       "Year Built                 293\n",
       "Land Size                    0\n",
       "Property Area Size           0\n",
       "Property Type                0\n",
       "Num of Rooms                 0\n",
       "Num of Bathrooms             0\n",
       "Num of Car Spaces            0\n",
       "Distance to CBD              0\n",
       "Suburb                       0\n",
       "Postcode                     0\n",
       "Council Area                 0\n",
       "Council Area1                0\n",
       "Latitude                     7\n",
       "Longitude                    7\n",
       "Region                       0\n",
       "Property Vicinity Count      0\n",
       "dtype: int64"
      ]
     },
     "execution_count": 10,
     "metadata": {},
     "output_type": "execute_result"
    }
   ],
   "source": [
    "# Check for missing values in subset\n",
    "\n",
    "df_prop_size.isnull().sum()\n",
    "\n",
    "# No missing values to handle"
   ]
  },
  {
   "cell_type": "markdown",
   "id": "5af75b23",
   "metadata": {},
   "source": [
    "##### Duplicate check"
   ]
  },
  {
   "cell_type": "code",
   "execution_count": 11,
   "id": "7762c19a",
   "metadata": {},
   "outputs": [],
   "source": [
    "dups = df_housing_clean.duplicated()"
   ]
  },
  {
   "cell_type": "code",
   "execution_count": 12,
   "id": "c79a7db0",
   "metadata": {},
   "outputs": [
    {
     "data": {
      "text/plain": [
       "(15359,)"
      ]
     },
     "execution_count": 12,
     "metadata": {},
     "output_type": "execute_result"
    }
   ],
   "source": [
    "dups.shape # No dups"
   ]
  },
  {
   "cell_type": "code",
   "execution_count": 13,
   "id": "727452a9",
   "metadata": {},
   "outputs": [],
   "source": [
    "# Check duplicates in subset\n",
    "\n",
    "dups1 = df_prop_size.duplicated()"
   ]
  },
  {
   "cell_type": "code",
   "execution_count": 14,
   "id": "0ac7a3ad",
   "metadata": {},
   "outputs": [
    {
     "data": {
      "text/plain": [
       "(7990,)"
      ]
     },
     "execution_count": 14,
     "metadata": {},
     "output_type": "execute_result"
    }
   ],
   "source": [
    "dups1.shape # No dups"
   ]
  },
  {
   "cell_type": "markdown",
   "id": "bfd1becb",
   "metadata": {},
   "source": [
    "##### Extreme values checks"
   ]
  },
  {
   "cell_type": "code",
   "execution_count": 15,
   "id": "cea09d1e",
   "metadata": {},
   "outputs": [
    {
     "data": {
      "text/plain": [
       "<AxesSubplot:xlabel='Price', ylabel='Count'>"
      ]
     },
     "execution_count": 15,
     "metadata": {},
     "output_type": "execute_result"
    },
    {
     "data": {
      "image/png": "[encoded data removed]",
      "text/plain": [
       "<Figure size 432x288 with 1 Axes>"
      ]
     },
     "metadata": {
      "needs_background": "light"
     },
     "output_type": "display_data"
    }
   ],
   "source": [
    "sns.histplot(df_housing_clean['Price'], bins = 30, kde = True) # Shows extreme values\n",
    "\n",
    "# Some of the outliers in the high values may need to be removed, but let's try without doing so first."
   ]
  },
  {
   "cell_type": "code",
   "execution_count": 16,
   "id": "f852ee23",
   "metadata": {},
   "outputs": [
    {
     "data": {
      "text/plain": [
       "1152276.462725438"
      ]
     },
     "execution_count": 16,
     "metadata": {},
     "output_type": "execute_result"
    }
   ],
   "source": [
    "# Check the mean\n",
    "\n",
    "df_housing_clean['Price'].mean()"
   ]
  },
  {
   "cell_type": "code",
   "execution_count": 17,
   "id": "7a4511ed",
   "metadata": {},
   "outputs": [
    {
     "data": {
      "text/plain": [
       "970000.0"
      ]
     },
     "execution_count": 17,
     "metadata": {},
     "output_type": "execute_result"
    }
   ],
   "source": [
    "# Check the median\n",
    "\n",
    "df_housing_clean['Price'].median()"
   ]
  },
  {
   "cell_type": "code",
   "execution_count": 18,
   "id": "37156ed8",
   "metadata": {},
   "outputs": [
    {
     "data": {
      "text/plain": [
       "6500000.0"
      ]
     },
     "execution_count": 18,
     "metadata": {},
     "output_type": "execute_result"
    }
   ],
   "source": [
    "# Check the max\n",
    "\n",
    "df_housing_clean['Price'].max()"
   ]
  },
  {
   "cell_type": "code",
   "execution_count": 19,
   "id": "a9c37596",
   "metadata": {},
   "outputs": [
    {
     "data": {
      "text/plain": [
       "<AxesSubplot:xlabel='Price', ylabel='Count'>"
      ]
     },
     "execution_count": 19,
     "metadata": {},
     "output_type": "execute_result"
    },
    {
     "data": {
      "image/png": "[encoded data removed]",
      "text/plain": [
       "<Figure size 432x288 with 1 Axes>"
      ]
     },
     "metadata": {
      "needs_background": "light"
     },
     "output_type": "display_data"
    }
   ],
   "source": [
    "# Check extreme values in subset\n",
    "\n",
    "sns.histplot(df_prop_size['Price'], bins = 30, kde = True) # Shows extreme values\n",
    "\n",
    "# Some of the outliers in the high values may need to be removed, but let's try without doing so first."
   ]
  },
  {
   "cell_type": "markdown",
   "id": "17fb4526",
   "metadata": {},
   "source": [
    "## 03. Explore data visually prior to regression analysis"
   ]
  },
  {
   "cell_type": "markdown",
   "id": "8602dd07",
   "metadata": {},
   "source": [
    "### Below are variables whose relationships to be tested:"
   ]
  },
  {
   "cell_type": "code",
   "execution_count": 20,
   "id": "889ee433",
   "metadata": {},
   "outputs": [
    {
     "data": {
      "image/png": "[encoded data removed]",
      "text/plain": [
       "<Figure size 432x288 with 1 Axes>"
      ]
     },
     "metadata": {
      "needs_background": "light"
     },
     "output_type": "display_data"
    }
   ],
   "source": [
    "# Create a scatterplot using matplotlib for another look at how the chosen variables plot against each other.\n",
    "# 1. Property Area Size vs Price\n",
    "\n",
    "df_prop_size.plot(x = 'Property Area Size', y='Price',style='o') # The style option creates a scatterplot; without it, we only have lines.\n",
    "plt.title('Property Area Size vs Price')  \n",
    "plt.xlabel('Property Area Size')  \n",
    "plt.ylabel('Price')  \n",
    "plt.show()"
   ]
  },
  {
   "cell_type": "code",
   "execution_count": 21,
   "id": "39ddb2b2",
   "metadata": {},
   "outputs": [
    {
     "data": {
      "image/png": "[encoded data removed]",
      "text/plain": [
       "<Figure size 432x288 with 1 Axes>"
      ]
     },
     "metadata": {
      "needs_background": "light"
     },
     "output_type": "display_data"
    }
   ],
   "source": [
    "# Create a scatterplot using matplotlib for another look at how the chosen variables plot against each other.\n",
    "# 2. Number of Bathrooms vs Price\n",
    "\n",
    "df_housing_clean.plot(x = 'Num of Bathrooms', y='Price',style='o') # The style option creates a scatterplot; without it, we only have lines.\n",
    "plt.title('Number of Bathrooms vs Price')  \n",
    "plt.xlabel('Number of Bathrooms')  \n",
    "plt.ylabel('Price')  \n",
    "plt.show()"
   ]
  },
  {
   "cell_type": "code",
   "execution_count": 22,
   "id": "b7806363",
   "metadata": {},
   "outputs": [
    {
     "data": {
      "image/png": "[encoded data removed]",
      "text/plain": [
       "<Figure size 432x288 with 1 Axes>"
      ]
     },
     "metadata": {
      "needs_background": "light"
     },
     "output_type": "display_data"
    }
   ],
   "source": [
    "# Create a scatterplot using matplotlib for another look at how the chosen variables plot against each other.\n",
    "# 3. Number of Rooms vs Price\n",
    "\n",
    "df_housing_clean.plot(x = 'Num of Rooms', y='Price',style='o') # The style option creates a scatterplot; without it, we only have lines.\n",
    "plt.title('Number of Rooms vs Price')  \n",
    "plt.xlabel('Number of Rooms')  \n",
    "plt.ylabel('Price')  \n",
    "plt.show()"
   ]
  },
  {
   "cell_type": "code",
   "execution_count": 23,
   "id": "a649a239",
   "metadata": {},
   "outputs": [
    {
     "data": {
      "image/png": "[encoded data removed]",
      "text/plain": [
       "<Figure size 432x288 with 1 Axes>"
      ]
     },
     "metadata": {
      "needs_background": "light"
     },
     "output_type": "display_data"
    }
   ],
   "source": [
    "# Create a scatterplot using matplotlib for another look at how the chosen variables plot against each other.\n",
    "# 4. Distance to CBD vs Price\n",
    "\n",
    "df_housing_clean.plot(x = 'Distance to CBD', y='Price',style='o') # The style option creates a scatterplot; without it, we only have lines.\n",
    "plt.title('Distance to CBD vs Price')  \n",
    "plt.xlabel('Distance to CBD')  \n",
    "plt.ylabel('Price')  \n",
    "plt.show()"
   ]
  },
  {
   "cell_type": "markdown",
   "id": "f02331fd",
   "metadata": {},
   "source": [
    "## 04. Hypotheses\n",
    "\n",
    "- The larger the property area size, the higher the price.\n",
    "- The larger higher number of rooms in a property, the higher the price.\n",
    "- The larger higher number of rooms in a property, the higher the price.\n",
    "- The shorter the property distance to CBD, the higher the price."
   ]
  },
  {
   "cell_type": "markdown",
   "id": "1179a20d",
   "metadata": {},
   "source": [
    "## 05. Data preparation for regression analysis"
   ]
  },
  {
   "cell_type": "markdown",
   "id": "34aa4dbf",
   "metadata": {},
   "source": [
    "#### Property Area Size vs Price:"
   ]
  },
  {
   "cell_type": "code",
   "execution_count": 24,
   "id": "932c5f99",
   "metadata": {},
   "outputs": [],
   "source": [
    "# Reshape the variables into NumPy arrays and put them into separate objects.\n",
    "\n",
    "X = df_prop_size['Property Area Size'].values.reshape(-1,1)\n",
    "y = df_prop_size['Price'].values.reshape(-1,1)"
   ]
  },
  {
   "cell_type": "code",
   "execution_count": 25,
   "id": "fdcf94e2",
   "metadata": {},
   "outputs": [
    {
     "data": {
      "text/plain": [
       "array([[ 79.],\n",
       "       [150.],\n",
       "       [142.],\n",
       "       ...,\n",
       "       [104.],\n",
       "       [120.],\n",
       "       [103.]])"
      ]
     },
     "execution_count": 25,
     "metadata": {},
     "output_type": "execute_result"
    }
   ],
   "source": [
    "X"
   ]
  },
  {
   "cell_type": "code",
   "execution_count": 26,
   "id": "15be61fe",
   "metadata": {},
   "outputs": [
    {
     "data": {
      "text/plain": [
       "array([[1035000.],\n",
       "       [1465000.],\n",
       "       [1600000.],\n",
       "       ...,\n",
       "       [ 888000.],\n",
       "       [ 705000.],\n",
       "       [1020000.]])"
      ]
     },
     "execution_count": 26,
     "metadata": {},
     "output_type": "execute_result"
    }
   ],
   "source": [
    "y"
   ]
  },
  {
   "cell_type": "code",
   "execution_count": 27,
   "id": "c5e85b85",
   "metadata": {},
   "outputs": [],
   "source": [
    "# Split data into a training set and a test set.\n",
    "\n",
    "X_train, X_test, y_train, y_test = train_test_split(X, y, test_size=0.3, random_state=0)"
   ]
  },
  {
   "cell_type": "markdown",
   "id": "c3b5de9c",
   "metadata": {},
   "source": [
    "#### Number Bathrooms vs Price"
   ]
  },
  {
   "cell_type": "code",
   "execution_count": 28,
   "id": "d35328ae",
   "metadata": {},
   "outputs": [],
   "source": [
    "# Reshape the variables into NumPy arrays and put them into separate objects.\n",
    "\n",
    "X_2 = df_housing_clean['Num of Bathrooms'].values.reshape(-1,1)\n",
    "y_2 = df_housing_clean['Price'].values.reshape(-1,1)"
   ]
  },
  {
   "cell_type": "code",
   "execution_count": 29,
   "id": "c76cf273",
   "metadata": {},
   "outputs": [
    {
     "data": {
      "text/plain": [
       "array([[1.],\n",
       "       [1.],\n",
       "       [2.],\n",
       "       ...,\n",
       "       [2.],\n",
       "       [1.],\n",
       "       [1.]])"
      ]
     },
     "execution_count": 29,
     "metadata": {},
     "output_type": "execute_result"
    }
   ],
   "source": [
    "X_2"
   ]
  },
  {
   "cell_type": "code",
   "execution_count": 30,
   "id": "1d8f82c5",
   "metadata": {},
   "outputs": [
    {
     "data": {
      "text/plain": [
       "array([[1480000.],\n",
       "       [1035000.],\n",
       "       [1465000.],\n",
       "       ...,\n",
       "       [ 888000.],\n",
       "       [ 705000.],\n",
       "       [1020000.]])"
      ]
     },
     "execution_count": 30,
     "metadata": {},
     "output_type": "execute_result"
    }
   ],
   "source": [
    "y_2"
   ]
  },
  {
   "cell_type": "code",
   "execution_count": 31,
   "id": "06618e26",
   "metadata": {},
   "outputs": [],
   "source": [
    "# Split data into a training set and a test set.\n",
    "\n",
    "X_train_2, X_test_2, y_train_2, y_test_2 = train_test_split(X_2, y_2, test_size=0.3, random_state=0)"
   ]
  },
  {
   "cell_type": "markdown",
   "id": "4c72c4de",
   "metadata": {},
   "source": [
    "#### Number of Rooms vs Price"
   ]
  },
  {
   "cell_type": "code",
   "execution_count": 32,
   "id": "48ee068f",
   "metadata": {},
   "outputs": [],
   "source": [
    "# Reshape the variables into NumPy arrays and put them into separate objects.\n",
    "\n",
    "X_3 = df_housing_clean['Num of Rooms'].values.reshape(-1,1)\n",
    "y_3 = df_housing_clean['Price'].values.reshape(-1,1)"
   ]
  },
  {
   "cell_type": "code",
   "execution_count": 33,
   "id": "d2e071e8",
   "metadata": {},
   "outputs": [
    {
     "data": {
      "text/plain": [
       "array([[2],\n",
       "       [2],\n",
       "       [3],\n",
       "       ...,\n",
       "       [2],\n",
       "       [2],\n",
       "       [2]], dtype=int64)"
      ]
     },
     "execution_count": 33,
     "metadata": {},
     "output_type": "execute_result"
    }
   ],
   "source": [
    "X_3"
   ]
  },
  {
   "cell_type": "code",
   "execution_count": 34,
   "id": "cedcaf78",
   "metadata": {},
   "outputs": [
    {
     "data": {
      "text/plain": [
       "array([[1480000.],\n",
       "       [1035000.],\n",
       "       [1465000.],\n",
       "       ...,\n",
       "       [ 888000.],\n",
       "       [ 705000.],\n",
       "       [1020000.]])"
      ]
     },
     "execution_count": 34,
     "metadata": {},
     "output_type": "execute_result"
    }
   ],
   "source": [
    "y_3"
   ]
  },
  {
   "cell_type": "code",
   "execution_count": 35,
   "id": "19192498",
   "metadata": {},
   "outputs": [],
   "source": [
    "# Split data into a training set and a test set.\n",
    "\n",
    "X_train_3, X_test_3, y_train_3, y_test_3 = train_test_split(X_3, y_3, test_size=0.3, random_state=0)"
   ]
  },
  {
   "cell_type": "markdown",
   "id": "70ade8a6",
   "metadata": {},
   "source": [
    "#### Distance to CBD vs Price"
   ]
  },
  {
   "cell_type": "code",
   "execution_count": 36,
   "id": "773b5567",
   "metadata": {},
   "outputs": [],
   "source": [
    "# Reshape the variables into NumPy arrays and put them into separate objects.\n",
    "\n",
    "X_4 = df_housing_clean['Distance to CBD'].values.reshape(-1,1)\n",
    "y_4 = df_housing_clean['Price'].values.reshape(-1,1)"
   ]
  },
  {
   "cell_type": "code",
   "execution_count": 37,
   "id": "eb953e75",
   "metadata": {},
   "outputs": [
    {
     "data": {
      "text/plain": [
       "array([[2.5],\n",
       "       [2.5],\n",
       "       [2.5],\n",
       "       ...,\n",
       "       [6.3],\n",
       "       [6.3],\n",
       "       [6.3]])"
      ]
     },
     "execution_count": 37,
     "metadata": {},
     "output_type": "execute_result"
    }
   ],
   "source": [
    "X_4"
   ]
  },
  {
   "cell_type": "code",
   "execution_count": 38,
   "id": "e72b98b0",
   "metadata": {},
   "outputs": [
    {
     "data": {
      "text/plain": [
       "array([[1480000.],\n",
       "       [1035000.],\n",
       "       [1465000.],\n",
       "       ...,\n",
       "       [ 888000.],\n",
       "       [ 705000.],\n",
       "       [1020000.]])"
      ]
     },
     "execution_count": 38,
     "metadata": {},
     "output_type": "execute_result"
    }
   ],
   "source": [
    "y_4"
   ]
  },
  {
   "cell_type": "code",
   "execution_count": 39,
   "id": "b3968c85",
   "metadata": {},
   "outputs": [],
   "source": [
    "# Split data into a training set and a test set.\n",
    "\n",
    "X_train_4, X_test_4, y_train_4, y_test_4 = train_test_split(X_4, y_4, test_size=0.3, random_state=0)"
   ]
  },
  {
   "cell_type": "markdown",
   "id": "67e74667",
   "metadata": {},
   "source": [
    "## 04. Regression analysis"
   ]
  },
  {
   "cell_type": "code",
   "execution_count": 40,
   "id": "c06460fb",
   "metadata": {},
   "outputs": [],
   "source": [
    "# Create a regression object.\n",
    "\n",
    "regression = LinearRegression()  # This is the regression object, which will be fit onto the training set."
   ]
  },
  {
   "cell_type": "code",
   "execution_count": 41,
   "id": "2b820686",
   "metadata": {},
   "outputs": [
    {
     "data": {
      "text/plain": [
       "LinearRegression()"
      ]
     },
     "execution_count": 41,
     "metadata": {},
     "output_type": "execute_result"
    }
   ],
   "source": [
    "# Fit the regression object onto the training set.\n",
    "\n",
    "regression.fit(X_train, y_train)"
   ]
  },
  {
   "cell_type": "code",
   "execution_count": 42,
   "id": "c58cde79",
   "metadata": {},
   "outputs": [],
   "source": [
    "# Predict the values of y using X.\n",
    "\n",
    "y_predicted = regression.predict(X_test)"
   ]
  },
  {
   "cell_type": "code",
   "execution_count": 43,
   "id": "732a46be",
   "metadata": {},
   "outputs": [
    {
     "data": {
      "image/png": "[encoded data removed]",
      "text/plain": [
       "<Figure size 432x288 with 1 Axes>"
      ]
     },
     "metadata": {
      "needs_background": "light"
     },
     "output_type": "display_data"
    }
   ],
   "source": [
    "# Create a plot that shows the regression line from the model on the test set.\n",
    "\n",
    "plot_test = plt\n",
    "plot_test.scatter(X_test, y_test, color='gray', s = 15)\n",
    "plot_test.plot(X_test, y_predicted, color='red', linewidth =3)\n",
    "plot_test.title('Property Area Size vs Price (Test set)')\n",
    "plot_test.xlabel('Property Area Size')\n",
    "plot_test.ylabel('Price')\n",
    "plot_test.show()"
   ]
  },
  {
   "cell_type": "code",
   "execution_count": 44,
   "id": "f7cfe81b",
   "metadata": {},
   "outputs": [],
   "source": [
    "# Create objects that contain the model summary statistics.\n",
    "\n",
    "rmse = mean_squared_error(y_test, y_predicted) # This is the mean squared error\n",
    "r2 = r2_score(y_test, y_predicted) # This is the R2 score. "
   ]
  },
  {
   "cell_type": "code",
   "execution_count": 45,
   "id": "3d6e106c",
   "metadata": {},
   "outputs": [
    {
     "name": "stdout",
     "output_type": "stream",
     "text": [
      "Slope: [[3826.09444661]]\n",
      "Mean squared error:  346592493084.04675\n",
      "R2 score:  0.19175715575841945\n"
     ]
    }
   ],
   "source": [
    "# Print the model summary statistics. This is where you evaluate the performance of the model.\n",
    "\n",
    "print('Slope:' ,regression.coef_)\n",
    "print('Mean squared error: ', rmse)\n",
    "print('R2 score: ', r2)"
   ]
  },
  {
   "cell_type": "markdown",
   "id": "3802b39a",
   "metadata": {},
   "source": [
    "R2 score or R squared is a metric that tells you how well the model explains the variance in the data. \n",
    "\n",
    "The R2 score for the model is 0.19 which is low meaning the model is not a great fit to be used in this correlation."
   ]
  },
  {
   "cell_type": "code",
   "execution_count": 46,
   "id": "90da64ad",
   "metadata": {},
   "outputs": [
    {
     "data": {
      "text/plain": [
       "array([[1102083.07623073],\n",
       "       [1052343.84842476],\n",
       "       [1167126.68182316],\n",
       "       ...,\n",
       "       [ 949039.29836619],\n",
       "       [ 968169.77059926],\n",
       "       [1423475.00974628]])"
      ]
     },
     "execution_count": 46,
     "metadata": {},
     "output_type": "execute_result"
    }
   ],
   "source": [
    "y_predicted"
   ]
  },
  {
   "cell_type": "code",
   "execution_count": 47,
   "id": "a5b95f1e",
   "metadata": {},
   "outputs": [
    {
     "data": {
      "text/html": [
       "<div>\n",
       "<style scoped>\n",
       "    .dataframe tbody tr th:only-of-type {\n",
       "        vertical-align: middle;\n",
       "    }\n",
       "\n",
       "    .dataframe tbody tr th {\n",
       "        vertical-align: top;\n",
       "    }\n",
       "\n",
       "    .dataframe thead th {\n",
       "        text-align: right;\n",
       "    }\n",
       "</style>\n",
       "<table border=\"1\" class=\"dataframe\">\n",
       "  <thead>\n",
       "    <tr style=\"text-align: right;\">\n",
       "      <th></th>\n",
       "      <th>Actual</th>\n",
       "      <th>Predicted</th>\n",
       "    </tr>\n",
       "  </thead>\n",
       "  <tbody>\n",
       "    <tr>\n",
       "      <th>0</th>\n",
       "      <td>600000.0</td>\n",
       "      <td>1.102083e+06</td>\n",
       "    </tr>\n",
       "    <tr>\n",
       "      <th>1</th>\n",
       "      <td>735000.0</td>\n",
       "      <td>1.052344e+06</td>\n",
       "    </tr>\n",
       "    <tr>\n",
       "      <th>2</th>\n",
       "      <td>540000.0</td>\n",
       "      <td>1.167127e+06</td>\n",
       "    </tr>\n",
       "    <tr>\n",
       "      <th>3</th>\n",
       "      <td>1475000.0</td>\n",
       "      <td>9.146044e+05</td>\n",
       "    </tr>\n",
       "    <tr>\n",
       "      <th>4</th>\n",
       "      <td>825000.0</td>\n",
       "      <td>1.033213e+06</td>\n",
       "    </tr>\n",
       "    <tr>\n",
       "      <th>5</th>\n",
       "      <td>940000.0</td>\n",
       "      <td>9.643437e+05</td>\n",
       "    </tr>\n",
       "    <tr>\n",
       "      <th>6</th>\n",
       "      <td>1868000.0</td>\n",
       "      <td>1.385214e+06</td>\n",
       "    </tr>\n",
       "    <tr>\n",
       "      <th>7</th>\n",
       "      <td>826000.0</td>\n",
       "      <td>1.056170e+06</td>\n",
       "    </tr>\n",
       "    <tr>\n",
       "      <th>8</th>\n",
       "      <td>998000.0</td>\n",
       "      <td>1.136518e+06</td>\n",
       "    </tr>\n",
       "    <tr>\n",
       "      <th>9</th>\n",
       "      <td>780000.0</td>\n",
       "      <td>7.347780e+05</td>\n",
       "    </tr>\n",
       "    <tr>\n",
       "      <th>10</th>\n",
       "      <td>1030000.0</td>\n",
       "      <td>1.917041e+06</td>\n",
       "    </tr>\n",
       "    <tr>\n",
       "      <th>11</th>\n",
       "      <td>502000.0</td>\n",
       "      <td>7.921694e+05</td>\n",
       "    </tr>\n",
       "    <tr>\n",
       "      <th>12</th>\n",
       "      <td>1250000.0</td>\n",
       "      <td>7.041693e+05</td>\n",
       "    </tr>\n",
       "    <tr>\n",
       "      <th>13</th>\n",
       "      <td>856000.0</td>\n",
       "      <td>1.362257e+06</td>\n",
       "    </tr>\n",
       "    <tr>\n",
       "      <th>14</th>\n",
       "      <td>1400000.0</td>\n",
       "      <td>1.193909e+06</td>\n",
       "    </tr>\n",
       "    <tr>\n",
       "      <th>15</th>\n",
       "      <td>805000.0</td>\n",
       "      <td>9.911263e+05</td>\n",
       "    </tr>\n",
       "    <tr>\n",
       "      <th>16</th>\n",
       "      <td>700000.0</td>\n",
       "      <td>9.031262e+05</td>\n",
       "    </tr>\n",
       "    <tr>\n",
       "      <th>17</th>\n",
       "      <td>1040000.0</td>\n",
       "      <td>1.132692e+06</td>\n",
       "    </tr>\n",
       "    <tr>\n",
       "      <th>18</th>\n",
       "      <td>2020000.0</td>\n",
       "      <td>7.041693e+05</td>\n",
       "    </tr>\n",
       "    <tr>\n",
       "      <th>19</th>\n",
       "      <td>1622000.0</td>\n",
       "      <td>1.163301e+06</td>\n",
       "    </tr>\n",
       "    <tr>\n",
       "      <th>20</th>\n",
       "      <td>3400000.0</td>\n",
       "      <td>1.641562e+06</td>\n",
       "    </tr>\n",
       "    <tr>\n",
       "      <th>21</th>\n",
       "      <td>2050000.0</td>\n",
       "      <td>1.553562e+06</td>\n",
       "    </tr>\n",
       "    <tr>\n",
       "      <th>22</th>\n",
       "      <td>505000.0</td>\n",
       "      <td>9.563089e+05</td>\n",
       "    </tr>\n",
       "    <tr>\n",
       "      <th>23</th>\n",
       "      <td>890000.0</td>\n",
       "      <td>9.719959e+05</td>\n",
       "    </tr>\n",
       "    <tr>\n",
       "      <th>24</th>\n",
       "      <td>930000.0</td>\n",
       "      <td>8.112999e+05</td>\n",
       "    </tr>\n",
       "    <tr>\n",
       "      <th>25</th>\n",
       "      <td>860000.0</td>\n",
       "      <td>9.222566e+05</td>\n",
       "    </tr>\n",
       "    <tr>\n",
       "      <th>26</th>\n",
       "      <td>990000.0</td>\n",
       "      <td>9.605176e+05</td>\n",
       "    </tr>\n",
       "    <tr>\n",
       "      <th>27</th>\n",
       "      <td>810000.0</td>\n",
       "      <td>1.285736e+06</td>\n",
       "    </tr>\n",
       "    <tr>\n",
       "      <th>28</th>\n",
       "      <td>2000000.0</td>\n",
       "      <td>1.534432e+06</td>\n",
       "    </tr>\n",
       "    <tr>\n",
       "      <th>29</th>\n",
       "      <td>440000.0</td>\n",
       "      <td>8.686913e+05</td>\n",
       "    </tr>\n",
       "  </tbody>\n",
       "</table>\n",
       "</div>"
      ],
      "text/plain": [
       "       Actual     Predicted\n",
       "0    600000.0  1.102083e+06\n",
       "1    735000.0  1.052344e+06\n",
       "2    540000.0  1.167127e+06\n",
       "3   1475000.0  9.146044e+05\n",
       "4    825000.0  1.033213e+06\n",
       "5    940000.0  9.643437e+05\n",
       "6   1868000.0  1.385214e+06\n",
       "7    826000.0  1.056170e+06\n",
       "8    998000.0  1.136518e+06\n",
       "9    780000.0  7.347780e+05\n",
       "10  1030000.0  1.917041e+06\n",
       "11   502000.0  7.921694e+05\n",
       "12  1250000.0  7.041693e+05\n",
       "13   856000.0  1.362257e+06\n",
       "14  1400000.0  1.193909e+06\n",
       "15   805000.0  9.911263e+05\n",
       "16   700000.0  9.031262e+05\n",
       "17  1040000.0  1.132692e+06\n",
       "18  2020000.0  7.041693e+05\n",
       "19  1622000.0  1.163301e+06\n",
       "20  3400000.0  1.641562e+06\n",
       "21  2050000.0  1.553562e+06\n",
       "22   505000.0  9.563089e+05\n",
       "23   890000.0  9.719959e+05\n",
       "24   930000.0  8.112999e+05\n",
       "25   860000.0  9.222566e+05\n",
       "26   990000.0  9.605176e+05\n",
       "27   810000.0  1.285736e+06\n",
       "28  2000000.0  1.534432e+06\n",
       "29   440000.0  8.686913e+05"
      ]
     },
     "execution_count": 47,
     "metadata": {},
     "output_type": "execute_result"
    }
   ],
   "source": [
    "# Create a dataframe comparing the actual and predicted values of y.\n",
    "\n",
    "data = pd.DataFrame({'Actual': y_test.flatten(), 'Predicted': y_predicted.flatten()})\n",
    "data.head(30)"
   ]
  },
  {
   "cell_type": "markdown",
   "id": "04c0c556",
   "metadata": {},
   "source": [
    "##### Compare how the regression fits the training set"
   ]
  },
  {
   "cell_type": "code",
   "execution_count": 48,
   "id": "0f92ce4b",
   "metadata": {},
   "outputs": [],
   "source": [
    "# Predict.\n",
    "\n",
    "y_predicted_train = regression.predict(X_train) # This is predicting X_train!"
   ]
  },
  {
   "cell_type": "code",
   "execution_count": 49,
   "id": "9a896a42",
   "metadata": {},
   "outputs": [],
   "source": [
    "rmse = mean_squared_error(y_train, y_predicted_train)\n",
    "r2 = r2_score(y_train, y_predicted_train)"
   ]
  },
  {
   "cell_type": "code",
   "execution_count": 50,
   "id": "b3855d8d",
   "metadata": {},
   "outputs": [
    {
     "name": "stdout",
     "output_type": "stream",
     "text": [
      "Slope: [[3826.09444661]]\n",
      "Mean squared error:  357001508280.4593\n",
      "R2 score:  0.22938568181666064\n"
     ]
    }
   ],
   "source": [
    "print('Slope:' ,regression.coef_)\n",
    "print('Mean squared error: ', rmse)\n",
    "print('R2 score: ', r2)"
   ]
  },
  {
   "cell_type": "markdown",
   "id": "4adc90ce",
   "metadata": {},
   "source": [
    "The model fits the training set only slightly better than the test set (confirmed by an R2 score of 0.23). This means there is no overfit of the model. However, it also confirms that the relationship is not purely linear."
   ]
  },
  {
   "cell_type": "code",
   "execution_count": 51,
   "id": "2a5dc27e",
   "metadata": {},
   "outputs": [
    {
     "data": {
      "image/png": "[encoded data removed]",
      "text/plain": [
       "<Figure size 432x288 with 1 Axes>"
      ]
     },
     "metadata": {
      "needs_background": "light"
     },
     "output_type": "display_data"
    }
   ],
   "source": [
    "# Visualising the training set results.\n",
    "\n",
    "plot_test = plt\n",
    "plot_test.scatter(X_train, y_train, color='green', s = 15)\n",
    "plot_test.plot(X_train, y_predicted_train, color='red', linewidth =3)\n",
    "plot_test.title('Property Area Size vs Price (Test set)')\n",
    "plot_test.xlabel('Property Area Size')\n",
    "plot_test.ylabel('Price')\n",
    "plot_test.show()"
   ]
  },
  {
   "cell_type": "markdown",
   "id": "89cb6c39",
   "metadata": {},
   "source": [
    "### Bonus: performance improvement after removing outliers"
   ]
  },
  {
   "cell_type": "code",
   "execution_count": 52,
   "id": "83962dc6",
   "metadata": {},
   "outputs": [],
   "source": [
    "# Clean the extreme values from the \"Price\" variable observed.\n",
    "\n",
    "df_test = df_prop_size[df_prop_size['Price'] <=4000000] "
   ]
  },
  {
   "cell_type": "code",
   "execution_count": 53,
   "id": "256f2aee",
   "metadata": {},
   "outputs": [],
   "source": [
    "# Clean the extreme values from the \"Property Area Size\" variable observed.\n",
    "\n",
    "df_test1 = df_test[df_test['Property Area Size'] <=500] "
   ]
  },
  {
   "cell_type": "code",
   "execution_count": 54,
   "id": "346f8765",
   "metadata": {},
   "outputs": [
    {
     "data": {
      "image/png": "[encoded data removed]",
      "text/plain": [
       "<Figure size 432x288 with 1 Axes>"
      ]
     },
     "metadata": {
      "needs_background": "light"
     },
     "output_type": "display_data"
    }
   ],
   "source": [
    "# See how the scatterplot looks without outliers.\n",
    "\n",
    "df_test1.plot(x = 'Property Area Size', y='Price', style='o')  \n",
    "plt.title('Property Area Size vs Price')  \n",
    "plt.xlabel('Property Area Size')  \n",
    "plt.ylabel('Price')  \n",
    "plt.show()"
   ]
  },
  {
   "cell_type": "code",
   "execution_count": 55,
   "id": "2a0ccbab",
   "metadata": {},
   "outputs": [],
   "source": [
    "# Reshape again.\n",
    "\n",
    "X_1 = df_test1['Property Area Size'].values.reshape(-1,1)\n",
    "y_1 = df_test1['Price'].values.reshape(-1,1)"
   ]
  },
  {
   "cell_type": "code",
   "execution_count": 56,
   "id": "fbbe8a9f",
   "metadata": {},
   "outputs": [],
   "source": [
    "X_train_1, X_test_1, y_train_1, y_test_1 = train_test_split(X_1, y_1, test_size=0.3, random_state=0)"
   ]
  },
  {
   "cell_type": "code",
   "execution_count": 57,
   "id": "c1ae59c7",
   "metadata": {},
   "outputs": [
    {
     "data": {
      "text/plain": [
       "LinearRegression()"
      ]
     },
     "execution_count": 57,
     "metadata": {},
     "output_type": "execute_result"
    }
   ],
   "source": [
    "# Run and fit the regression.\n",
    "\n",
    "regression = LinearRegression()  \n",
    "regression.fit(X_train_1, y_train_1)"
   ]
  },
  {
   "cell_type": "code",
   "execution_count": 58,
   "id": "1160cdee",
   "metadata": {},
   "outputs": [],
   "source": [
    "# Predict.\n",
    "\n",
    "y_predicted_1 = regression.predict(X_test_1)"
   ]
  },
  {
   "cell_type": "code",
   "execution_count": 59,
   "id": "39c08516",
   "metadata": {},
   "outputs": [],
   "source": [
    "rmse = mean_squared_error(y_test_1, y_predicted_1)\n",
    "r2 = r2_score(y_test_1, y_predicted_1)"
   ]
  },
  {
   "cell_type": "code",
   "execution_count": 60,
   "id": "e697b733",
   "metadata": {},
   "outputs": [
    {
     "name": "stdout",
     "output_type": "stream",
     "text": [
      "Slope: [[4464.12741469]]\n",
      "Mean squared error:  275219392984.8855\n",
      "R2 score:  0.2667220451367164\n"
     ]
    }
   ],
   "source": [
    "print('Slope:' ,regression.coef_)\n",
    "print('Mean squared error: ', rmse)\n",
    "print('R2 score: ', r2)"
   ]
  },
  {
   "cell_type": "markdown",
   "id": "386d9c1f",
   "metadata": {},
   "source": [
    "R2 score has only slightly improved which means linear regression is not the correct one for modelling the relationship between property area size and price."
   ]
  },
  {
   "cell_type": "code",
   "execution_count": 61,
   "id": "3ad5530e",
   "metadata": {},
   "outputs": [
    {
     "data": {
      "image/png": "[encoded data removed]",
      "text/plain": [
       "<Figure size 432x288 with 1 Axes>"
      ]
     },
     "metadata": {
      "needs_background": "light"
     },
     "output_type": "display_data"
    }
   ],
   "source": [
    "# Visualizing the test set results.\n",
    "plot_test = plt\n",
    "plot_test.scatter(X_test_1, y_test_1, color='gray', s = 15)\n",
    "plot_test.plot(X_train_1, regression.predict(X_train_1), color='red', linewidth =3)\n",
    "plot_test.title('Property Area Size vs Price (Test set)')\n",
    "plot_test.xlabel('Property Area Size')\n",
    "plot_test.ylabel('Price')\n",
    "plot_test.show()"
   ]
  },
  {
   "cell_type": "markdown",
   "id": "104967e2",
   "metadata": {},
   "source": [
    "#### Number of Bathrooms vs Price"
   ]
  },
  {
   "cell_type": "code",
   "execution_count": 62,
   "id": "bca6432d",
   "metadata": {},
   "outputs": [],
   "source": [
    "# Create a regression object.\n",
    "\n",
    "regression = LinearRegression()  # This is the regression object, which will be fit onto the training set."
   ]
  },
  {
   "cell_type": "code",
   "execution_count": 63,
   "id": "d635a65c",
   "metadata": {},
   "outputs": [
    {
     "data": {
      "text/plain": [
       "LinearRegression()"
      ]
     },
     "execution_count": 63,
     "metadata": {},
     "output_type": "execute_result"
    }
   ],
   "source": [
    "# Fit the regression object onto the training set.\n",
    "\n",
    "regression.fit(X_train_2, y_train_2)"
   ]
  },
  {
   "cell_type": "code",
   "execution_count": 64,
   "id": "d86a35bc",
   "metadata": {},
   "outputs": [],
   "source": [
    "# Predict the values of y_2 using X_2.\n",
    "\n",
    "y_predicted_2 = regression.predict(X_test_2)"
   ]
  },
  {
   "cell_type": "code",
   "execution_count": 65,
   "id": "ab0228d1",
   "metadata": {},
   "outputs": [
    {
     "data": {
      "image/png": "[encoded data removed]",
      "text/plain": [
       "<Figure size 432x288 with 1 Axes>"
      ]
     },
     "metadata": {
      "needs_background": "light"
     },
     "output_type": "display_data"
    }
   ],
   "source": [
    "# Create a plot that shows the regression line from the model on the test set.\n",
    "\n",
    "plot_test = plt\n",
    "plot_test.scatter(X_test_2, y_test_2, color='gray', s = 15)\n",
    "plot_test.plot(X_test_2, y_predicted_2, color='red', linewidth =3)\n",
    "plot_test.title('Num of Rooms vs Price (Test set)')\n",
    "plot_test.xlabel('Num of Rooms')\n",
    "plot_test.ylabel('Price')\n",
    "plot_test.show()"
   ]
  },
  {
   "cell_type": "code",
   "execution_count": 66,
   "id": "befcaa76",
   "metadata": {},
   "outputs": [],
   "source": [
    "# Create objects that contain the model summary statistics.\n",
    "\n",
    "rmse = mean_squared_error(y_test_2, y_predicted_2) # This is the mean squared error\n",
    "r2 = r2_score(y_test_2, y_predicted_2) # This is the R2 score. "
   ]
  },
  {
   "cell_type": "code",
   "execution_count": 67,
   "id": "a3e2c64e",
   "metadata": {},
   "outputs": [
    {
     "name": "stdout",
     "output_type": "stream",
     "text": [
      "Slope: [[358840.01441755]]\n",
      "Mean squared error:  356064782025.9387\n",
      "R2 score:  0.17900741163378087\n"
     ]
    }
   ],
   "source": [
    "# Print the model summary statistics. This is where you evaluate the performance of the model.\n",
    "\n",
    "print('Slope:' ,regression.coef_)\n",
    "print('Mean squared error: ', rmse)\n",
    "print('R2 score: ', r2)"
   ]
  },
  {
   "cell_type": "markdown",
   "id": "bc3d1ff1",
   "metadata": {},
   "source": [
    "R2 score or R squared is a metric that tells you how well the model explains the variance in the data. \n",
    "\n",
    "The R2 score for the model is 0.18 which is low meaning the model is not a great fit to be used in this correlation."
   ]
  },
  {
   "cell_type": "code",
   "execution_count": 68,
   "id": "637bdb56",
   "metadata": {},
   "outputs": [
    {
     "data": {
      "text/plain": [
       "array([[ 928735.57628838],\n",
       "       [ 928735.57628838],\n",
       "       [ 928735.57628838],\n",
       "       ...,\n",
       "       [ 928735.57628838],\n",
       "       [1287575.59070593],\n",
       "       [ 928735.57628838]])"
      ]
     },
     "execution_count": 68,
     "metadata": {},
     "output_type": "execute_result"
    }
   ],
   "source": [
    "y_predicted_2"
   ]
  },
  {
   "cell_type": "code",
   "execution_count": 69,
   "id": "76af0a17",
   "metadata": {},
   "outputs": [
    {
     "data": {
      "text/html": [
       "<div>\n",
       "<style scoped>\n",
       "    .dataframe tbody tr th:only-of-type {\n",
       "        vertical-align: middle;\n",
       "    }\n",
       "\n",
       "    .dataframe tbody tr th {\n",
       "        vertical-align: top;\n",
       "    }\n",
       "\n",
       "    .dataframe thead th {\n",
       "        text-align: right;\n",
       "    }\n",
       "</style>\n",
       "<table border=\"1\" class=\"dataframe\">\n",
       "  <thead>\n",
       "    <tr style=\"text-align: right;\">\n",
       "      <th></th>\n",
       "      <th>Actual</th>\n",
       "      <th>Predicted</th>\n",
       "    </tr>\n",
       "  </thead>\n",
       "  <tbody>\n",
       "    <tr>\n",
       "      <th>0</th>\n",
       "      <td>990000.0</td>\n",
       "      <td>9.287356e+05</td>\n",
       "    </tr>\n",
       "    <tr>\n",
       "      <th>1</th>\n",
       "      <td>650000.0</td>\n",
       "      <td>9.287356e+05</td>\n",
       "    </tr>\n",
       "    <tr>\n",
       "      <th>2</th>\n",
       "      <td>434500.0</td>\n",
       "      <td>9.287356e+05</td>\n",
       "    </tr>\n",
       "    <tr>\n",
       "      <th>3</th>\n",
       "      <td>959000.0</td>\n",
       "      <td>1.287576e+06</td>\n",
       "    </tr>\n",
       "    <tr>\n",
       "      <th>4</th>\n",
       "      <td>540000.0</td>\n",
       "      <td>1.287576e+06</td>\n",
       "    </tr>\n",
       "    <tr>\n",
       "      <th>5</th>\n",
       "      <td>1602500.0</td>\n",
       "      <td>9.287356e+05</td>\n",
       "    </tr>\n",
       "    <tr>\n",
       "      <th>6</th>\n",
       "      <td>2300000.0</td>\n",
       "      <td>1.287576e+06</td>\n",
       "    </tr>\n",
       "    <tr>\n",
       "      <th>7</th>\n",
       "      <td>532000.0</td>\n",
       "      <td>1.287576e+06</td>\n",
       "    </tr>\n",
       "    <tr>\n",
       "      <th>8</th>\n",
       "      <td>850000.0</td>\n",
       "      <td>9.287356e+05</td>\n",
       "    </tr>\n",
       "    <tr>\n",
       "      <th>9</th>\n",
       "      <td>1170000.0</td>\n",
       "      <td>1.287576e+06</td>\n",
       "    </tr>\n",
       "    <tr>\n",
       "      <th>10</th>\n",
       "      <td>1755000.0</td>\n",
       "      <td>1.287576e+06</td>\n",
       "    </tr>\n",
       "    <tr>\n",
       "      <th>11</th>\n",
       "      <td>585000.0</td>\n",
       "      <td>1.287576e+06</td>\n",
       "    </tr>\n",
       "    <tr>\n",
       "      <th>12</th>\n",
       "      <td>1028000.0</td>\n",
       "      <td>1.646416e+06</td>\n",
       "    </tr>\n",
       "    <tr>\n",
       "      <th>13</th>\n",
       "      <td>1360000.0</td>\n",
       "      <td>1.646416e+06</td>\n",
       "    </tr>\n",
       "    <tr>\n",
       "      <th>14</th>\n",
       "      <td>1440000.0</td>\n",
       "      <td>9.287356e+05</td>\n",
       "    </tr>\n",
       "    <tr>\n",
       "      <th>15</th>\n",
       "      <td>1390000.0</td>\n",
       "      <td>1.287576e+06</td>\n",
       "    </tr>\n",
       "    <tr>\n",
       "      <th>16</th>\n",
       "      <td>910000.0</td>\n",
       "      <td>9.287356e+05</td>\n",
       "    </tr>\n",
       "    <tr>\n",
       "      <th>17</th>\n",
       "      <td>890000.0</td>\n",
       "      <td>9.287356e+05</td>\n",
       "    </tr>\n",
       "    <tr>\n",
       "      <th>18</th>\n",
       "      <td>1495000.0</td>\n",
       "      <td>1.287576e+06</td>\n",
       "    </tr>\n",
       "    <tr>\n",
       "      <th>19</th>\n",
       "      <td>1131000.0</td>\n",
       "      <td>9.287356e+05</td>\n",
       "    </tr>\n",
       "    <tr>\n",
       "      <th>20</th>\n",
       "      <td>1950000.0</td>\n",
       "      <td>9.287356e+05</td>\n",
       "    </tr>\n",
       "    <tr>\n",
       "      <th>21</th>\n",
       "      <td>1732000.0</td>\n",
       "      <td>9.287356e+05</td>\n",
       "    </tr>\n",
       "    <tr>\n",
       "      <th>22</th>\n",
       "      <td>900000.0</td>\n",
       "      <td>9.287356e+05</td>\n",
       "    </tr>\n",
       "    <tr>\n",
       "      <th>23</th>\n",
       "      <td>630000.0</td>\n",
       "      <td>1.287576e+06</td>\n",
       "    </tr>\n",
       "    <tr>\n",
       "      <th>24</th>\n",
       "      <td>833000.0</td>\n",
       "      <td>9.287356e+05</td>\n",
       "    </tr>\n",
       "    <tr>\n",
       "      <th>25</th>\n",
       "      <td>604000.0</td>\n",
       "      <td>1.287576e+06</td>\n",
       "    </tr>\n",
       "    <tr>\n",
       "      <th>26</th>\n",
       "      <td>1191000.0</td>\n",
       "      <td>9.287356e+05</td>\n",
       "    </tr>\n",
       "    <tr>\n",
       "      <th>27</th>\n",
       "      <td>835000.0</td>\n",
       "      <td>9.287356e+05</td>\n",
       "    </tr>\n",
       "    <tr>\n",
       "      <th>28</th>\n",
       "      <td>1250000.0</td>\n",
       "      <td>9.287356e+05</td>\n",
       "    </tr>\n",
       "    <tr>\n",
       "      <th>29</th>\n",
       "      <td>2160000.0</td>\n",
       "      <td>1.287576e+06</td>\n",
       "    </tr>\n",
       "  </tbody>\n",
       "</table>\n",
       "</div>"
      ],
      "text/plain": [
       "       Actual     Predicted\n",
       "0    990000.0  9.287356e+05\n",
       "1    650000.0  9.287356e+05\n",
       "2    434500.0  9.287356e+05\n",
       "3    959000.0  1.287576e+06\n",
       "4    540000.0  1.287576e+06\n",
       "5   1602500.0  9.287356e+05\n",
       "6   2300000.0  1.287576e+06\n",
       "7    532000.0  1.287576e+06\n",
       "8    850000.0  9.287356e+05\n",
       "9   1170000.0  1.287576e+06\n",
       "10  1755000.0  1.287576e+06\n",
       "11   585000.0  1.287576e+06\n",
       "12  1028000.0  1.646416e+06\n",
       "13  1360000.0  1.646416e+06\n",
       "14  1440000.0  9.287356e+05\n",
       "15  1390000.0  1.287576e+06\n",
       "16   910000.0  9.287356e+05\n",
       "17   890000.0  9.287356e+05\n",
       "18  1495000.0  1.287576e+06\n",
       "19  1131000.0  9.287356e+05\n",
       "20  1950000.0  9.287356e+05\n",
       "21  1732000.0  9.287356e+05\n",
       "22   900000.0  9.287356e+05\n",
       "23   630000.0  1.287576e+06\n",
       "24   833000.0  9.287356e+05\n",
       "25   604000.0  1.287576e+06\n",
       "26  1191000.0  9.287356e+05\n",
       "27   835000.0  9.287356e+05\n",
       "28  1250000.0  9.287356e+05\n",
       "29  2160000.0  1.287576e+06"
      ]
     },
     "execution_count": 69,
     "metadata": {},
     "output_type": "execute_result"
    }
   ],
   "source": [
    "# Create a dataframe comparing the actual and predicted values of y.\n",
    "\n",
    "data = pd.DataFrame({'Actual': y_test_2.flatten(), 'Predicted': y_predicted_2.flatten()})\n",
    "data.head(30)"
   ]
  },
  {
   "cell_type": "markdown",
   "id": "39c4a6d8",
   "metadata": {},
   "source": [
    "##### Compare how the regression fits the training set"
   ]
  },
  {
   "cell_type": "code",
   "execution_count": 70,
   "id": "4f5de8ea",
   "metadata": {},
   "outputs": [],
   "source": [
    "# Predict.\n",
    "\n",
    "y_predicted_train_2 = regression.predict(X_train_2) # This is predicting X_train!"
   ]
  },
  {
   "cell_type": "code",
   "execution_count": 71,
   "id": "cea8a5f6",
   "metadata": {},
   "outputs": [],
   "source": [
    "rmse = mean_squared_error(y_train_2, y_predicted_train_2)\n",
    "r2 = r2_score(y_train_2, y_predicted_train_2)"
   ]
  },
  {
   "cell_type": "code",
   "execution_count": 72,
   "id": "053ee6dd",
   "metadata": {},
   "outputs": [
    {
     "name": "stdout",
     "output_type": "stream",
     "text": [
      "Slope: [[358840.01441755]]\n",
      "Mean squared error:  344481018409.7999\n",
      "R2 score:  0.15825037155777888\n"
     ]
    }
   ],
   "source": [
    "print('Slope:' ,regression.coef_)\n",
    "print('Mean squared error: ', rmse)\n",
    "print('R2 score: ', r2)"
   ]
  },
  {
   "cell_type": "markdown",
   "id": "dc408c84",
   "metadata": {},
   "source": [
    "The model fits the training set only slightly better than the test set (confirmed by an R2 score of 0.16). This means there is no overfit of the model. However, it also confirms that the relationship is not purely linear."
   ]
  },
  {
   "cell_type": "code",
   "execution_count": 73,
   "id": "97578874",
   "metadata": {},
   "outputs": [
    {
     "data": {
      "image/png": "[encoded data removed]",
      "text/plain": [
       "<Figure size 432x288 with 1 Axes>"
      ]
     },
     "metadata": {
      "needs_background": "light"
     },
     "output_type": "display_data"
    }
   ],
   "source": [
    "# Visualizing the training set results.\n",
    "\n",
    "plot_test = plt\n",
    "plot_test.scatter(X_train_2, y_train_2, color='green', s = 15)\n",
    "plot_test.plot(X_train_2, y_predicted_train_2, color='red', linewidth =3)\n",
    "plot_test.title('Num of Bathrooms vs Price (Test set)')\n",
    "plot_test.xlabel('Num of Bathrooms')\n",
    "plot_test.ylabel('Price')\n",
    "plot_test.show()"
   ]
  },
  {
   "cell_type": "markdown",
   "id": "e495a44a",
   "metadata": {},
   "source": [
    "#### Number of Rooms vs Price"
   ]
  },
  {
   "cell_type": "code",
   "execution_count": 74,
   "id": "a7d44e8c",
   "metadata": {},
   "outputs": [],
   "source": [
    "# Create a regression object.\n",
    "\n",
    "regression = LinearRegression()  # This is the regression object, which will be fit onto the training set."
   ]
  },
  {
   "cell_type": "code",
   "execution_count": 75,
   "id": "171d37d2",
   "metadata": {},
   "outputs": [
    {
     "data": {
      "text/plain": [
       "LinearRegression()"
      ]
     },
     "execution_count": 75,
     "metadata": {},
     "output_type": "execute_result"
    }
   ],
   "source": [
    "# Fit the regression object onto the training set.\n",
    "\n",
    "regression.fit(X_train_3, y_train_3)"
   ]
  },
  {
   "cell_type": "code",
   "execution_count": 76,
   "id": "5e3e0625",
   "metadata": {},
   "outputs": [],
   "source": [
    "# Predict the values of y_3 using X_3.\n",
    "\n",
    "y_predicted_3 = regression.predict(X_test_3)"
   ]
  },
  {
   "cell_type": "code",
   "execution_count": 77,
   "id": "3233366f",
   "metadata": {},
   "outputs": [
    {
     "data": {
      "image/png": "[encoded data removed]",
      "text/plain": [
       "<Figure size 432x288 with 1 Axes>"
      ]
     },
     "metadata": {
      "needs_background": "light"
     },
     "output_type": "display_data"
    }
   ],
   "source": [
    "# Create a plot that shows the regression line from the model on the test set.\n",
    "\n",
    "plot_test = plt\n",
    "plot_test.scatter(X_test_3, y_test_3, color='gray', s = 15)\n",
    "plot_test.plot(X_test_3, y_predicted_3, color='red', linewidth =3)\n",
    "plot_test.title('Num of Rooms vs Price (Test set)')\n",
    "plot_test.xlabel('Num of Rooms')\n",
    "plot_test.ylabel('Price')\n",
    "plot_test.show()"
   ]
  },
  {
   "cell_type": "code",
   "execution_count": 78,
   "id": "70f24176",
   "metadata": {},
   "outputs": [],
   "source": [
    "# Create objects that contain the model summary statistics.\n",
    "\n",
    "rmse = mean_squared_error(y_test_3, y_predicted_3) # This is the mean squared error\n",
    "r2 = r2_score(y_test_3, y_predicted_3) # This is the R2 score. "
   ]
  },
  {
   "cell_type": "code",
   "execution_count": 79,
   "id": "5ae1650d",
   "metadata": {},
   "outputs": [
    {
     "name": "stdout",
     "output_type": "stream",
     "text": [
      "Slope: [[285003.80938199]]\n",
      "Mean squared error:  373912212659.513\n",
      "R2 score:  0.13785588805940707\n"
     ]
    }
   ],
   "source": [
    "# Print the model summary statistics. This is where you evaluate the performance of the model.\n",
    "\n",
    "print('Slope:' ,regression.coef_)\n",
    "print('Mean squared error: ', rmse)\n",
    "print('R2 score: ', r2)"
   ]
  },
  {
   "cell_type": "markdown",
   "id": "68d15322",
   "metadata": {},
   "source": [
    "R2 score or R squared is a metric that tells you how well the model explains the variance in the data. \n",
    "\n",
    "The R2 score for the model is 0.14 which is low meaning the model is not a great fit to be used in this correlation."
   ]
  },
  {
   "cell_type": "code",
   "execution_count": 80,
   "id": "e680bf78",
   "metadata": {},
   "outputs": [
    {
     "data": {
      "text/plain": [
       "array([[ 810976.40695786],\n",
       "       [ 810976.40695786],\n",
       "       [ 810976.40695786],\n",
       "       ...,\n",
       "       [ 810976.40695786],\n",
       "       [1095980.21633985],\n",
       "       [ 810976.40695786]])"
      ]
     },
     "execution_count": 80,
     "metadata": {},
     "output_type": "execute_result"
    }
   ],
   "source": [
    "y_predicted_3"
   ]
  },
  {
   "cell_type": "code",
   "execution_count": 81,
   "id": "38ee932f",
   "metadata": {},
   "outputs": [
    {
     "data": {
      "text/html": [
       "<div>\n",
       "<style scoped>\n",
       "    .dataframe tbody tr th:only-of-type {\n",
       "        vertical-align: middle;\n",
       "    }\n",
       "\n",
       "    .dataframe tbody tr th {\n",
       "        vertical-align: top;\n",
       "    }\n",
       "\n",
       "    .dataframe thead th {\n",
       "        text-align: right;\n",
       "    }\n",
       "</style>\n",
       "<table border=\"1\" class=\"dataframe\">\n",
       "  <thead>\n",
       "    <tr style=\"text-align: right;\">\n",
       "      <th></th>\n",
       "      <th>Actual</th>\n",
       "      <th>Predicted</th>\n",
       "    </tr>\n",
       "  </thead>\n",
       "  <tbody>\n",
       "    <tr>\n",
       "      <th>0</th>\n",
       "      <td>990000.0</td>\n",
       "      <td>8.109764e+05</td>\n",
       "    </tr>\n",
       "    <tr>\n",
       "      <th>1</th>\n",
       "      <td>650000.0</td>\n",
       "      <td>8.109764e+05</td>\n",
       "    </tr>\n",
       "    <tr>\n",
       "      <th>2</th>\n",
       "      <td>434500.0</td>\n",
       "      <td>8.109764e+05</td>\n",
       "    </tr>\n",
       "    <tr>\n",
       "      <th>3</th>\n",
       "      <td>959000.0</td>\n",
       "      <td>1.095980e+06</td>\n",
       "    </tr>\n",
       "    <tr>\n",
       "      <th>4</th>\n",
       "      <td>540000.0</td>\n",
       "      <td>1.380984e+06</td>\n",
       "    </tr>\n",
       "    <tr>\n",
       "      <th>5</th>\n",
       "      <td>1602500.0</td>\n",
       "      <td>1.095980e+06</td>\n",
       "    </tr>\n",
       "    <tr>\n",
       "      <th>6</th>\n",
       "      <td>2300000.0</td>\n",
       "      <td>1.095980e+06</td>\n",
       "    </tr>\n",
       "    <tr>\n",
       "      <th>7</th>\n",
       "      <td>532000.0</td>\n",
       "      <td>8.109764e+05</td>\n",
       "    </tr>\n",
       "    <tr>\n",
       "      <th>8</th>\n",
       "      <td>850000.0</td>\n",
       "      <td>8.109764e+05</td>\n",
       "    </tr>\n",
       "    <tr>\n",
       "      <th>9</th>\n",
       "      <td>1170000.0</td>\n",
       "      <td>1.380984e+06</td>\n",
       "    </tr>\n",
       "    <tr>\n",
       "      <th>10</th>\n",
       "      <td>1755000.0</td>\n",
       "      <td>1.380984e+06</td>\n",
       "    </tr>\n",
       "    <tr>\n",
       "      <th>11</th>\n",
       "      <td>585000.0</td>\n",
       "      <td>1.380984e+06</td>\n",
       "    </tr>\n",
       "    <tr>\n",
       "      <th>12</th>\n",
       "      <td>1028000.0</td>\n",
       "      <td>1.380984e+06</td>\n",
       "    </tr>\n",
       "    <tr>\n",
       "      <th>13</th>\n",
       "      <td>1360000.0</td>\n",
       "      <td>1.665988e+06</td>\n",
       "    </tr>\n",
       "    <tr>\n",
       "      <th>14</th>\n",
       "      <td>1440000.0</td>\n",
       "      <td>1.095980e+06</td>\n",
       "    </tr>\n",
       "    <tr>\n",
       "      <th>15</th>\n",
       "      <td>1390000.0</td>\n",
       "      <td>1.095980e+06</td>\n",
       "    </tr>\n",
       "    <tr>\n",
       "      <th>16</th>\n",
       "      <td>910000.0</td>\n",
       "      <td>8.109764e+05</td>\n",
       "    </tr>\n",
       "    <tr>\n",
       "      <th>17</th>\n",
       "      <td>890000.0</td>\n",
       "      <td>1.095980e+06</td>\n",
       "    </tr>\n",
       "    <tr>\n",
       "      <th>18</th>\n",
       "      <td>1495000.0</td>\n",
       "      <td>1.095980e+06</td>\n",
       "    </tr>\n",
       "    <tr>\n",
       "      <th>19</th>\n",
       "      <td>1131000.0</td>\n",
       "      <td>1.095980e+06</td>\n",
       "    </tr>\n",
       "    <tr>\n",
       "      <th>20</th>\n",
       "      <td>1950000.0</td>\n",
       "      <td>1.095980e+06</td>\n",
       "    </tr>\n",
       "    <tr>\n",
       "      <th>21</th>\n",
       "      <td>1732000.0</td>\n",
       "      <td>1.095980e+06</td>\n",
       "    </tr>\n",
       "    <tr>\n",
       "      <th>22</th>\n",
       "      <td>900000.0</td>\n",
       "      <td>1.095980e+06</td>\n",
       "    </tr>\n",
       "    <tr>\n",
       "      <th>23</th>\n",
       "      <td>630000.0</td>\n",
       "      <td>1.095980e+06</td>\n",
       "    </tr>\n",
       "    <tr>\n",
       "      <th>24</th>\n",
       "      <td>833000.0</td>\n",
       "      <td>1.095980e+06</td>\n",
       "    </tr>\n",
       "    <tr>\n",
       "      <th>25</th>\n",
       "      <td>604000.0</td>\n",
       "      <td>1.095980e+06</td>\n",
       "    </tr>\n",
       "    <tr>\n",
       "      <th>26</th>\n",
       "      <td>1191000.0</td>\n",
       "      <td>8.109764e+05</td>\n",
       "    </tr>\n",
       "    <tr>\n",
       "      <th>27</th>\n",
       "      <td>835000.0</td>\n",
       "      <td>8.109764e+05</td>\n",
       "    </tr>\n",
       "    <tr>\n",
       "      <th>28</th>\n",
       "      <td>1250000.0</td>\n",
       "      <td>1.095980e+06</td>\n",
       "    </tr>\n",
       "    <tr>\n",
       "      <th>29</th>\n",
       "      <td>2160000.0</td>\n",
       "      <td>1.095980e+06</td>\n",
       "    </tr>\n",
       "  </tbody>\n",
       "</table>\n",
       "</div>"
      ],
      "text/plain": [
       "       Actual     Predicted\n",
       "0    990000.0  8.109764e+05\n",
       "1    650000.0  8.109764e+05\n",
       "2    434500.0  8.109764e+05\n",
       "3    959000.0  1.095980e+06\n",
       "4    540000.0  1.380984e+06\n",
       "5   1602500.0  1.095980e+06\n",
       "6   2300000.0  1.095980e+06\n",
       "7    532000.0  8.109764e+05\n",
       "8    850000.0  8.109764e+05\n",
       "9   1170000.0  1.380984e+06\n",
       "10  1755000.0  1.380984e+06\n",
       "11   585000.0  1.380984e+06\n",
       "12  1028000.0  1.380984e+06\n",
       "13  1360000.0  1.665988e+06\n",
       "14  1440000.0  1.095980e+06\n",
       "15  1390000.0  1.095980e+06\n",
       "16   910000.0  8.109764e+05\n",
       "17   890000.0  1.095980e+06\n",
       "18  1495000.0  1.095980e+06\n",
       "19  1131000.0  1.095980e+06\n",
       "20  1950000.0  1.095980e+06\n",
       "21  1732000.0  1.095980e+06\n",
       "22   900000.0  1.095980e+06\n",
       "23   630000.0  1.095980e+06\n",
       "24   833000.0  1.095980e+06\n",
       "25   604000.0  1.095980e+06\n",
       "26  1191000.0  8.109764e+05\n",
       "27   835000.0  8.109764e+05\n",
       "28  1250000.0  1.095980e+06\n",
       "29  2160000.0  1.095980e+06"
      ]
     },
     "execution_count": 81,
     "metadata": {},
     "output_type": "execute_result"
    }
   ],
   "source": [
    "# Create a dataframe comparing the actual and predicted values of y.\n",
    "\n",
    "data = pd.DataFrame({'Actual': y_test_3.flatten(), 'Predicted': y_predicted_3.flatten()})\n",
    "data.head(30)"
   ]
  },
  {
   "cell_type": "markdown",
   "id": "4a28d9e3",
   "metadata": {},
   "source": [
    "##### Compare how the regression fits the training set"
   ]
  },
  {
   "cell_type": "code",
   "execution_count": 82,
   "id": "aa7901ff",
   "metadata": {},
   "outputs": [],
   "source": [
    "# Predict.\n",
    "\n",
    "y_predicted_train_3 = regression.predict(X_train_3) # This is predicting X_train!"
   ]
  },
  {
   "cell_type": "code",
   "execution_count": 83,
   "id": "2e16e96b",
   "metadata": {},
   "outputs": [],
   "source": [
    "rmse = mean_squared_error(y_train_3, y_predicted_train_3)\n",
    "r2 = r2_score(y_train_3, y_predicted_train_3)"
   ]
  },
  {
   "cell_type": "code",
   "execution_count": 84,
   "id": "1dc07886",
   "metadata": {},
   "outputs": [
    {
     "name": "stdout",
     "output_type": "stream",
     "text": [
      "Slope: [[285003.80938199]]\n",
      "Mean squared error:  348381211732.57745\n",
      "R2 score:  0.14872013301094744\n"
     ]
    }
   ],
   "source": [
    "print('Slope:' ,regression.coef_)\n",
    "print('Mean squared error: ', rmse)\n",
    "print('R2 score: ', r2)"
   ]
  },
  {
   "cell_type": "markdown",
   "id": "b32145b4",
   "metadata": {},
   "source": [
    "The model fits the training set only slightly better than the test set (confirmed by an R2 score of 0.14). This means there is no overfit of the model. However, it also confirms that the relationship is not purely linear."
   ]
  },
  {
   "cell_type": "code",
   "execution_count": 85,
   "id": "fc3d3de1",
   "metadata": {},
   "outputs": [
    {
     "data": {
      "image/png": "[encoded data removed]",
      "text/plain": [
       "<Figure size 432x288 with 1 Axes>"
      ]
     },
     "metadata": {
      "needs_background": "light"
     },
     "output_type": "display_data"
    }
   ],
   "source": [
    "# Visualizing the training set results.\n",
    "\n",
    "plot_test = plt\n",
    "plot_test.scatter(X_train_3, y_train_3, color='green', s = 15)\n",
    "plot_test.plot(X_train_3, y_predicted_train_3, color='red', linewidth =3)\n",
    "plot_test.title('Num of Rooms vs Price (Test set)')\n",
    "plot_test.xlabel('Num of Rooms')\n",
    "plot_test.ylabel('Price')\n",
    "plot_test.show()"
   ]
  },
  {
   "cell_type": "markdown",
   "id": "217fe5c3",
   "metadata": {},
   "source": [
    "#### Distance to CBD vs Price"
   ]
  },
  {
   "cell_type": "code",
   "execution_count": 117,
   "id": "11f04781",
   "metadata": {},
   "outputs": [],
   "source": [
    "df_housing_clean.dropna(inplace=True)"
   ]
  },
  {
   "cell_type": "code",
   "execution_count": 118,
   "id": "e1fdb030",
   "metadata": {},
   "outputs": [],
   "source": [
    "X_4e = df_housing_clean['Distance to CBD']\n",
    "y_4e = df_housing_clean['Price']\n",
    "\n",
    "X_4exp = np.array(X_4e)\n",
    "y_4exp = np.array(y_4e)\n",
    "\n",
    "# X_4 = df_housing_clean['Distance to CBD'].values.reshape(-1,1)\n",
    "# y_4 = df_housing_clean['Price'].values.reshape(-1,1)"
   ]
  },
  {
   "cell_type": "code",
   "execution_count": 119,
   "id": "ce463c3d",
   "metadata": {},
   "outputs": [
    {
     "data": {
      "text/plain": [
       "array([2.5, 2.5, 2.5, ..., 6.3, 6.3, 6.3])"
      ]
     },
     "execution_count": 119,
     "metadata": {},
     "output_type": "execute_result"
    }
   ],
   "source": [
    "X_4exp"
   ]
  },
  {
   "cell_type": "code",
   "execution_count": 120,
   "id": "e5c78b3a",
   "metadata": {},
   "outputs": [
    {
     "data": {
      "text/plain": [
       "array([1035000., 1465000., 1600000., ...,  888000.,  705000., 1020000.])"
      ]
     },
     "execution_count": 120,
     "metadata": {},
     "output_type": "execute_result"
    }
   ],
   "source": [
    "y_4exp"
   ]
  },
  {
   "cell_type": "code",
   "execution_count": null,
   "id": "00de5d47",
   "metadata": {},
   "outputs": [],
   "source": []
  },
  {
   "cell_type": "code",
   "execution_count": null,
   "id": "a6c71b26",
   "metadata": {},
   "outputs": [],
   "source": []
  },
  {
   "cell_type": "code",
   "execution_count": 121,
   "id": "759e2957",
   "metadata": {},
   "outputs": [
    {
     "name": "stderr",
     "output_type": "stream",
     "text": [
      "C:\\Users\\AMYYIP~1\\AppData\\Local\\Temp/ipykernel_8684/3654609468.py:2: RuntimeWarning: divide by zero encountered in log\n",
      "  np.polyfit(np.log(X_4exp), y_4exp, 1)\n"
     ]
    },
    {
     "ename": "LinAlgError",
     "evalue": "SVD did not converge in Linear Least Squares",
     "output_type": "error",
     "traceback": [
      "\u001b[1;31m---------------------------------------------------------------------------\u001b[0m",
      "\u001b[1;31mLinAlgError\u001b[0m                               Traceback (most recent call last)",
      "\u001b[1;32mC:\\Users\\AMYYIP~1\\AppData\\Local\\Temp/ipykernel_8684/3654609468.py\u001b[0m in \u001b[0;36m<module>\u001b[1;34m\u001b[0m\n\u001b[0;32m      1\u001b[0m \u001b[1;31m# Exponential Regression\u001b[0m\u001b[1;33m\u001b[0m\u001b[1;33m\u001b[0m\u001b[0m\n\u001b[1;32m----> 2\u001b[1;33m \u001b[0mnp\u001b[0m\u001b[1;33m.\u001b[0m\u001b[0mpolyfit\u001b[0m\u001b[1;33m(\u001b[0m\u001b[0mnp\u001b[0m\u001b[1;33m.\u001b[0m\u001b[0mlog\u001b[0m\u001b[1;33m(\u001b[0m\u001b[0mX_4exp\u001b[0m\u001b[1;33m)\u001b[0m\u001b[1;33m,\u001b[0m \u001b[0my_4exp\u001b[0m\u001b[1;33m,\u001b[0m \u001b[1;36m1\u001b[0m\u001b[1;33m)\u001b[0m\u001b[1;33m\u001b[0m\u001b[1;33m\u001b[0m\u001b[0m\n\u001b[0m",
      "\u001b[1;32m<__array_function__ internals>\u001b[0m in \u001b[0;36mpolyfit\u001b[1;34m(*args, **kwargs)\u001b[0m\n",
      "\u001b[1;32m~\\anaconda3\\lib\\site-packages\\numpy\\lib\\polynomial.py\u001b[0m in \u001b[0;36mpolyfit\u001b[1;34m(x, y, deg, rcond, full, w, cov)\u001b[0m\n\u001b[0;32m    658\u001b[0m     \u001b[0mscale\u001b[0m \u001b[1;33m=\u001b[0m \u001b[0mNX\u001b[0m\u001b[1;33m.\u001b[0m\u001b[0msqrt\u001b[0m\u001b[1;33m(\u001b[0m\u001b[1;33m(\u001b[0m\u001b[0mlhs\u001b[0m\u001b[1;33m*\u001b[0m\u001b[0mlhs\u001b[0m\u001b[1;33m)\u001b[0m\u001b[1;33m.\u001b[0m\u001b[0msum\u001b[0m\u001b[1;33m(\u001b[0m\u001b[0maxis\u001b[0m\u001b[1;33m=\u001b[0m\u001b[1;36m0\u001b[0m\u001b[1;33m)\u001b[0m\u001b[1;33m)\u001b[0m\u001b[1;33m\u001b[0m\u001b[1;33m\u001b[0m\u001b[0m\n\u001b[0;32m    659\u001b[0m     \u001b[0mlhs\u001b[0m \u001b[1;33m/=\u001b[0m \u001b[0mscale\u001b[0m\u001b[1;33m\u001b[0m\u001b[1;33m\u001b[0m\u001b[0m\n\u001b[1;32m--> 660\u001b[1;33m     \u001b[0mc\u001b[0m\u001b[1;33m,\u001b[0m \u001b[0mresids\u001b[0m\u001b[1;33m,\u001b[0m \u001b[0mrank\u001b[0m\u001b[1;33m,\u001b[0m \u001b[0ms\u001b[0m \u001b[1;33m=\u001b[0m \u001b[0mlstsq\u001b[0m\u001b[1;33m(\u001b[0m\u001b[0mlhs\u001b[0m\u001b[1;33m,\u001b[0m \u001b[0mrhs\u001b[0m\u001b[1;33m,\u001b[0m \u001b[0mrcond\u001b[0m\u001b[1;33m)\u001b[0m\u001b[1;33m\u001b[0m\u001b[1;33m\u001b[0m\u001b[0m\n\u001b[0m\u001b[0;32m    661\u001b[0m     \u001b[0mc\u001b[0m \u001b[1;33m=\u001b[0m \u001b[1;33m(\u001b[0m\u001b[0mc\u001b[0m\u001b[1;33m.\u001b[0m\u001b[0mT\u001b[0m\u001b[1;33m/\u001b[0m\u001b[0mscale\u001b[0m\u001b[1;33m)\u001b[0m\u001b[1;33m.\u001b[0m\u001b[0mT\u001b[0m  \u001b[1;31m# broadcast scale coefficients\u001b[0m\u001b[1;33m\u001b[0m\u001b[1;33m\u001b[0m\u001b[0m\n\u001b[0;32m    662\u001b[0m \u001b[1;33m\u001b[0m\u001b[0m\n",
      "\u001b[1;32m<__array_function__ internals>\u001b[0m in \u001b[0;36mlstsq\u001b[1;34m(*args, **kwargs)\u001b[0m\n",
      "\u001b[1;32m~\\anaconda3\\lib\\site-packages\\numpy\\linalg\\linalg.py\u001b[0m in \u001b[0;36mlstsq\u001b[1;34m(a, b, rcond)\u001b[0m\n\u001b[0;32m   2303\u001b[0m         \u001b[1;31m# lapack can't handle n_rhs = 0 - so allocate the array one larger in that axis\u001b[0m\u001b[1;33m\u001b[0m\u001b[1;33m\u001b[0m\u001b[0m\n\u001b[0;32m   2304\u001b[0m         \u001b[0mb\u001b[0m \u001b[1;33m=\u001b[0m \u001b[0mzeros\u001b[0m\u001b[1;33m(\u001b[0m\u001b[0mb\u001b[0m\u001b[1;33m.\u001b[0m\u001b[0mshape\u001b[0m\u001b[1;33m[\u001b[0m\u001b[1;33m:\u001b[0m\u001b[1;33m-\u001b[0m\u001b[1;36m2\u001b[0m\u001b[1;33m]\u001b[0m \u001b[1;33m+\u001b[0m \u001b[1;33m(\u001b[0m\u001b[0mm\u001b[0m\u001b[1;33m,\u001b[0m \u001b[0mn_rhs\u001b[0m \u001b[1;33m+\u001b[0m \u001b[1;36m1\u001b[0m\u001b[1;33m)\u001b[0m\u001b[1;33m,\u001b[0m \u001b[0mdtype\u001b[0m\u001b[1;33m=\u001b[0m\u001b[0mb\u001b[0m\u001b[1;33m.\u001b[0m\u001b[0mdtype\u001b[0m\u001b[1;33m)\u001b[0m\u001b[1;33m\u001b[0m\u001b[1;33m\u001b[0m\u001b[0m\n\u001b[1;32m-> 2305\u001b[1;33m     \u001b[0mx\u001b[0m\u001b[1;33m,\u001b[0m \u001b[0mresids\u001b[0m\u001b[1;33m,\u001b[0m \u001b[0mrank\u001b[0m\u001b[1;33m,\u001b[0m \u001b[0ms\u001b[0m \u001b[1;33m=\u001b[0m \u001b[0mgufunc\u001b[0m\u001b[1;33m(\u001b[0m\u001b[0ma\u001b[0m\u001b[1;33m,\u001b[0m \u001b[0mb\u001b[0m\u001b[1;33m,\u001b[0m \u001b[0mrcond\u001b[0m\u001b[1;33m,\u001b[0m \u001b[0msignature\u001b[0m\u001b[1;33m=\u001b[0m\u001b[0msignature\u001b[0m\u001b[1;33m,\u001b[0m \u001b[0mextobj\u001b[0m\u001b[1;33m=\u001b[0m\u001b[0mextobj\u001b[0m\u001b[1;33m)\u001b[0m\u001b[1;33m\u001b[0m\u001b[1;33m\u001b[0m\u001b[0m\n\u001b[0m\u001b[0;32m   2306\u001b[0m     \u001b[1;32mif\u001b[0m \u001b[0mm\u001b[0m \u001b[1;33m==\u001b[0m \u001b[1;36m0\u001b[0m\u001b[1;33m:\u001b[0m\u001b[1;33m\u001b[0m\u001b[1;33m\u001b[0m\u001b[0m\n\u001b[0;32m   2307\u001b[0m         \u001b[0mx\u001b[0m\u001b[1;33m[\u001b[0m\u001b[1;33m...\u001b[0m\u001b[1;33m]\u001b[0m \u001b[1;33m=\u001b[0m \u001b[1;36m0\u001b[0m\u001b[1;33m\u001b[0m\u001b[1;33m\u001b[0m\u001b[0m\n",
      "\u001b[1;32m~\\anaconda3\\lib\\site-packages\\numpy\\linalg\\linalg.py\u001b[0m in \u001b[0;36m_raise_linalgerror_lstsq\u001b[1;34m(err, flag)\u001b[0m\n\u001b[0;32m     98\u001b[0m \u001b[1;33m\u001b[0m\u001b[0m\n\u001b[0;32m     99\u001b[0m \u001b[1;32mdef\u001b[0m \u001b[0m_raise_linalgerror_lstsq\u001b[0m\u001b[1;33m(\u001b[0m\u001b[0merr\u001b[0m\u001b[1;33m,\u001b[0m \u001b[0mflag\u001b[0m\u001b[1;33m)\u001b[0m\u001b[1;33m:\u001b[0m\u001b[1;33m\u001b[0m\u001b[1;33m\u001b[0m\u001b[0m\n\u001b[1;32m--> 100\u001b[1;33m     \u001b[1;32mraise\u001b[0m \u001b[0mLinAlgError\u001b[0m\u001b[1;33m(\u001b[0m\u001b[1;34m\"SVD did not converge in Linear Least Squares\"\u001b[0m\u001b[1;33m)\u001b[0m\u001b[1;33m\u001b[0m\u001b[1;33m\u001b[0m\u001b[0m\n\u001b[0m\u001b[0;32m    101\u001b[0m \u001b[1;33m\u001b[0m\u001b[0m\n\u001b[0;32m    102\u001b[0m \u001b[1;32mdef\u001b[0m \u001b[0mget_linalg_error_extobj\u001b[0m\u001b[1;33m(\u001b[0m\u001b[0mcallback\u001b[0m\u001b[1;33m)\u001b[0m\u001b[1;33m:\u001b[0m\u001b[1;33m\u001b[0m\u001b[1;33m\u001b[0m\u001b[0m\n",
      "\u001b[1;31mLinAlgError\u001b[0m: SVD did not converge in Linear Least Squares"
     ]
    }
   ],
   "source": [
    "# Exponential Regression\n",
    "np.polyfit(np.log(X_4exp), y_4exp, 1)"
   ]
  },
  {
   "cell_type": "code",
   "execution_count": null,
   "id": "57ad30fc",
   "metadata": {},
   "outputs": [],
   "source": []
  },
  {
   "cell_type": "code",
   "execution_count": null,
   "id": "6646026b",
   "metadata": {},
   "outputs": [],
   "source": []
  },
  {
   "cell_type": "code",
   "execution_count": null,
   "id": "333c15dc",
   "metadata": {},
   "outputs": [],
   "source": []
  },
  {
   "cell_type": "code",
   "execution_count": null,
   "id": "3b3fdb37",
   "metadata": {},
   "outputs": [],
   "source": []
  },
  {
   "cell_type": "code",
   "execution_count": null,
   "id": "352a318b",
   "metadata": {},
   "outputs": [],
   "source": []
  },
  {
   "cell_type": "code",
   "execution_count": 86,
   "id": "e08f0acf",
   "metadata": {},
   "outputs": [],
   "source": [
    "# Create a regression object.\n",
    "\n",
    "regression = LinearRegression()  # This is the regression object, which will be fit onto the training set."
   ]
  },
  {
   "cell_type": "code",
   "execution_count": 87,
   "id": "5cec2e58",
   "metadata": {},
   "outputs": [
    {
     "data": {
      "text/plain": [
       "LinearRegression()"
      ]
     },
     "execution_count": 87,
     "metadata": {},
     "output_type": "execute_result"
    }
   ],
   "source": [
    "# Fit the regression object onto the training set.\n",
    "\n",
    "regression.fit(X_train_4, y_train_4)"
   ]
  },
  {
   "cell_type": "code",
   "execution_count": 88,
   "id": "ecd3ba41",
   "metadata": {},
   "outputs": [],
   "source": [
    "# Predict the values of y using X.\n",
    "\n",
    "y_predicted_4 = regression.predict(X_test_4)"
   ]
  },
  {
   "cell_type": "code",
   "execution_count": 89,
   "id": "6135231f",
   "metadata": {},
   "outputs": [
    {
     "data": {
      "image/png": "[encoded data removed]",
      "text/plain": [
       "<Figure size 432x288 with 1 Axes>"
      ]
     },
     "metadata": {
      "needs_background": "light"
     },
     "output_type": "display_data"
    }
   ],
   "source": [
    "# Create a plot that shows the regression line from the model on the test set.\n",
    "\n",
    "plot_test = plt\n",
    "plot_test.scatter(X_test_4, y_test_4, color='gray', s = 15)\n",
    "plot_test.plot(X_test_4, y_predicted_4, color='red', linewidth =3)\n",
    "plot_test.title('Distance to CBD vs Price (Test set)')\n",
    "plot_test.xlabel('Distance to CBD')\n",
    "plot_test.ylabel('Price')\n",
    "plot_test.show()"
   ]
  },
  {
   "cell_type": "code",
   "execution_count": 90,
   "id": "c999338a",
   "metadata": {},
   "outputs": [],
   "source": [
    "# Create objects that contain the model summary statistics.\n",
    "\n",
    "rmse = mean_squared_error(y_test_4, y_predicted_4) # This is the mean squared error\n",
    "r2 = r2_score(y_test_4, y_predicted_4) # This is the R2 score. "
   ]
  },
  {
   "cell_type": "code",
   "execution_count": 91,
   "id": "8691d45c",
   "metadata": {},
   "outputs": [
    {
     "name": "stdout",
     "output_type": "stream",
     "text": [
      "Slope: [[-33122.64119852]]\n",
      "Mean squared error:  383520060560.42847\n",
      "R2 score:  0.1157026948345099\n"
     ]
    }
   ],
   "source": [
    "# Print the model summary statistics. This is where you evaluate the performance of the model.\n",
    "\n",
    "print('Slope:' ,regression.coef_)\n",
    "print('Mean squared error: ', rmse)\n",
    "print('R2 score: ', r2)"
   ]
  },
  {
   "cell_type": "markdown",
   "id": "2888f949",
   "metadata": {},
   "source": [
    "R2 score or R squared is a metric that tells you how well the model explains the variance in the data. \n",
    "\n",
    "The R2 score for the model is 0.11 which is low meaning the model is not a great fit to be used in this correlation."
   ]
  },
  {
   "cell_type": "code",
   "execution_count": 92,
   "id": "27245fbc",
   "metadata": {},
   "outputs": [
    {
     "data": {
      "text/plain": [
       "array([[1102083.07623073],\n",
       "       [1052343.84842476],\n",
       "       [1167126.68182316],\n",
       "       ...,\n",
       "       [ 949039.29836619],\n",
       "       [ 968169.77059926],\n",
       "       [1423475.00974628]])"
      ]
     },
     "execution_count": 92,
     "metadata": {},
     "output_type": "execute_result"
    }
   ],
   "source": [
    "y_predicted"
   ]
  },
  {
   "cell_type": "code",
   "execution_count": 93,
   "id": "fea6f2d3",
   "metadata": {},
   "outputs": [
    {
     "data": {
      "text/html": [
       "<div>\n",
       "<style scoped>\n",
       "    .dataframe tbody tr th:only-of-type {\n",
       "        vertical-align: middle;\n",
       "    }\n",
       "\n",
       "    .dataframe tbody tr th {\n",
       "        vertical-align: top;\n",
       "    }\n",
       "\n",
       "    .dataframe thead th {\n",
       "        text-align: right;\n",
       "    }\n",
       "</style>\n",
       "<table border=\"1\" class=\"dataframe\">\n",
       "  <thead>\n",
       "    <tr style=\"text-align: right;\">\n",
       "      <th></th>\n",
       "      <th>Actual</th>\n",
       "      <th>Predicted</th>\n",
       "    </tr>\n",
       "  </thead>\n",
       "  <tbody>\n",
       "    <tr>\n",
       "      <th>0</th>\n",
       "      <td>990000.0</td>\n",
       "      <td>1.423001e+06</td>\n",
       "    </tr>\n",
       "    <tr>\n",
       "      <th>1</th>\n",
       "      <td>650000.0</td>\n",
       "      <td>1.167957e+06</td>\n",
       "    </tr>\n",
       "    <tr>\n",
       "      <th>2</th>\n",
       "      <td>434500.0</td>\n",
       "      <td>1.108336e+06</td>\n",
       "    </tr>\n",
       "    <tr>\n",
       "      <th>3</th>\n",
       "      <td>959000.0</td>\n",
       "      <td>1.406440e+06</td>\n",
       "    </tr>\n",
       "    <tr>\n",
       "      <th>4</th>\n",
       "      <td>540000.0</td>\n",
       "      <td>8.566039e+05</td>\n",
       "    </tr>\n",
       "    <tr>\n",
       "      <th>5</th>\n",
       "      <td>1602500.0</td>\n",
       "      <td>1.280574e+06</td>\n",
       "    </tr>\n",
       "    <tr>\n",
       "      <th>6</th>\n",
       "      <td>2300000.0</td>\n",
       "      <td>1.449499e+06</td>\n",
       "    </tr>\n",
       "    <tr>\n",
       "      <th>7</th>\n",
       "      <td>532000.0</td>\n",
       "      <td>1.247451e+06</td>\n",
       "    </tr>\n",
       "    <tr>\n",
       "      <th>8</th>\n",
       "      <td>850000.0</td>\n",
       "      <td>1.370005e+06</td>\n",
       "    </tr>\n",
       "    <tr>\n",
       "      <th>9</th>\n",
       "      <td>1170000.0</td>\n",
       "      <td>1.283886e+06</td>\n",
       "    </tr>\n",
       "    <tr>\n",
       "      <th>10</th>\n",
       "      <td>1755000.0</td>\n",
       "      <td>1.217641e+06</td>\n",
       "    </tr>\n",
       "    <tr>\n",
       "      <th>11</th>\n",
       "      <td>585000.0</td>\n",
       "      <td>8.566039e+05</td>\n",
       "    </tr>\n",
       "    <tr>\n",
       "      <th>12</th>\n",
       "      <td>1028000.0</td>\n",
       "      <td>1.005656e+06</td>\n",
       "    </tr>\n",
       "    <tr>\n",
       "      <th>13</th>\n",
       "      <td>1360000.0</td>\n",
       "      <td>1.227578e+06</td>\n",
       "    </tr>\n",
       "    <tr>\n",
       "      <th>14</th>\n",
       "      <td>1440000.0</td>\n",
       "      <td>1.366693e+06</td>\n",
       "    </tr>\n",
       "    <tr>\n",
       "      <th>15</th>\n",
       "      <td>1390000.0</td>\n",
       "      <td>1.386566e+06</td>\n",
       "    </tr>\n",
       "    <tr>\n",
       "      <th>16</th>\n",
       "      <td>910000.0</td>\n",
       "      <td>1.204392e+06</td>\n",
       "    </tr>\n",
       "    <tr>\n",
       "      <th>17</th>\n",
       "      <td>890000.0</td>\n",
       "      <td>1.267325e+06</td>\n",
       "    </tr>\n",
       "    <tr>\n",
       "      <th>18</th>\n",
       "      <td>1495000.0</td>\n",
       "      <td>1.452811e+06</td>\n",
       "    </tr>\n",
       "    <tr>\n",
       "      <th>19</th>\n",
       "      <td>1131000.0</td>\n",
       "      <td>1.273949e+06</td>\n",
       "    </tr>\n",
       "    <tr>\n",
       "      <th>20</th>\n",
       "      <td>1950000.0</td>\n",
       "      <td>1.217641e+06</td>\n",
       "    </tr>\n",
       "    <tr>\n",
       "      <th>21</th>\n",
       "      <td>1732000.0</td>\n",
       "      <td>1.194455e+06</td>\n",
       "    </tr>\n",
       "    <tr>\n",
       "      <th>22</th>\n",
       "      <td>900000.0</td>\n",
       "      <td>1.148083e+06</td>\n",
       "    </tr>\n",
       "    <tr>\n",
       "      <th>23</th>\n",
       "      <td>630000.0</td>\n",
       "      <td>1.326945e+06</td>\n",
       "    </tr>\n",
       "    <tr>\n",
       "      <th>24</th>\n",
       "      <td>833000.0</td>\n",
       "      <td>8.036077e+05</td>\n",
       "    </tr>\n",
       "    <tr>\n",
       "      <th>25</th>\n",
       "      <td>604000.0</td>\n",
       "      <td>9.294738e+05</td>\n",
       "    </tr>\n",
       "    <tr>\n",
       "      <th>26</th>\n",
       "      <td>1191000.0</td>\n",
       "      <td>1.055340e+06</td>\n",
       "    </tr>\n",
       "    <tr>\n",
       "      <th>27</th>\n",
       "      <td>835000.0</td>\n",
       "      <td>1.260700e+06</td>\n",
       "    </tr>\n",
       "    <tr>\n",
       "      <th>28</th>\n",
       "      <td>1250000.0</td>\n",
       "      <td>1.131522e+06</td>\n",
       "    </tr>\n",
       "    <tr>\n",
       "      <th>29</th>\n",
       "      <td>2160000.0</td>\n",
       "      <td>1.297135e+06</td>\n",
       "    </tr>\n",
       "  </tbody>\n",
       "</table>\n",
       "</div>"
      ],
      "text/plain": [
       "       Actual     Predicted\n",
       "0    990000.0  1.423001e+06\n",
       "1    650000.0  1.167957e+06\n",
       "2    434500.0  1.108336e+06\n",
       "3    959000.0  1.406440e+06\n",
       "4    540000.0  8.566039e+05\n",
       "5   1602500.0  1.280574e+06\n",
       "6   2300000.0  1.449499e+06\n",
       "7    532000.0  1.247451e+06\n",
       "8    850000.0  1.370005e+06\n",
       "9   1170000.0  1.283886e+06\n",
       "10  1755000.0  1.217641e+06\n",
       "11   585000.0  8.566039e+05\n",
       "12  1028000.0  1.005656e+06\n",
       "13  1360000.0  1.227578e+06\n",
       "14  1440000.0  1.366693e+06\n",
       "15  1390000.0  1.386566e+06\n",
       "16   910000.0  1.204392e+06\n",
       "17   890000.0  1.267325e+06\n",
       "18  1495000.0  1.452811e+06\n",
       "19  1131000.0  1.273949e+06\n",
       "20  1950000.0  1.217641e+06\n",
       "21  1732000.0  1.194455e+06\n",
       "22   900000.0  1.148083e+06\n",
       "23   630000.0  1.326945e+06\n",
       "24   833000.0  8.036077e+05\n",
       "25   604000.0  9.294738e+05\n",
       "26  1191000.0  1.055340e+06\n",
       "27   835000.0  1.260700e+06\n",
       "28  1250000.0  1.131522e+06\n",
       "29  2160000.0  1.297135e+06"
      ]
     },
     "execution_count": 93,
     "metadata": {},
     "output_type": "execute_result"
    }
   ],
   "source": [
    "# Create a dataframe comparing the actual and predicted values of y.\n",
    "\n",
    "data = pd.DataFrame({'Actual': y_test_4.flatten(), 'Predicted': y_predicted_4.flatten()})\n",
    "data.head(30)"
   ]
  },
  {
   "cell_type": "markdown",
   "id": "cb49ed11",
   "metadata": {},
   "source": [
    "##### Compare how the regression fits the training set"
   ]
  },
  {
   "cell_type": "code",
   "execution_count": 94,
   "id": "4c30edc1",
   "metadata": {},
   "outputs": [],
   "source": [
    "# Predict.\n",
    "\n",
    "y_predicted_train_4 = regression.predict(X_train_4) # This is predicting X_train!"
   ]
  },
  {
   "cell_type": "code",
   "execution_count": 95,
   "id": "ca1de107",
   "metadata": {},
   "outputs": [],
   "source": [
    "rmse = mean_squared_error(y_train_4, y_predicted_train_4)\n",
    "r2 = r2_score(y_train_4, y_predicted_train_4)"
   ]
  },
  {
   "cell_type": "code",
   "execution_count": 96,
   "id": "da49aab0",
   "metadata": {},
   "outputs": [
    {
     "name": "stdout",
     "output_type": "stream",
     "text": [
      "Slope: [[-33122.64119852]]\n",
      "Mean squared error:  362599370967.4917\n",
      "R2 score:  0.11397763744945344\n"
     ]
    }
   ],
   "source": [
    "print('Slope:' ,regression.coef_)\n",
    "print('Mean squared error: ', rmse)\n",
    "print('R2 score: ', r2)"
   ]
  },
  {
   "cell_type": "markdown",
   "id": "12bd3040",
   "metadata": {},
   "source": [
    "The model fits the training set only slightly better than the test set (confirmed by an R2 score of 0.11). This means there is no overfit of the model. However, it also confirms that the relationship is not purely linear."
   ]
  },
  {
   "cell_type": "code",
   "execution_count": 97,
   "id": "4fdf5f63",
   "metadata": {},
   "outputs": [
    {
     "data": {
      "image/png": "[encoded data removed]",
      "text/plain": [
       "<Figure size 432x288 with 1 Axes>"
      ]
     },
     "metadata": {
      "needs_background": "light"
     },
     "output_type": "display_data"
    }
   ],
   "source": [
    "# Visualizing the training set results.\n",
    "\n",
    "plot_test = plt\n",
    "plot_test.scatter(X_train_4, y_train_4, color='green', s = 15)\n",
    "plot_test.plot(X_train_4, y_predicted_train_4, color='red', linewidth =3)\n",
    "plot_test.title('Distance to CBD vs Price (Test set)')\n",
    "plot_test.xlabel('Distance to CBD')\n",
    "plot_test.ylabel('Price')\n",
    "plot_test.show()"
   ]
  },
  {
   "cell_type": "markdown",
   "id": "ff5cea6a",
   "metadata": {},
   "source": [
    "## 05. Thoughts on how well the model performed on the test set"
   ]
  },
  {
   "cell_type": "markdown",
   "id": "cc73b523",
   "metadata": {},
   "source": [
    "##### Recap Hypotheses:\n",
    "- The larger the property area size, the higher the price.\n",
    "- The larger higher number of bathrooms in a property, the higher the price.\n",
    "- The larger higher number of rooms in a property, the higher the price.\n",
    "- The shorter the property distance to CBD, the higher the price.\n",
    "\n",
    "From the linear regression analysis, it can be confirmed that the model is not quite accurate as observed from the low r squared values across the relationships explored in this notebook. This means the hypotheses are only partially true. There are still a lot of variances in the data that cannot be explained by the linear relationship between the variables. \n",
    "\n",
    "However, property area size, number of bathrooms, number of rooms, and distance to CBD are still important factors in price formation. It is just one variable alone is not sufficient for pricing prediction. Property pricing are affected by many factors, not just one, therefore multiple variables regression is most likely to be more suitable for modelling this analysis.\n",
    "I will need to explore multi-variable regression in order to accurately predict pricing.\n",
    "\n",
    "One thing to note is, there is sampling bias in the data set. In reality, there are not many properties that have large number of bathrooms and rooms for sale or available in the market, hence there are fewer data points for properties that have large bathroom and room numbers. As a result, there are not enough data samples covering these scenarios for us to accurately to make inferences and predictions on."
   ]
  }
 ],
 "metadata": {
  "kernelspec": {
   "display_name": "Python 3 (ipykernel)",
   "language": "python",
   "name": "python3"
  },
  "language_info": {
   "codemirror_mode": {
    "name": "ipython",
    "version": 3
   },
   "file_extension": ".py",
   "mimetype": "text/x-python",
   "name": "python",
   "nbconvert_exporter": "python",
   "pygments_lexer": "ipython3",
   "version": "3.9.7"
  }
 },
 "nbformat": 4,
 "nbformat_minor": 5
}
